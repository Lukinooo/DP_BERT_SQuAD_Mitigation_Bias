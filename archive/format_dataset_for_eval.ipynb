{
 "cells": [
  {
   "cell_type": "code",
   "execution_count": 1,
   "metadata": {},
   "outputs": [],
   "source": [
    "import pandas as pd\n",
    "import json\n",
    "from tqdm import tqdm"
   ]
  },
  {
   "cell_type": "code",
   "execution_count": 2,
   "metadata": {},
   "outputs": [],
   "source": [
    "df = pd.read_json('./triviaqa_dev.json')"
   ]
  },
  {
   "cell_type": "code",
   "execution_count": 3,
   "metadata": {},
   "outputs": [
    {
     "data": {
      "text/plain": [
       "list"
      ]
     },
     "execution_count": 3,
     "metadata": {},
     "output_type": "execute_result"
    }
   ],
   "source": [
    "type(df['data'][0]['paragraphs'])"
   ]
  },
  {
   "cell_type": "code",
   "execution_count": 4,
   "metadata": {},
   "outputs": [],
   "source": [
    "json1_file = open('./triviaqa_dev.json')\n",
    "json1_str = json1_file.read()\n",
    "jason = json.loads(json1_str)\n"
   ]
  },
  {
   "cell_type": "code",
   "execution_count": 5,
   "metadata": {},
   "outputs": [
    {
     "data": {
      "text/plain": [
       "{'context': \"Andrew Lloyd Webber , Baron Lloyd-Webber ( born 22 March 1948 ) is an English composer and impresario of musical theatre . \\n \\n Several of his musicals have run for more than a decade both in the West End and on Broadway . He has composed 13 musicals , a song cycle , a set of variations , two film scores , and a Latin Requiem Mass . Several of his songs have been widely recorded and were hits outside of their parent musicals , notably `` The Music of the Night '' from The Phantom of the Opera , `` I Do n't Know How to Love Him '' from Jesus Christ Superstar , `` Do n't Cry for Me , Argentina '' and `` You Must Love Me '' from Evita , `` Any Dream Will Do '' from Joseph and the Amazing Technicolor Dreamcoat and `` Memory '' from Cats . \\n \\n He has received a number of awards , including a knighthood in 1992 , followed by a peerage from Queen Elizabeth II for services to Music , seven Tonys , three Grammys ( as well as the Grammy Legend Award ) , an Academy Award , fourteen Ivor Novello Awards , seven Olivier Awards , a Golden Globe , a Brit Award , the 2006 Kennedy Center Honors , and the 2008 Classic Brit Award for Outstanding Contribution to Music . He has a star on the Hollywood Walk of Fame , is an inductee into the Songwriter 's Hall of Fame , and is a fellow of the British Academy of Songwriters , Composers and Authors . \\n \\n His company , the Really Useful Group , is one of the largest theatre operators in London . Producers in several parts of the UK have staged productions , including national tours , of the Lloyd Webber musicals under licence from the Really Useful Group . Lloyd Webber is also the president of the Arts Educational Schools London , a performing arts school located in Chiswick , West London . He is involved in a number of charitable activities , including the Elton John AIDS Foundation , Nordoff Robbins , Prostate Cancer UK and War Child . In 1992 he set up the Andrew Lloyd Webber Foundation which supports the arts , culture and heritage in the UK . \\n \\n Early life \\n \\n Andrew Lloyd Webber was born in Kensington , London , the elder son of William Lloyd Webber ( 1914–1982 ) , a composer and organist , and Jean Hermione Johnstone ( 1921–1993 ) , a violinist and pianist . His younger brother , Julian Lloyd Webber , is a renowned solo cellist . \\n \\n Lloyd Webber started writing his own music at a young age , a suite of six pieces at the age of nine . He also put on `` productions '' with Julian and his Aunt Viola in his toy theatre ( which he built at Viola 's suggestion ) . Later , he would be the owner of a number of West End theatres , including the Palace . His aunt Viola , an actress , took him to see many of her shows and through the stage door into the world of the theatre . He also had originally set music to Old Possum 's Book of Practical Cats at the age of 15 . \\n \\n In 1965 , Lloyd Webber was a Queen 's Scholar at Westminster School and studied history for a term at Magdalen College , Oxford , although he abandoned the course in Winter 1965 to study at the Royal College of Music and pursue his interest in musical theatre . \\n \\n Professional career \\n \\n Early years \\n \\n Lloyd Webber 's first collaboration with lyricist Tim Rice was The Likes of Us , a musical based on the true story of Thomas John Barnardo . Although composed in 1965 , it was not publicly performed until 2005 , when a production was staged at Lloyd Webber 's Sydmonton Festival . In 2008 , amateur rights were released by the National Operatic and Dramatic Association ( NODA ) in association with the Really Useful Group . The first amateur performance was by a children 's theatre group in Cornwall called `` Kidz R Us '' . Stylistically , The Likes of Us is fashioned after the Broadway musical of the 1940s and 1950s ; it opens with a traditional overture comprising a medley of tunes from the show , and the score reflects some of Lloyd Webber 's early influences , particularly Richard Rodgers , Frederick Loewe , and Lionel Bart . In this respect , it is markedly different from the composer 's later\",\n",
       " 'qas': [{'answers': [],\n",
       "   'id': 'tc_33--Andrew_Lloyd_Webber.txt',\n",
       "   'is_impossible': True,\n",
       "   'question': 'Which Lloyd Webber musical premiered in the US on 10th December 1993?'}]}"
      ]
     },
     "execution_count": 5,
     "metadata": {},
     "output_type": "execute_result"
    }
   ],
   "source": [
    "jason['data'][0]['paragraphs'][0]"
   ]
  },
  {
   "cell_type": "code",
   "execution_count": 6,
   "metadata": {},
   "outputs": [
    {
     "data": {
      "text/plain": [
       "\"Andrew Lloyd Webber , Baron Lloyd-Webber ( born 22 March 1948 ) is an English composer and impresario of musical theatre . \\n \\n Several of his musicals have run for more than a decade both in the West End and on Broadway . He has composed 13 musicals , a song cycle , a set of variations , two film scores , and a Latin Requiem Mass . Several of his songs have been widely recorded and were hits outside of their parent musicals , notably `` The Music of the Night '' from The Phantom of the Opera , `` I Do n't Know How to Love Him '' from Jesus Christ Superstar , `` Do n't Cry for Me , Argentina '' and `` You Must Love Me '' from Evita , `` Any Dream Will Do '' from Joseph and the Amazing Technicolor Dreamcoat and `` Memory '' from Cats . \\n \\n He has received a number of awards , including a knighthood in 1992 , followed by a peerage from Queen Elizabeth II for services to Music , seven Tonys , three Grammys ( as well as the Grammy Legend Award ) , an Academy Award , fourteen Ivor Novello Awards , seven Olivier Awards , a Golden Globe , a Brit Award , the 2006 Kennedy Center Honors , and the 2008 Classic Brit Award for Outstanding Contribution to Music . He has a star on the Hollywood Walk of Fame , is an inductee into the Songwriter 's Hall of Fame , and is a fellow of the British Academy of Songwriters , Composers and Authors . \\n \\n His company , the Really Useful Group , is one of the largest theatre operators in London . Producers in several parts of the UK have staged productions , including national tours , of the Lloyd Webber musicals under licence from the Really Useful Group . Lloyd Webber is also the president of the Arts Educational Schools London , a performing arts school located in Chiswick , West London . He is involved in a number of charitable activities , including the Elton John AIDS Foundation , Nordoff Robbins , Prostate Cancer UK and War Child . In 1992 he set up the Andrew Lloyd Webber Foundation which supports the arts , culture and heritage in the UK . \\n \\n Early life \\n \\n Andrew Lloyd Webber was born in Kensington , London , the elder son of William Lloyd Webber ( 1914–1982 ) , a composer and organist , and Jean Hermione Johnstone ( 1921–1993 ) , a violinist and pianist . His younger brother , Julian Lloyd Webber , is a renowned solo cellist . \\n \\n Lloyd Webber started writing his own music at a young age , a suite of six pieces at the age of nine . He also put on `` productions '' with Julian and his Aunt Viola in his toy theatre ( which he built at Viola 's suggestion ) . Later , he would be the owner of a number of West End theatres , including the Palace . His aunt Viola , an actress , took him to see many of her shows and through the stage door into the world of the theatre . He also had originally set music to Old Possum 's Book of Practical Cats at the age of 15 . \\n \\n In 1965 , Lloyd Webber was a Queen 's Scholar at Westminster School and studied history for a term at Magdalen College , Oxford , although he abandoned the course in Winter 1965 to study at the Royal College of Music and pursue his interest in musical theatre . \\n \\n Professional career \\n \\n Early years \\n \\n Lloyd Webber 's first collaboration with lyricist Tim Rice was The Likes of Us , a musical based on the true story of Thomas John Barnardo . Although composed in 1965 , it was not publicly performed until 2005 , when a production was staged at Lloyd Webber 's Sydmonton Festival . In 2008 , amateur rights were released by the National Operatic and Dramatic Association ( NODA ) in association with the Really Useful Group . The first amateur performance was by a children 's theatre group in Cornwall called `` Kidz R Us '' . Stylistically , The Likes of Us is fashioned after the Broadway musical of the 1940s and 1950s ; it opens with a traditional overture comprising a medley of tunes from the show , and the score reflects some of Lloyd Webber 's early influences , particularly Richard Rodgers , Frederick Loewe , and Lionel Bart . In this respect , it is markedly different from the composer 's later\""
      ]
     },
     "execution_count": 6,
     "metadata": {},
     "output_type": "execute_result"
    }
   ],
   "source": [
    "jason['data'][0]['paragraphs'][0]['context']"
   ]
  },
  {
   "cell_type": "code",
   "execution_count": 7,
   "metadata": {},
   "outputs": [
    {
     "data": {
      "text/plain": [
       "'Which Lloyd Webber musical premiered in the US on 10th December 1993?'"
      ]
     },
     "execution_count": 7,
     "metadata": {},
     "output_type": "execute_result"
    }
   ],
   "source": [
    "jason['data'][0]['paragraphs'][0]['qas'][0]['question']"
   ]
  },
  {
   "cell_type": "code",
   "execution_count": 8,
   "metadata": {},
   "outputs": [],
   "source": [
    "for ans in jason['data'][0]['paragraphs'][0]['qas'][0]['answers']:\n",
    "    print(ans['answer_start'])"
   ]
  },
  {
   "cell_type": "code",
   "execution_count": 9,
   "metadata": {},
   "outputs": [
    {
     "data": {
      "text/plain": [
       "True"
      ]
     },
     "execution_count": 9,
     "metadata": {},
     "output_type": "execute_result"
    }
   ],
   "source": [
    "jason['data'][0]['paragraphs'][0]['qas'][0]['is_impossible']"
   ]
  },
  {
   "cell_type": "code",
   "execution_count": 10,
   "metadata": {},
   "outputs": [
    {
     "data": {
      "text/plain": [
       "'tc_33--Andrew_Lloyd_Webber.txt'"
      ]
     },
     "execution_count": 10,
     "metadata": {},
     "output_type": "execute_result"
    }
   ],
   "source": [
    "jason['data'][0]['paragraphs'][0]['qas'][0]['id']"
   ]
  },
  {
   "cell_type": "code",
   "execution_count": 11,
   "metadata": {},
   "outputs": [
    {
     "name": "stderr",
     "output_type": "stream",
     "text": [
      "100%|██████████| 14229/14229 [00:00<00:00, 107529.01it/s]\n"
     ]
    }
   ],
   "source": [
    "questions = []\n",
    "answers = []\n",
    "contexts = []\n",
    "ids = []\n",
    "\n",
    "for i in tqdm(range(len(jason['data']))):\n",
    "    if not jason['data'][i]['paragraphs'][0]['qas'][0]['is_impossible']:\n",
    "        questions.append(jason['data'][i]['paragraphs'][0]['qas'][0]['question'])\n",
    "        contexts.append(jason['data'][i]['paragraphs'][0]['context'])\n",
    "        ids.append(jason['data'][i]['paragraphs'][0]['qas'][0]['id'])\n",
    "\n",
    "        ans_starts = []\n",
    "        ans_texts = []\n",
    "\n",
    "        for ans in jason['data'][i]['paragraphs'][0]['qas'][0]['answers']:\n",
    "            ans_starts.append(ans['answer_start'])\n",
    "            ans_texts.append(ans['text'])\n",
    "        answers.append({'text': ans_texts, 'answer_start': ans_starts})\n",
    "\n",
    "\n",
    "        \n"
   ]
  },
  {
   "cell_type": "code",
   "execution_count": 12,
   "metadata": {},
   "outputs": [],
   "source": [
    "df = pd.DataFrame(\n",
    "    {'id': ids,\n",
    "    'context': contexts,\n",
    "     'question': questions,\n",
    "     'answers': answers\n",
    "    })\n"
   ]
  },
  {
   "cell_type": "code",
   "execution_count": 13,
   "metadata": {},
   "outputs": [
    {
     "data": {
      "text/html": [
       "<div>\n",
       "<style scoped>\n",
       "    .dataframe tbody tr th:only-of-type {\n",
       "        vertical-align: middle;\n",
       "    }\n",
       "\n",
       "    .dataframe tbody tr th {\n",
       "        vertical-align: top;\n",
       "    }\n",
       "\n",
       "    .dataframe thead th {\n",
       "        text-align: right;\n",
       "    }\n",
       "</style>\n",
       "<table border=\"1\" class=\"dataframe\">\n",
       "  <thead>\n",
       "    <tr style=\"text-align: right;\">\n",
       "      <th></th>\n",
       "      <th>id</th>\n",
       "      <th>context</th>\n",
       "      <th>question</th>\n",
       "      <th>answers</th>\n",
       "    </tr>\n",
       "  </thead>\n",
       "  <tbody>\n",
       "    <tr>\n",
       "      <th>0</th>\n",
       "      <td>tc_49--Kiss_You_All_Over.txt</td>\n",
       "      <td>`` Kiss You All Over '' is a 1978 song perform...</td>\n",
       "      <td>Who had a 70s No 1 hit with Kiss You All Over?</td>\n",
       "      <td>{'text': ['Exile'], 'answer_start': [62]}</td>\n",
       "    </tr>\n",
       "    <tr>\n",
       "      <th>1</th>\n",
       "      <td>tc_56--Kathleen_Ferrier.txt</td>\n",
       "      <td>Kathleen Mary Ferrier , CBE ( 22 April 1912 - ...</td>\n",
       "      <td>What claimed the life of singer Kathleen Ferrier?</td>\n",
       "      <td>{'text': ['Cancer'], 'answer_start': [2488]}</td>\n",
       "    </tr>\n",
       "    <tr>\n",
       "      <th>2</th>\n",
       "      <td>tc_106--Lauren_Bacall.txt</td>\n",
       "      <td>Lauren Bacall ( , born Betty Joan Perske ; Sep...</td>\n",
       "      <td>Which actress was voted Miss Greenwich Village...</td>\n",
       "      <td>{'text': ['Bacall'], 'answer_start': [7]}</td>\n",
       "    </tr>\n",
       "    <tr>\n",
       "      <th>3</th>\n",
       "      <td>tc_137--Michael_Jackson.txt</td>\n",
       "      <td>Michael Joseph Jackson ( August 29 , 1958 – Ju...</td>\n",
       "      <td>What was the name of Michael Jackson's autobio...</td>\n",
       "      <td>{'text': ['moonwalk'], 'answer_start': [1508]}</td>\n",
       "    </tr>\n",
       "    <tr>\n",
       "      <th>4</th>\n",
       "      <td>tc_217--Tanzania.txt</td>\n",
       "      <td>Tanzania , This approximates the Kiswahili pro...</td>\n",
       "      <td>Which volcano in Tanzania is the highest mount...</td>\n",
       "      <td>{'text': ['Kilimanjaro'], 'answer_start': [478]}</td>\n",
       "    </tr>\n",
       "    <tr>\n",
       "      <th>...</th>\n",
       "      <td>...</td>\n",
       "      <td>...</td>\n",
       "      <td>...</td>\n",
       "      <td>...</td>\n",
       "    </tr>\n",
       "    <tr>\n",
       "      <th>9830</th>\n",
       "      <td>qg_4604--National_Guard_of_the_United_States.txt</td>\n",
       "      <td>The National Guard of the United States , part...</td>\n",
       "      <td>With a motto of Always Ready, Always There, wh...</td>\n",
       "      <td>{'text': ['National Guard'], 'answer_start': [4]}</td>\n",
       "    </tr>\n",
       "    <tr>\n",
       "      <th>9831</th>\n",
       "      <td>qg_4615--Whoville.txt</td>\n",
       "      <td>Whoville is a fictional town created by author...</td>\n",
       "      <td>Who tried to steal Christmas from the town of ...</td>\n",
       "      <td>{'text': ['Grinch'], 'answer_start': [161]}</td>\n",
       "    </tr>\n",
       "    <tr>\n",
       "      <th>9832</th>\n",
       "      <td>qg_4628--Winter_Wonderland.txt</td>\n",
       "      <td>`` Winter Wonderland '' is a winter song , pop...</td>\n",
       "      <td>What is the name of the parson mentioned in th...</td>\n",
       "      <td>{'text': ['Brown'], 'answer_start': [1908]}</td>\n",
       "    </tr>\n",
       "    <tr>\n",
       "      <th>9833</th>\n",
       "      <td>qg_4628--Frosty's_Winter_Wonderland.txt</td>\n",
       "      <td>Frosty 's Winter Wonderland is a 1976 animated...</td>\n",
       "      <td>What is the name of the parson mentioned in th...</td>\n",
       "      <td>{'text': ['Brown'], 'answer_start': [2032]}</td>\n",
       "    </tr>\n",
       "    <tr>\n",
       "      <th>9834</th>\n",
       "      <td>qg_4656--Horseshoes.txt</td>\n",
       "      <td>Horseshoes is an outdoor game played between t...</td>\n",
       "      <td>In what outdoor sport, sanctioned by the NHPA,...</td>\n",
       "      <td>{'text': ['Horseshoes'], 'answer_start': [0]}</td>\n",
       "    </tr>\n",
       "  </tbody>\n",
       "</table>\n",
       "<p>9835 rows × 4 columns</p>\n",
       "</div>"
      ],
      "text/plain": [
       "                                                    id  \\\n",
       "0                         tc_49--Kiss_You_All_Over.txt   \n",
       "1                          tc_56--Kathleen_Ferrier.txt   \n",
       "2                            tc_106--Lauren_Bacall.txt   \n",
       "3                          tc_137--Michael_Jackson.txt   \n",
       "4                                 tc_217--Tanzania.txt   \n",
       "...                                                ...   \n",
       "9830  qg_4604--National_Guard_of_the_United_States.txt   \n",
       "9831                             qg_4615--Whoville.txt   \n",
       "9832                    qg_4628--Winter_Wonderland.txt   \n",
       "9833           qg_4628--Frosty's_Winter_Wonderland.txt   \n",
       "9834                           qg_4656--Horseshoes.txt   \n",
       "\n",
       "                                                context  \\\n",
       "0     `` Kiss You All Over '' is a 1978 song perform...   \n",
       "1     Kathleen Mary Ferrier , CBE ( 22 April 1912 - ...   \n",
       "2     Lauren Bacall ( , born Betty Joan Perske ; Sep...   \n",
       "3     Michael Joseph Jackson ( August 29 , 1958 – Ju...   \n",
       "4     Tanzania , This approximates the Kiswahili pro...   \n",
       "...                                                 ...   \n",
       "9830  The National Guard of the United States , part...   \n",
       "9831  Whoville is a fictional town created by author...   \n",
       "9832  `` Winter Wonderland '' is a winter song , pop...   \n",
       "9833  Frosty 's Winter Wonderland is a 1976 animated...   \n",
       "9834  Horseshoes is an outdoor game played between t...   \n",
       "\n",
       "                                               question  \\\n",
       "0        Who had a 70s No 1 hit with Kiss You All Over?   \n",
       "1     What claimed the life of singer Kathleen Ferrier?   \n",
       "2     Which actress was voted Miss Greenwich Village...   \n",
       "3     What was the name of Michael Jackson's autobio...   \n",
       "4     Which volcano in Tanzania is the highest mount...   \n",
       "...                                                 ...   \n",
       "9830  With a motto of Always Ready, Always There, wh...   \n",
       "9831  Who tried to steal Christmas from the town of ...   \n",
       "9832  What is the name of the parson mentioned in th...   \n",
       "9833  What is the name of the parson mentioned in th...   \n",
       "9834  In what outdoor sport, sanctioned by the NHPA,...   \n",
       "\n",
       "                                                answers  \n",
       "0             {'text': ['Exile'], 'answer_start': [62]}  \n",
       "1          {'text': ['Cancer'], 'answer_start': [2488]}  \n",
       "2             {'text': ['Bacall'], 'answer_start': [7]}  \n",
       "3        {'text': ['moonwalk'], 'answer_start': [1508]}  \n",
       "4      {'text': ['Kilimanjaro'], 'answer_start': [478]}  \n",
       "...                                                 ...  \n",
       "9830  {'text': ['National Guard'], 'answer_start': [4]}  \n",
       "9831        {'text': ['Grinch'], 'answer_start': [161]}  \n",
       "9832        {'text': ['Brown'], 'answer_start': [1908]}  \n",
       "9833        {'text': ['Brown'], 'answer_start': [2032]}  \n",
       "9834      {'text': ['Horseshoes'], 'answer_start': [0]}  \n",
       "\n",
       "[9835 rows x 4 columns]"
      ]
     },
     "execution_count": 13,
     "metadata": {},
     "output_type": "execute_result"
    }
   ],
   "source": [
    "df"
   ]
  },
  {
   "cell_type": "code",
   "execution_count": 46,
   "metadata": {},
   "outputs": [],
   "source": [
    "df.to_json('./triviaqa_dev_formated.json', orient='records')"
   ]
  }
 ],
 "metadata": {
  "interpreter": {
   "hash": "c7a7a7019c9e0c1b9f0e0c3be70dc9924c7adf8b61dfc45d9a6a9f2f7a665204"
  },
  "kernelspec": {
   "display_name": "Python 3.7.9 ('base')",
   "language": "python",
   "name": "python3"
  },
  "language_info": {
   "codemirror_mode": {
    "name": "ipython",
    "version": 3
   },
   "file_extension": ".py",
   "mimetype": "text/x-python",
   "name": "python",
   "nbconvert_exporter": "python",
   "pygments_lexer": "ipython3",
   "version": "3.7.9"
  },
  "orig_nbformat": 4
 },
 "nbformat": 4,
 "nbformat_minor": 2
}
