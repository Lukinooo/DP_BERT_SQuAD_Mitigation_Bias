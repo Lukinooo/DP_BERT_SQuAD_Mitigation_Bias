{
 "cells": [
  {
   "cell_type": "markdown",
   "metadata": {},
   "source": [
    "## Measuring bias significance\n",
    "### Notebook for bootstrapping evaluation of evaluated dataset with computed heuristics"
   ]
  },
  {
   "cell_type": "markdown",
   "metadata": {},
   "source": [
    "### Imports"
   ]
  },
  {
   "cell_type": "code",
   "execution_count": 1,
   "metadata": {},
   "outputs": [
    {
     "name": "stdout",
     "output_type": "stream",
     "text": [
      "Requirement already satisfied: transformers in /home/luki/anaconda3/envs/env-QA/lib/python3.7/site-packages (4.19.1)\n",
      "Requirement already satisfied: datasets in /home/luki/anaconda3/envs/env-QA/lib/python3.7/site-packages (2.2.1)\n",
      "Requirement already satisfied: tqdm>=4.27 in /home/luki/anaconda3/envs/env-QA/lib/python3.7/site-packages (from transformers) (4.64.0)\n",
      "Requirement already satisfied: regex!=2019.12.17 in /home/luki/anaconda3/envs/env-QA/lib/python3.7/site-packages (from transformers) (2022.3.15)\n",
      "Requirement already satisfied: requests in /home/luki/anaconda3/envs/env-QA/lib/python3.7/site-packages (from transformers) (2.27.1)\n",
      "Requirement already satisfied: pyyaml>=5.1 in /home/luki/anaconda3/envs/env-QA/lib/python3.7/site-packages (from transformers) (6.0)\n",
      "Requirement already satisfied: tokenizers!=0.11.3,<0.13,>=0.11.1 in /home/luki/anaconda3/envs/env-QA/lib/python3.7/site-packages (from transformers) (0.12.1)\n",
      "Requirement already satisfied: numpy>=1.17 in /home/luki/anaconda3/envs/env-QA/lib/python3.7/site-packages (from transformers) (1.21.5)\n",
      "Requirement already satisfied: filelock in /home/luki/anaconda3/envs/env-QA/lib/python3.7/site-packages (from transformers) (3.7.0)\n",
      "Requirement already satisfied: importlib-metadata in /home/luki/anaconda3/envs/env-QA/lib/python3.7/site-packages (from transformers) (4.11.3)\n",
      "Requirement already satisfied: packaging>=20.0 in /home/luki/anaconda3/envs/env-QA/lib/python3.7/site-packages (from transformers) (21.3)\n",
      "Requirement already satisfied: huggingface-hub<1.0,>=0.1.0 in /home/luki/anaconda3/envs/env-QA/lib/python3.7/site-packages (from transformers) (0.6.0)\n",
      "Requirement already satisfied: aiohttp in /home/luki/anaconda3/envs/env-QA/lib/python3.7/site-packages (from datasets) (3.8.1)\n",
      "Requirement already satisfied: responses<0.19 in /home/luki/anaconda3/envs/env-QA/lib/python3.7/site-packages (from datasets) (0.18.0)\n",
      "Requirement already satisfied: multiprocess in /home/luki/anaconda3/envs/env-QA/lib/python3.7/site-packages (from datasets) (0.70.12.2)\n",
      "Requirement already satisfied: fsspec[http]>=2021.05.0 in /home/luki/anaconda3/envs/env-QA/lib/python3.7/site-packages (from datasets) (2022.3.0)\n",
      "Requirement already satisfied: pyarrow>=6.0.0 in /home/luki/anaconda3/envs/env-QA/lib/python3.7/site-packages (from datasets) (8.0.0)\n",
      "Requirement already satisfied: xxhash in /home/luki/anaconda3/envs/env-QA/lib/python3.7/site-packages (from datasets) (3.0.0)\n",
      "Requirement already satisfied: pandas in /home/luki/anaconda3/envs/env-QA/lib/python3.7/site-packages (from datasets) (1.3.5)\n",
      "Requirement already satisfied: dill in /home/luki/anaconda3/envs/env-QA/lib/python3.7/site-packages (from datasets) (0.3.4)\n",
      "Requirement already satisfied: typing-extensions>=3.7.4.3 in /home/luki/anaconda3/envs/env-QA/lib/python3.7/site-packages (from huggingface-hub<1.0,>=0.1.0->transformers) (3.10.0.2)\n",
      "Requirement already satisfied: pyparsing!=3.0.5,>=2.0.2 in /home/luki/anaconda3/envs/env-QA/lib/python3.7/site-packages (from packaging>=20.0->transformers) (3.0.4)\n",
      "Requirement already satisfied: urllib3<1.27,>=1.21.1 in /home/luki/anaconda3/envs/env-QA/lib/python3.7/site-packages (from requests->transformers) (1.26.9)\n",
      "Requirement already satisfied: certifi>=2017.4.17 in /home/luki/anaconda3/envs/env-QA/lib/python3.7/site-packages (from requests->transformers) (2021.10.8)\n",
      "Requirement already satisfied: charset-normalizer~=2.0.0 in /home/luki/anaconda3/envs/env-QA/lib/python3.7/site-packages (from requests->transformers) (2.0.4)\n",
      "Requirement already satisfied: idna<4,>=2.5 in /home/luki/anaconda3/envs/env-QA/lib/python3.7/site-packages (from requests->transformers) (3.3)\n",
      "Requirement already satisfied: asynctest==0.13.0 in /home/luki/anaconda3/envs/env-QA/lib/python3.7/site-packages (from aiohttp->datasets) (0.13.0)\n",
      "Requirement already satisfied: attrs>=17.3.0 in /home/luki/anaconda3/envs/env-QA/lib/python3.7/site-packages (from aiohttp->datasets) (21.4.0)\n",
      "Requirement already satisfied: yarl<2.0,>=1.0 in /home/luki/anaconda3/envs/env-QA/lib/python3.7/site-packages (from aiohttp->datasets) (1.7.2)\n",
      "Requirement already satisfied: multidict<7.0,>=4.5 in /home/luki/anaconda3/envs/env-QA/lib/python3.7/site-packages (from aiohttp->datasets) (6.0.2)\n",
      "Requirement already satisfied: async-timeout<5.0,>=4.0.0a3 in /home/luki/anaconda3/envs/env-QA/lib/python3.7/site-packages (from aiohttp->datasets) (4.0.2)\n",
      "Requirement already satisfied: aiosignal>=1.1.2 in /home/luki/anaconda3/envs/env-QA/lib/python3.7/site-packages (from aiohttp->datasets) (1.2.0)\n",
      "Requirement already satisfied: frozenlist>=1.1.1 in /home/luki/anaconda3/envs/env-QA/lib/python3.7/site-packages (from aiohttp->datasets) (1.3.0)\n",
      "Requirement already satisfied: zipp>=0.5 in /home/luki/anaconda3/envs/env-QA/lib/python3.7/site-packages (from importlib-metadata->transformers) (3.8.0)\n",
      "Requirement already satisfied: python-dateutil>=2.7.3 in /home/luki/anaconda3/envs/env-QA/lib/python3.7/site-packages (from pandas->datasets) (2.8.2)\n",
      "Requirement already satisfied: pytz>=2017.3 in /home/luki/anaconda3/envs/env-QA/lib/python3.7/site-packages (from pandas->datasets) (2021.3)\n",
      "Requirement already satisfied: six>=1.5 in /home/luki/anaconda3/envs/env-QA/lib/python3.7/site-packages (from python-dateutil>=2.7.3->pandas->datasets) (1.16.0)\n"
     ]
    }
   ],
   "source": [
    "!pip install transformers datasets"
   ]
  },
  {
   "cell_type": "code",
   "execution_count": 2,
   "metadata": {},
   "outputs": [
    {
     "name": "stderr",
     "output_type": "stream",
     "text": [
      "/home/luki/anaconda3/envs/env-QA/lib/python3.7/site-packages/tqdm/auto.py:22: TqdmWarning: IProgress not found. Please update jupyter and ipywidgets. See https://ipywidgets.readthedocs.io/en/stable/user_install.html\n",
      "  from .autonotebook import tqdm as notebook_tqdm\n",
      "None of PyTorch, TensorFlow >= 2.0, or Flax have been found. Models won't be available and only tokenizers, configuration and file/data utilities can be used.\n"
     ]
    }
   ],
   "source": [
    "import transformers\n",
    "from datasets import load_metric\n",
    "import pandas as pd\n",
    "from datasets import Dataset\n",
    "from tqdm.auto import tqdm"
   ]
  },
  {
   "cell_type": "markdown",
   "metadata": {},
   "source": [
    "### Parameters for number of iterations and number of selected items"
   ]
  },
  {
   "cell_type": "code",
   "execution_count": 3,
   "metadata": {},
   "outputs": [],
   "source": [
    "num_samples = 100\n",
    "sample_size = 800\n",
    "num_for_average_metrics = 1"
   ]
  },
  {
   "cell_type": "code",
   "execution_count": 4,
   "metadata": {},
   "outputs": [
    {
     "name": "stderr",
     "output_type": "stream",
     "text": [
      "Downloading builder script: 4.50kB [00:00, 3.99MB/s]                   \n",
      "Downloading extra modules: 3.31kB [00:00, 1.91MB/s]                   \n"
     ]
    }
   ],
   "source": [
    "metric = load_metric(\"squad\")"
   ]
  },
  {
   "cell_type": "code",
   "execution_count": 4,
   "metadata": {},
   "outputs": [],
   "source": [
    "def compute_metrics_for_sample(sample):\n",
    "    \"\"\"Computation of metrics for dataset sample\n",
    "    Computes exact match and F1 between predicted and ground truth answers\n",
    "\n",
    "    Args:\n",
    "        sample (Dataframe): sample from dataset\n",
    "\n",
    "    Returns:\n",
    "        dict: computed metrics\n",
    "    \"\"\"\n",
    "    formatted_predictions = [{\"id\": k, \"prediction_text\": v} for k, v in zip(sample['id'], sample['prediction_text'])]\n",
    "    references = [{\"id\": ex[\"id\"], \"answers\": ex[\"answers\"]} for ex in sample]\n",
    "    return metric.compute(predictions=formatted_predictions, references=references)"
   ]
  },
  {
   "cell_type": "code",
   "execution_count": 5,
   "metadata": {},
   "outputs": [],
   "source": [
    "# variable for extensive logging, if True, the logging will be enabled, if False, only one logging file is used\n",
    "write_to_log_files = False "
   ]
  },
  {
   "cell_type": "code",
   "execution_count": 6,
   "metadata": {},
   "outputs": [],
   "source": [
    "# name of the dataset\n",
    "dataset = 'squad_base' "
   ]
  },
  {
   "cell_type": "markdown",
   "metadata": {},
   "source": [
    "### Data loading"
   ]
  },
  {
   "cell_type": "code",
   "execution_count": 7,
   "metadata": {},
   "outputs": [],
   "source": [
    "# loading of dataset into pandas Dataframe from .json format\n",
    "data = pd.read_json('valid_pred_labeled_with_added_from_func.json')"
   ]
  },
  {
   "cell_type": "markdown",
   "metadata": {},
   "source": [
    "### Creation of logging files \n",
    "#### comment out after the first run"
   ]
  },
  {
   "cell_type": "code",
   "execution_count": 10,
   "metadata": {},
   "outputs": [],
   "source": [
    "with open(\"metrics_for_specific_runs.csv\", \"w\") as file:\n",
    "    file.write(f\"name,samples,sample_size,iters,field,threshold,type,exact_match_quantile_0.025,exact_match_quantile_0.975,exact_match_mean,f1_quantile_0.025,f1_quantile_0.975,f1_mean,len_lower,len_higher\")"
   ]
  },
  {
   "cell_type": "code",
   "execution_count": 11,
   "metadata": {},
   "outputs": [],
   "source": [
    "with open(\"average_metrics_for_runs.csv\", \"w\") as file:\n",
    "    file.write(f\"name,samples,sample_size,iters,field,threshold,type,exact_match_quantile_0.025,exact_match_quantile_0.975,exact_match_mean,f1_quantile_0.025,f1_quantile_0.975,f1_mean,len_lower,len_higher\")"
   ]
  },
  {
   "cell_type": "code",
   "execution_count": 12,
   "metadata": {},
   "outputs": [],
   "source": [
    "with open(\"evaluated_metrics_for_average.csv\", \"w\") as file:\n",
    "    file.write(f\"metric,samples,sample_size,iters,field,threshold,is_not_overlap,distance,len_lower,len_higher\")"
   ]
  },
  {
   "cell_type": "code",
   "execution_count": 13,
   "metadata": {},
   "outputs": [],
   "source": [
    "with open(\"metrics_with_intervals_distances_for_dataset_comparison.csv\", \"w\") as file:\n",
    "    file.write(f\"dataset,field,threshold,lower_interval_em,distance,higher_interval_em,lower_interval_f1,distance,higher_interval_f1,samples,sample_size,len_lower,len_higher\")"
   ]
  },
  {
   "cell_type": "code",
   "execution_count": 14,
   "metadata": {},
   "outputs": [],
   "source": [
    "with open(\"data_for_violin.csv\", \"w\") as file:\n",
    "    file.write(f\"dataset\\tfield\\tthreshold\\tlower_interval_em\\tdistance\\thigher_interval_em\\tlower_interval_f1\\tdistance\\thigher_interval_f1\\tsamples\\tsample_size\\tlen_lower\\tlen_higher\\tlower_em_list\\thigher_em_list\\tlower_f1_list\\thigher_f1_list\")"
   ]
  },
  {
   "cell_type": "markdown",
   "metadata": {},
   "source": [
    "### Computation of metrics for samples"
   ]
  },
  {
   "cell_type": "code",
   "execution_count": 15,
   "metadata": {},
   "outputs": [],
   "source": [
    "def compute_metrics_for_bunch(data):\n",
    "    \"\"\"Sampling the dataset for specified number of iterations and computation of metrics for samples\n",
    "\n",
    "    Args:\n",
    "        data (Pandas Dataframe): dataset with computed heuristics\n",
    "\n",
    "    Returns:\n",
    "        Pandas Dataframe: computed heuristics for samples\n",
    "    \"\"\"\n",
    "    exact_list = []\n",
    "    f1_list = []\n",
    "\n",
    "    for i in tqdm(range(num_samples)):\n",
    "        df = data.sample(n=sample_size)\n",
    "        sample = Dataset.from_pandas(df)\n",
    "        metrics1 = compute_metrics_for_sample(sample)\n",
    "        exact_list.append(metrics1['exact_match'])\n",
    "        f1_list.append(metrics1['f1'])\n",
    "    \n",
    "    d = {'exact_match': exact_list, 'f1': f1_list}\n",
    "    df = pd.DataFrame(d)\n",
    "\n",
    "    return df"
   ]
  },
  {
   "cell_type": "code",
   "execution_count": 16,
   "metadata": {},
   "outputs": [],
   "source": [
    "def find_the_distance_between_intervals(lower_025, lower_975, higher_025, higher_975):\n",
    "    \"\"\"Detect if there is some interval overlap between the two intervals or if there is not\n",
    "    If there is not an overlap, it computes the distance between 2.5% and 97.5% quantiles\n",
    "\n",
    "    Args:\n",
    "        lower_025 (int): 2.5% quantile for lower subset\n",
    "        lower_975 (int): 97.5% quantile for higher subset\n",
    "        higher_025 (int): 2.5% quantile for lower subset\n",
    "        higher_975 (int): 97.5% quantile for higher subset\n",
    "\n",
    "    Returns:\n",
    "        bool, decimal: boolean flag and the distance between intervals\n",
    "    \"\"\"\n",
    "    distance_between_intervals = 0\n",
    "    if lower_975 > higher_025 and lower_025 > higher_975:\n",
    "        distance_between_intervals = lower_025 - higher_975\n",
    "        return True, distance_between_intervals \n",
    "    elif higher_975 > lower_025 and higher_025 > lower_975:\n",
    "        distance_between_intervals = higher_025 - lower_975\n",
    "        return True, distance_between_intervals\n",
    "    else:\n",
    "        return False, distance_between_intervals"
   ]
  },
  {
   "cell_type": "code",
   "execution_count": 17,
   "metadata": {},
   "outputs": [],
   "source": [
    "def does_not_have_enought_samples(field, threshold, data_higher, data_lower):\n",
    "    \"\"\"Logging for cases where the subset size is lower than the sample size\n",
    "\n",
    "    Args:\n",
    "        field (str): name of the dataframe column - with computed values for heuristics\n",
    "        threshold (decimal): number on which the dataset is split between two subsets\n",
    "        data_higher (Pandas Dataframe): split of dataset with values higher than the threshold\n",
    "        data_lower (Pandas Dataframe): split of dataset with values lower or equal to the threshold\n",
    "    \"\"\"\n",
    "    if write_to_log_files:\n",
    "        with open(\"metrics_for_specific_runs.csv\", \"a\") as file_append:\n",
    "            file_append.write(f\"\\nlower_than_{threshold}_for_field_{field}_not_enough_samples,{num_samples},{sample_size},{num_for_average_metrics},{field},{threshold},lower,-1,-1,-1,-1,-1,-1,{len(data_lower)},{len(data_higher)}\")\n",
    "        with open(\"metrics_for_specific_runs.csv\", \"a\") as file_append:\n",
    "            file_append.write(f\"\\nhigher_than_{threshold}_for_field_{field}_not_enough_samples,{num_samples},{sample_size},{num_for_average_metrics},{field},{threshold},higher,-1,-1,-1,-1,-1,-1,{len(data_lower)},{len(data_higher)}\")\n",
    "        with open(\"average_metrics_for_runs.csv\", \"a\") as file_append:\n",
    "            file_append.write(f\"\\naverage_lower_than_{threshold}_for_field_{field}_not_enough_samples,{num_samples},{sample_size},{num_for_average_metrics},{field},{threshold},lower,-1,-1,-1,-1,-1,-1,{len(data_lower)},{len(data_higher)}\")\n",
    "            file_append.write(f\"\\naverage_higher_than_{threshold}_for_field_{field}_not_enough_samples,{num_samples},{sample_size},{num_for_average_metrics},{field},{threshold},higher,-1,-1,-1,-1,-1,-1,{len(data_lower)},{len(data_higher)}\")\n",
    "        with open(\"evaluated_metrics_for_average.csv\", \"a\") as file_append:\n",
    "            file_append.write(f\"\\nexact_match_not_enough_samples,{num_samples},{sample_size},{num_for_average_metrics},{field},{threshold},Nan,-1,{len(data_lower)},{len(data_higher)}\")\n",
    "            file_append.write(f\"\\nf1_not_enough_samples,{num_samples},{sample_size},{num_for_average_metrics},{field},{threshold},Nan,-1,{len(data_lower)},{len(data_higher)}\")\n"
   ]
  },
  {
   "cell_type": "code",
   "execution_count": 18,
   "metadata": {},
   "outputs": [],
   "source": [
    "from statistics import mean\n",
    "\n",
    "def compute_metrics_average_split(data, field, threshold):\n",
    "    \"\"\"Function which calls the previous ones and provide dataset splits and logging into files\n",
    "\n",
    "    Args:\n",
    "        data (Pandas Dataframe): dataset\n",
    "        field (str): column of the dataset based on which we want to split the data\n",
    "        threshold (decimal): number for the split of dataset, the values lower or equal will be in one subset and values higher than the threshold will be in the other\n",
    "\n",
    "    Returns:\n",
    "        decimal, decimal: distances for both metrics, exact match and F1\n",
    "    \"\"\"\n",
    "    data_higher, data_lower = [x for _, x in data.groupby(data[field] <= threshold)]\n",
    "\n",
    "    if len(data_higher) < sample_size or len(data_lower) < sample_size:\n",
    "        does_not_have_enought_samples(field, threshold, data_higher, data_lower)\n",
    "        return -1, -1\n",
    "\n",
    "    lower_exact_match_quantile_025 = []\n",
    "    lower_exact_match_quantile_975 = []\n",
    "    lower_exact_match_mean = []\n",
    "    lower_f1_quantile_025 = []\n",
    "    lower_f1_quantile_975 = []\n",
    "    lower_f1_mean = []\n",
    "    higher_exact_match_quantile_025 = []\n",
    "    higher_exact_match_quantile_975 = []\n",
    "    higher_exact_match_mean = []\n",
    "    higher_f1_quantile_025 = []\n",
    "    higher_f1_quantile_975 = []\n",
    "    higher_f1_mean = []\n",
    "    df_lower = []\n",
    "    df_higher = []\n",
    "\n",
    "\n",
    "    for i in tqdm(range(num_for_average_metrics)):\n",
    "        df_lower = compute_metrics_for_bunch(data_lower)\n",
    "        lower_exact_match_quantile_025.append(df_lower['exact_match'].quantile(0.025))\n",
    "        lower_exact_match_quantile_975.append(df_lower['exact_match'].quantile(0.975))\n",
    "        lower_exact_match_mean.append(df_lower['exact_match'].mean())\n",
    "        lower_f1_quantile_025.append(df_lower['f1'].quantile(0.025))\n",
    "        lower_f1_quantile_975.append(df_lower['f1'].quantile(0.975))\n",
    "        lower_f1_mean.append(df_lower['f1'].mean())\n",
    "\n",
    "        if write_to_log_files:\n",
    "            with open(\"metrics_for_specific_runs.csv\", \"a\") as file_append:\n",
    "                file_append.write(f\"\\nlower_than_{threshold}_for_field_{field},{num_samples},{sample_size},{num_for_average_metrics},{field},{threshold},lower,{df_lower['exact_match'].quantile(0.025)},{df_lower['exact_match'].quantile(0.975)},{df_lower['exact_match'].mean()},{df_lower['f1'].quantile(0.025)},{df_lower['f1'].quantile(0.975)},{df_lower['f1'].mean()},{len(data_lower)},{len(data_higher)}\")\n",
    "\n",
    "        df_higher = compute_metrics_for_bunch(data_higher)\n",
    "        higher_exact_match_quantile_025.append(df_higher['exact_match'].quantile(0.025))\n",
    "        higher_exact_match_quantile_975.append(df_higher['exact_match'].quantile(0.975))\n",
    "        higher_exact_match_mean.append(df_higher['exact_match'].mean())\n",
    "        higher_f1_quantile_025.append(df_higher['f1'].quantile(0.025))\n",
    "        higher_f1_quantile_975.append(df_higher['f1'].quantile(0.975))\n",
    "        higher_f1_mean.append(df_higher['f1'].mean())\n",
    "\n",
    "        if write_to_log_files:\n",
    "            with open(\"metrics_for_specific_runs.csv\", \"a\") as file_append:\n",
    "                file_append.write(f\"\\nhigher_than_{threshold}_for_field_{field},{num_samples},{sample_size},{num_for_average_metrics},{field},{threshold},higher,{df_higher['exact_match'].quantile(0.025)},{df_higher['exact_match'].quantile(0.975)},{df_higher['exact_match'].mean()},{df_higher['f1'].quantile(0.025)},{df_higher['f1'].quantile(0.975)},{df_higher['f1'].mean()},{len(data_lower)},{len(data_higher)}\")\n",
    "\n",
    "    if write_to_log_files:\n",
    "        with open(\"average_metrics_for_runs.csv\", \"a\") as file_append:\n",
    "            file_append.write(f\"\\naverage_lower_than_{threshold}_for_field_{field},{num_samples},{sample_size},{num_for_average_metrics},{field},{threshold},lower,{mean(lower_exact_match_quantile_025)},{mean(lower_exact_match_quantile_975)},{mean(lower_exact_match_mean)},{mean(lower_f1_quantile_025)},{mean(lower_f1_quantile_975)},{mean(lower_f1_mean)},{len(data_lower)},{len(data_higher)}\")\n",
    "            file_append.write(f\"\\naverage_higher_than_{threshold}_for_field_{field},{num_samples},{sample_size},{num_for_average_metrics},{field},{threshold},higher,{mean(higher_exact_match_quantile_025)},{mean(higher_exact_match_quantile_975)},{mean(higher_exact_match_mean)},{mean(higher_f1_quantile_025)},{mean(higher_f1_quantile_975)},{mean(higher_f1_mean)},{len(data_lower)},{len(data_higher)}\")\n",
    "\n",
    "    is_not_overlap_em, distance_em = find_the_distance_between_intervals(mean(lower_exact_match_quantile_025), mean(lower_exact_match_quantile_975), mean(higher_exact_match_quantile_025), mean(higher_exact_match_quantile_975))\n",
    "    is_not_overlap_f1, distance_f1 = find_the_distance_between_intervals(mean(lower_f1_quantile_025), mean(lower_f1_quantile_975), mean(higher_f1_quantile_025), mean(higher_f1_quantile_975))\n",
    "\n",
    "    if write_to_log_files:\n",
    "        with open(\"evaluated_metrics_for_average.csv\", \"a\") as file_append:\n",
    "            file_append.write(f\"\\nexact_match,{num_samples},{sample_size},{num_for_average_metrics},{field},{threshold},{is_not_overlap_em},{distance_em},{len(data_lower)},{len(data_higher)}\")\n",
    "            file_append.write(f\"\\nf1,{num_samples},{sample_size},{num_for_average_metrics},{field},{threshold},{is_not_overlap_f1},{distance_f1},{len(data_lower)},{len(data_higher)}\")\n",
    "\n",
    "    with open(\"metrics_with_intervals_distances_for_dataset_comparison.csv\", \"a\") as file_append:\n",
    "        file_append.write(f\"\\n{dataset},{field},{threshold},<{mean(lower_exact_match_quantile_025)};{mean(lower_exact_match_quantile_975)}>,{distance_em},<{mean(higher_exact_match_quantile_025)};{mean(higher_exact_match_quantile_975)}>,<{mean(lower_f1_quantile_025)};{mean(lower_f1_quantile_975)}>,{distance_f1},<{mean(higher_f1_quantile_025)};{mean(higher_f1_quantile_975)}>,{num_samples},{sample_size},{len(data_lower)},{len(data_higher)}\")\n",
    "\n",
    "    if write_to_log_files:\n",
    "        for i in range(num_samples):\n",
    "            with open(\"data_for_violin.csv\", \"a\") as file_append:\n",
    "                file_append.write(f\"\\n{dataset}\\t{field}\\t{threshold}\\t<{mean(lower_exact_match_quantile_025)};{mean(lower_exact_match_quantile_975)}>\\t{distance_em}\\t<{mean(higher_exact_match_quantile_025)};{mean(higher_exact_match_quantile_975)}>\\t<{mean(lower_f1_quantile_025)};{mean(lower_f1_quantile_975)}>\\t{distance_f1}\\t<{mean(higher_f1_quantile_025)};{mean(higher_f1_quantile_975)}>\\t{num_samples}\\t{sample_size}\\t{len(data_lower)}\\t{len(data_higher)}\\t{df_lower['exact_match'][i]}\\tlower\\t{df_lower['f1'][i]}\\tlower\")\n",
    "                file_append.write(f\"\\n{dataset}\\t{field}\\t{threshold}\\t<{mean(lower_exact_match_quantile_025)};{mean(lower_exact_match_quantile_975)}>\\t{distance_em}\\t<{mean(higher_exact_match_quantile_025)};{mean(higher_exact_match_quantile_975)}>\\t<{mean(lower_f1_quantile_025)};{mean(lower_f1_quantile_975)}>\\t{distance_f1}\\t<{mean(higher_f1_quantile_025)};{mean(higher_f1_quantile_975)}>\\t{num_samples}\\t{sample_size}\\t{len(data_lower)}\\t{len(data_higher)}\\t{df_higher['exact_match'][i]}\\thigher\\t{df_higher['f1'][i]}\\thigher\")\n",
    "\n",
    "    print(f\"Average exact match with params: samples {sample_size} iters {num_samples} ---- are independent: {is_not_overlap_em} the distance is: {distance_em}\")\n",
    "\n",
    "    print(f\"Average f1 with params: samples {sample_size} iters {num_samples} ---- are independent: {is_not_overlap_f1} the distance is: {distance_f1}\")\n",
    "\n",
    "    return distance_em, distance_f1\n"
   ]
  },
  {
   "cell_type": "code",
   "execution_count": 19,
   "metadata": {},
   "outputs": [],
   "source": [
    "def find_longest_distance(data, field, low_bound, upp_bound):\n",
    "    \"\"\"Finds out the longest distance between intervals for bunch of thresholds\n",
    "\n",
    "    Args:\n",
    "        data (Pandas Dataframe): dataset\n",
    "        field (str): Dataframe column\n",
    "        low_bound (int): the number from which the threshold will start from\n",
    "        upp_bound (int): the number for which the threshold will go -1\n",
    "    \"\"\"\n",
    "    index_em = 0\n",
    "    index_f1 = 0\n",
    "    max_em_distance = 0\n",
    "    max_f1_distance = 0\n",
    "\n",
    "    distance_em = 0\n",
    "    distance_f1 = 0\n",
    "\n",
    "    for i in tqdm(range(low_bound, upp_bound, 1)):\n",
    "        distance_em, distance_f1 = compute_metrics_average_split(data, field, i)\n",
    "        if distance_em > max_em_distance:\n",
    "            max_em_distance = distance_em\n",
    "            index_em = i\n",
    "        if distance_f1 > max_f1_distance:\n",
    "            max_f1_distance = distance_f1\n",
    "            index_f1 = i\n",
    "\n",
    "    print(f\"The biggest distance between exact match intervals was with threshold {index_em} and the distance was {max_em_distance}.\")\n",
    "    print(f\"The biggest distance between f1 intervals was with threshold {index_f1} and the distance was {max_f1_distance}.\")\n"
   ]
  },
  {
   "cell_type": "markdown",
   "metadata": {},
   "source": [
    "### Example of run for evaluated dataset"
   ]
  },
  {
   "cell_type": "code",
   "execution_count": null,
   "metadata": {},
   "outputs": [],
   "source": [
    "dataset = 'squad_super_all_th_2'\n",
    "data_supersampled_model = pd.read_json('./from_debiased_models/enhanced_squad_supersampled_all_th_2.json')\n",
    "\n",
    "find_longest_distance(data_supersampled_model[data_supersampled_model.distances >= 0], 'distances', 2, 9)\n",
    "find_longest_distance(data_supersampled_model, 'similar_words', 3, 9)\n",
    "find_longest_distance(data_supersampled_model, 'answer_lenght', 1, 6)\n",
    "compute_metrics_average_split(data_supersampled_model, 'cosine_similarity', 0.10)\n",
    "compute_metrics_average_split(data_supersampled_model, 'cosine_similarity', 0.20)\n",
    "compute_metrics_average_split(data_supersampled_model, 'cosine_similarity', 0.30)\n",
    "compute_metrics_average_split(data_supersampled_model, 'cosine_similarity', 0.40)\n",
    "compute_metrics_average_split(data_supersampled_model, 'cosine_similarity', 0.50)\n",
    "compute_metrics_average_split(data_supersampled_model, 'cosine_similarity', 0.60)\n",
    "find_longest_distance(data_supersampled_model, 'max_sim_ents', 0, 5)\n",
    "find_longest_distance(data_supersampled_model[data_supersampled_model.answer_subject_positions >= 0], 'answer_subject_positions', 0, 2)"
   ]
  },
  {
   "cell_type": "code",
   "execution_count": 21,
   "metadata": {},
   "outputs": [
    {
     "data": {
      "application/vnd.jupyter.widget-view+json": {
       "model_id": "02c0a636932d47edb4c4a9ebc595a1b4",
       "version_major": 2,
       "version_minor": 0
      },
      "text/plain": [
       "  0%|          | 0/1 [00:00<?, ?it/s]"
      ]
     },
     "metadata": {},
     "output_type": "display_data"
    },
    {
     "data": {
      "application/vnd.jupyter.widget-view+json": {
       "model_id": "932a45cb7d6a48428f093b759cdbd1e3",
       "version_major": 2,
       "version_minor": 0
      },
      "text/plain": [
       "  0%|          | 0/1 [00:00<?, ?it/s]"
      ]
     },
     "metadata": {},
     "output_type": "display_data"
    },
    {
     "data": {
      "application/vnd.jupyter.widget-view+json": {
       "model_id": "5246673fd8064305bee197e61879711c",
       "version_major": 2,
       "version_minor": 0
      },
      "text/plain": [
       "  0%|          | 0/100 [00:00<?, ?it/s]"
      ]
     },
     "metadata": {},
     "output_type": "display_data"
    },
    {
     "data": {
      "application/vnd.jupyter.widget-view+json": {
       "model_id": "183c4ea93dfb4bb4ae3969ff692f80d7",
       "version_major": 2,
       "version_minor": 0
      },
      "text/plain": [
       "  0%|          | 0/100 [00:00<?, ?it/s]"
      ]
     },
     "metadata": {},
     "output_type": "display_data"
    },
    {
     "name": "stdout",
     "output_type": "stream",
     "text": [
      "Average exact match with params: samples 800 iters 100 ---- are independent: True the distance is: 9.993750000000006\n",
      "Average f1 with params: samples 800 iters 100 ---- are independent: True the distance is: 9.650621724105747\n",
      "The biggest distance between exact match intervals was with threshold 7 and the distance was 9.993750000000006.\n",
      "The biggest distance between f1 intervals was with threshold 7 and the distance was 9.650621724105747.\n"
     ]
    },
    {
     "data": {
      "application/vnd.jupyter.widget-view+json": {
       "model_id": "db9bd84e04af40aea9281d0b9ea86edd",
       "version_major": 2,
       "version_minor": 0
      },
      "text/plain": [
       "  0%|          | 0/1 [00:00<?, ?it/s]"
      ]
     },
     "metadata": {},
     "output_type": "display_data"
    },
    {
     "data": {
      "application/vnd.jupyter.widget-view+json": {
       "model_id": "773e5f34ba2e4433a8b47759ed6d2792",
       "version_major": 2,
       "version_minor": 0
      },
      "text/plain": [
       "  0%|          | 0/1 [00:00<?, ?it/s]"
      ]
     },
     "metadata": {},
     "output_type": "display_data"
    },
    {
     "data": {
      "application/vnd.jupyter.widget-view+json": {
       "model_id": "f414999dc1d6451e8c5e457dd097471a",
       "version_major": 2,
       "version_minor": 0
      },
      "text/plain": [
       "  0%|          | 0/100 [00:00<?, ?it/s]"
      ]
     },
     "metadata": {},
     "output_type": "display_data"
    },
    {
     "data": {
      "application/vnd.jupyter.widget-view+json": {
       "model_id": "31f3e01c2a4b4c4eba7d5075e2242302",
       "version_major": 2,
       "version_minor": 0
      },
      "text/plain": [
       "  0%|          | 0/100 [00:00<?, ?it/s]"
      ]
     },
     "metadata": {},
     "output_type": "display_data"
    },
    {
     "name": "stdout",
     "output_type": "stream",
     "text": [
      "Average exact match with params: samples 800 iters 100 ---- are independent: False the distance is: 0\n",
      "Average f1 with params: samples 800 iters 100 ---- are independent: True the distance is: 0.004913438053890218\n",
      "The biggest distance between exact match intervals was with threshold 0 and the distance was 0.\n",
      "The biggest distance between f1 intervals was with threshold 4 and the distance was 0.004913438053890218.\n"
     ]
    },
    {
     "data": {
      "application/vnd.jupyter.widget-view+json": {
       "model_id": "1e5ffc466bec492f9e578fa90e7068cc",
       "version_major": 2,
       "version_minor": 0
      },
      "text/plain": [
       "  0%|          | 0/1 [00:00<?, ?it/s]"
      ]
     },
     "metadata": {},
     "output_type": "display_data"
    },
    {
     "data": {
      "application/vnd.jupyter.widget-view+json": {
       "model_id": "7af1e6d87e1842b0bc8bfdeda92ffeff",
       "version_major": 2,
       "version_minor": 0
      },
      "text/plain": [
       "  0%|          | 0/1 [00:00<?, ?it/s]"
      ]
     },
     "metadata": {},
     "output_type": "display_data"
    },
    {
     "data": {
      "application/vnd.jupyter.widget-view+json": {
       "model_id": "3819eccb1d5c442dbf8b0bc219ce158b",
       "version_major": 2,
       "version_minor": 0
      },
      "text/plain": [
       "  0%|          | 0/100 [00:00<?, ?it/s]"
      ]
     },
     "metadata": {},
     "output_type": "display_data"
    },
    {
     "data": {
      "application/vnd.jupyter.widget-view+json": {
       "model_id": "286e5574375b4f06b02bbec3d570ba8f",
       "version_major": 2,
       "version_minor": 0
      },
      "text/plain": [
       "  0%|          | 0/100 [00:00<?, ?it/s]"
      ]
     },
     "metadata": {},
     "output_type": "display_data"
    },
    {
     "name": "stdout",
     "output_type": "stream",
     "text": [
      "Average exact match with params: samples 800 iters 100 ---- are independent: True the distance is: 10.606250000000003\n",
      "Average f1 with params: samples 800 iters 100 ---- are independent: True the distance is: 2.26088119160255\n",
      "The biggest distance between exact match intervals was with threshold 3 and the distance was 10.606250000000003.\n",
      "The biggest distance between f1 intervals was with threshold 3 and the distance was 2.26088119160255.\n"
     ]
    },
    {
     "data": {
      "application/vnd.jupyter.widget-view+json": {
       "model_id": "b9a61a294d6b4f8497531b986042e6bb",
       "version_major": 2,
       "version_minor": 0
      },
      "text/plain": [
       "  0%|          | 0/1 [00:00<?, ?it/s]"
      ]
     },
     "metadata": {},
     "output_type": "display_data"
    },
    {
     "data": {
      "application/vnd.jupyter.widget-view+json": {
       "model_id": "6b517104f66545758cc0c4fdde3a2b0b",
       "version_major": 2,
       "version_minor": 0
      },
      "text/plain": [
       "  0%|          | 0/100 [00:00<?, ?it/s]"
      ]
     },
     "metadata": {},
     "output_type": "display_data"
    },
    {
     "data": {
      "application/vnd.jupyter.widget-view+json": {
       "model_id": "959e587ac09a42c18a9acbd0f975499a",
       "version_major": 2,
       "version_minor": 0
      },
      "text/plain": [
       "  0%|          | 0/100 [00:00<?, ?it/s]"
      ]
     },
     "metadata": {},
     "output_type": "display_data"
    },
    {
     "name": "stdout",
     "output_type": "stream",
     "text": [
      "Average exact match with params: samples 800 iters 100 ---- are independent: True the distance is: 1.3624999999999972\n",
      "Average f1 with params: samples 800 iters 100 ---- are independent: True the distance is: 1.0130927899306954\n"
     ]
    },
    {
     "data": {
      "application/vnd.jupyter.widget-view+json": {
       "model_id": "738f3b6435154b51b4f4033a27a82828",
       "version_major": 2,
       "version_minor": 0
      },
      "text/plain": [
       "  0%|          | 0/1 [00:00<?, ?it/s]"
      ]
     },
     "metadata": {},
     "output_type": "display_data"
    },
    {
     "data": {
      "application/vnd.jupyter.widget-view+json": {
       "model_id": "f50293c0db1c4b27bfe15525b3daefbb",
       "version_major": 2,
       "version_minor": 0
      },
      "text/plain": [
       "  0%|          | 0/1 [00:00<?, ?it/s]"
      ]
     },
     "metadata": {},
     "output_type": "display_data"
    },
    {
     "data": {
      "application/vnd.jupyter.widget-view+json": {
       "model_id": "5e40af95733441f8a0f7b665dbc14f70",
       "version_major": 2,
       "version_minor": 0
      },
      "text/plain": [
       "  0%|          | 0/100 [00:00<?, ?it/s]"
      ]
     },
     "metadata": {},
     "output_type": "display_data"
    },
    {
     "data": {
      "application/vnd.jupyter.widget-view+json": {
       "model_id": "8186fac16a794780bc8a6d6c0162f4f6",
       "version_major": 2,
       "version_minor": 0
      },
      "text/plain": [
       "  0%|          | 0/100 [00:00<?, ?it/s]"
      ]
     },
     "metadata": {},
     "output_type": "display_data"
    },
    {
     "name": "stdout",
     "output_type": "stream",
     "text": [
      "Average exact match with params: samples 800 iters 100 ---- are independent: True the distance is: 4.3031250000000085\n",
      "Average f1 with params: samples 800 iters 100 ---- are independent: True the distance is: 1.8665394670504583\n",
      "The biggest distance between exact match intervals was with threshold 0 and the distance was 4.3031250000000085.\n",
      "The biggest distance between f1 intervals was with threshold 0 and the distance was 1.8665394670504583.\n"
     ]
    },
    {
     "data": {
      "application/vnd.jupyter.widget-view+json": {
       "model_id": "e4437d66ab6543aa9e828c5ad508a457",
       "version_major": 2,
       "version_minor": 0
      },
      "text/plain": [
       "  0%|          | 0/1 [00:00<?, ?it/s]"
      ]
     },
     "metadata": {},
     "output_type": "display_data"
    },
    {
     "data": {
      "application/vnd.jupyter.widget-view+json": {
       "model_id": "6d17dcad63e94e5fa7761a2fd79542bf",
       "version_major": 2,
       "version_minor": 0
      },
      "text/plain": [
       "  0%|          | 0/1 [00:00<?, ?it/s]"
      ]
     },
     "metadata": {},
     "output_type": "display_data"
    },
    {
     "data": {
      "application/vnd.jupyter.widget-view+json": {
       "model_id": "049bc6b1e58c494383442f0b1b749fd6",
       "version_major": 2,
       "version_minor": 0
      },
      "text/plain": [
       "  0%|          | 0/100 [00:00<?, ?it/s]"
      ]
     },
     "metadata": {},
     "output_type": "display_data"
    },
    {
     "data": {
      "application/vnd.jupyter.widget-view+json": {
       "model_id": "bcf130a9da6540e890cd803c0608748b",
       "version_major": 2,
       "version_minor": 0
      },
      "text/plain": [
       "  0%|          | 0/100 [00:00<?, ?it/s]"
      ]
     },
     "metadata": {},
     "output_type": "display_data"
    },
    {
     "name": "stdout",
     "output_type": "stream",
     "text": [
      "Average exact match with params: samples 800 iters 100 ---- are independent: False the distance is: 0\n",
      "Average f1 with params: samples 800 iters 100 ---- are independent: False the distance is: 0\n",
      "The biggest distance between exact match intervals was with threshold 0 and the distance was 0.\n",
      "The biggest distance between f1 intervals was with threshold 0 and the distance was 0.\n"
     ]
    },
    {
     "data": {
      "application/vnd.jupyter.widget-view+json": {
       "model_id": "54a910beba7b41a6a69fa6e4bfa1f1cd",
       "version_major": 2,
       "version_minor": 0
      },
      "text/plain": [
       "  0%|          | 0/1 [00:00<?, ?it/s]"
      ]
     },
     "metadata": {},
     "output_type": "display_data"
    },
    {
     "data": {
      "application/vnd.jupyter.widget-view+json": {
       "model_id": "e83b734b0f784369af5071e44e111890",
       "version_major": 2,
       "version_minor": 0
      },
      "text/plain": [
       "  0%|          | 0/1 [00:00<?, ?it/s]"
      ]
     },
     "metadata": {},
     "output_type": "display_data"
    },
    {
     "data": {
      "application/vnd.jupyter.widget-view+json": {
       "model_id": "a95690999554438c94c631a21b8fa9ea",
       "version_major": 2,
       "version_minor": 0
      },
      "text/plain": [
       "  0%|          | 0/100 [00:00<?, ?it/s]"
      ]
     },
     "metadata": {},
     "output_type": "display_data"
    },
    {
     "data": {
      "application/vnd.jupyter.widget-view+json": {
       "model_id": "76993f668ee14ee2acb6cb9bc58bac33",
       "version_major": 2,
       "version_minor": 0
      },
      "text/plain": [
       "  0%|          | 0/100 [00:00<?, ?it/s]"
      ]
     },
     "metadata": {},
     "output_type": "display_data"
    },
    {
     "name": "stdout",
     "output_type": "stream",
     "text": [
      "Average exact match with params: samples 800 iters 100 ---- are independent: True the distance is: 9.975000000000009\n",
      "Average f1 with params: samples 800 iters 100 ---- are independent: True the distance is: 10.010501790787004\n",
      "The biggest distance between exact match intervals was with threshold 7 and the distance was 9.975000000000009.\n",
      "The biggest distance between f1 intervals was with threshold 7 and the distance was 10.010501790787004.\n"
     ]
    },
    {
     "data": {
      "application/vnd.jupyter.widget-view+json": {
       "model_id": "ef8782ebc9ae4ce6b564d3c2375463d9",
       "version_major": 2,
       "version_minor": 0
      },
      "text/plain": [
       "  0%|          | 0/1 [00:00<?, ?it/s]"
      ]
     },
     "metadata": {},
     "output_type": "display_data"
    },
    {
     "data": {
      "application/vnd.jupyter.widget-view+json": {
       "model_id": "62f89c84742a4ed19f317100e12739ef",
       "version_major": 2,
       "version_minor": 0
      },
      "text/plain": [
       "  0%|          | 0/1 [00:00<?, ?it/s]"
      ]
     },
     "metadata": {},
     "output_type": "display_data"
    },
    {
     "data": {
      "application/vnd.jupyter.widget-view+json": {
       "model_id": "3c6c11ba5a6f4144af967400d3d9e52a",
       "version_major": 2,
       "version_minor": 0
      },
      "text/plain": [
       "  0%|          | 0/100 [00:00<?, ?it/s]"
      ]
     },
     "metadata": {},
     "output_type": "display_data"
    },
    {
     "data": {
      "application/vnd.jupyter.widget-view+json": {
       "model_id": "1c6939c3f2c444f9b2bb7560cff239b1",
       "version_major": 2,
       "version_minor": 0
      },
      "text/plain": [
       "  0%|          | 0/100 [00:00<?, ?it/s]"
      ]
     },
     "metadata": {},
     "output_type": "display_data"
    },
    {
     "name": "stdout",
     "output_type": "stream",
     "text": [
      "Average exact match with params: samples 800 iters 100 ---- are independent: False the distance is: 0\n",
      "Average f1 with params: samples 800 iters 100 ---- are independent: False the distance is: 0\n",
      "The biggest distance between exact match intervals was with threshold 0 and the distance was 0.\n",
      "The biggest distance between f1 intervals was with threshold 0 and the distance was 0.\n"
     ]
    },
    {
     "data": {
      "application/vnd.jupyter.widget-view+json": {
       "model_id": "52836502af414f33b4b66b055b0ca9df",
       "version_major": 2,
       "version_minor": 0
      },
      "text/plain": [
       "  0%|          | 0/1 [00:00<?, ?it/s]"
      ]
     },
     "metadata": {},
     "output_type": "display_data"
    },
    {
     "data": {
      "application/vnd.jupyter.widget-view+json": {
       "model_id": "b4e5981c04894eb88e14b063c2be97e9",
       "version_major": 2,
       "version_minor": 0
      },
      "text/plain": [
       "  0%|          | 0/1 [00:00<?, ?it/s]"
      ]
     },
     "metadata": {},
     "output_type": "display_data"
    },
    {
     "data": {
      "application/vnd.jupyter.widget-view+json": {
       "model_id": "c397b64e16764da5a80a9a9a0be6ffed",
       "version_major": 2,
       "version_minor": 0
      },
      "text/plain": [
       "  0%|          | 0/100 [00:00<?, ?it/s]"
      ]
     },
     "metadata": {},
     "output_type": "display_data"
    },
    {
     "data": {
      "application/vnd.jupyter.widget-view+json": {
       "model_id": "e22a2fe8f3b2495791996d952ecda996",
       "version_major": 2,
       "version_minor": 0
      },
      "text/plain": [
       "  0%|          | 0/100 [00:00<?, ?it/s]"
      ]
     },
     "metadata": {},
     "output_type": "display_data"
    },
    {
     "name": "stdout",
     "output_type": "stream",
     "text": [
      "Average exact match with params: samples 800 iters 100 ---- are independent: True the distance is: 10.493750000000006\n",
      "Average f1 with params: samples 800 iters 100 ---- are independent: True the distance is: 2.6058087674316397\n",
      "The biggest distance between exact match intervals was with threshold 3 and the distance was 10.493750000000006.\n",
      "The biggest distance between f1 intervals was with threshold 3 and the distance was 2.6058087674316397.\n"
     ]
    },
    {
     "data": {
      "application/vnd.jupyter.widget-view+json": {
       "model_id": "a85e58a7d1874d81b1d4f9a8144aca2f",
       "version_major": 2,
       "version_minor": 0
      },
      "text/plain": [
       "  0%|          | 0/1 [00:00<?, ?it/s]"
      ]
     },
     "metadata": {},
     "output_type": "display_data"
    },
    {
     "data": {
      "application/vnd.jupyter.widget-view+json": {
       "model_id": "51777ab2d5ac4e708ee94b50e04bbf46",
       "version_major": 2,
       "version_minor": 0
      },
      "text/plain": [
       "  0%|          | 0/100 [00:00<?, ?it/s]"
      ]
     },
     "metadata": {},
     "output_type": "display_data"
    },
    {
     "data": {
      "application/vnd.jupyter.widget-view+json": {
       "model_id": "69897c0c767d43b4af6f5577e4ac6828",
       "version_major": 2,
       "version_minor": 0
      },
      "text/plain": [
       "  0%|          | 0/100 [00:00<?, ?it/s]"
      ]
     },
     "metadata": {},
     "output_type": "display_data"
    },
    {
     "name": "stdout",
     "output_type": "stream",
     "text": [
      "Average exact match with params: samples 800 iters 100 ---- are independent: True the distance is: 2.237499999999997\n",
      "Average f1 with params: samples 800 iters 100 ---- are independent: True the distance is: 1.6702293078398895\n"
     ]
    },
    {
     "data": {
      "application/vnd.jupyter.widget-view+json": {
       "model_id": "2a23ba4967a441db867bd9a825149779",
       "version_major": 2,
       "version_minor": 0
      },
      "text/plain": [
       "  0%|          | 0/1 [00:00<?, ?it/s]"
      ]
     },
     "metadata": {},
     "output_type": "display_data"
    },
    {
     "data": {
      "application/vnd.jupyter.widget-view+json": {
       "model_id": "05c8cde9af194286a32b501cc0e54f5a",
       "version_major": 2,
       "version_minor": 0
      },
      "text/plain": [
       "  0%|          | 0/1 [00:00<?, ?it/s]"
      ]
     },
     "metadata": {},
     "output_type": "display_data"
    },
    {
     "data": {
      "application/vnd.jupyter.widget-view+json": {
       "model_id": "4fa24e9c865a4f54ab8a2e723d9af736",
       "version_major": 2,
       "version_minor": 0
      },
      "text/plain": [
       "  0%|          | 0/100 [00:00<?, ?it/s]"
      ]
     },
     "metadata": {},
     "output_type": "display_data"
    },
    {
     "data": {
      "application/vnd.jupyter.widget-view+json": {
       "model_id": "49f9ed73c5ac48f1b33ef66f390c6d1a",
       "version_major": 2,
       "version_minor": 0
      },
      "text/plain": [
       "  0%|          | 0/100 [00:00<?, ?it/s]"
      ]
     },
     "metadata": {},
     "output_type": "display_data"
    },
    {
     "name": "stdout",
     "output_type": "stream",
     "text": [
      "Average exact match with params: samples 800 iters 100 ---- are independent: True the distance is: 2.218750000000014\n",
      "Average f1 with params: samples 800 iters 100 ---- are independent: True the distance is: 1.073842444721052\n",
      "The biggest distance between exact match intervals was with threshold 0 and the distance was 2.218750000000014.\n",
      "The biggest distance between f1 intervals was with threshold 0 and the distance was 1.073842444721052.\n"
     ]
    },
    {
     "data": {
      "application/vnd.jupyter.widget-view+json": {
       "model_id": "41457040e152491896cd0d3713efd093",
       "version_major": 2,
       "version_minor": 0
      },
      "text/plain": [
       "  0%|          | 0/1 [00:00<?, ?it/s]"
      ]
     },
     "metadata": {},
     "output_type": "display_data"
    },
    {
     "data": {
      "application/vnd.jupyter.widget-view+json": {
       "model_id": "352c984dc17e49489e299d84ca221125",
       "version_major": 2,
       "version_minor": 0
      },
      "text/plain": [
       "  0%|          | 0/1 [00:00<?, ?it/s]"
      ]
     },
     "metadata": {},
     "output_type": "display_data"
    },
    {
     "data": {
      "application/vnd.jupyter.widget-view+json": {
       "model_id": "66667d8d60d34015ab0dc66e8e5e6b38",
       "version_major": 2,
       "version_minor": 0
      },
      "text/plain": [
       "  0%|          | 0/100 [00:00<?, ?it/s]"
      ]
     },
     "metadata": {},
     "output_type": "display_data"
    },
    {
     "data": {
      "application/vnd.jupyter.widget-view+json": {
       "model_id": "7b51f24c13f34986aafc352626dfe6d6",
       "version_major": 2,
       "version_minor": 0
      },
      "text/plain": [
       "  0%|          | 0/100 [00:00<?, ?it/s]"
      ]
     },
     "metadata": {},
     "output_type": "display_data"
    },
    {
     "name": "stdout",
     "output_type": "stream",
     "text": [
      "Average exact match with params: samples 800 iters 100 ---- are independent: False the distance is: 0\n",
      "Average f1 with params: samples 800 iters 100 ---- are independent: False the distance is: 0\n",
      "The biggest distance between exact match intervals was with threshold 0 and the distance was 0.\n",
      "The biggest distance between f1 intervals was with threshold 0 and the distance was 0.\n"
     ]
    },
    {
     "data": {
      "application/vnd.jupyter.widget-view+json": {
       "model_id": "cca93ddfbe9d41ef8aaa8534bb3ce453",
       "version_major": 2,
       "version_minor": 0
      },
      "text/plain": [
       "  0%|          | 0/1 [00:00<?, ?it/s]"
      ]
     },
     "metadata": {},
     "output_type": "display_data"
    },
    {
     "data": {
      "application/vnd.jupyter.widget-view+json": {
       "model_id": "4b4c78fe05f94defac8015b1b390a350",
       "version_major": 2,
       "version_minor": 0
      },
      "text/plain": [
       "  0%|          | 0/1 [00:00<?, ?it/s]"
      ]
     },
     "metadata": {},
     "output_type": "display_data"
    },
    {
     "data": {
      "application/vnd.jupyter.widget-view+json": {
       "model_id": "c3ccaeaa717d4201b4bb6214055a6cb4",
       "version_major": 2,
       "version_minor": 0
      },
      "text/plain": [
       "  0%|          | 0/100 [00:00<?, ?it/s]"
      ]
     },
     "metadata": {},
     "output_type": "display_data"
    },
    {
     "data": {
      "application/vnd.jupyter.widget-view+json": {
       "model_id": "6980874ddae049aebf0865ab3d9de66b",
       "version_major": 2,
       "version_minor": 0
      },
      "text/plain": [
       "  0%|          | 0/100 [00:00<?, ?it/s]"
      ]
     },
     "metadata": {},
     "output_type": "display_data"
    },
    {
     "name": "stdout",
     "output_type": "stream",
     "text": [
      "Average exact match with params: samples 800 iters 100 ---- are independent: True the distance is: 7.421875000000014\n",
      "Average f1 with params: samples 800 iters 100 ---- are independent: True the distance is: 7.350206760383642\n",
      "The biggest distance between exact match intervals was with threshold 7 and the distance was 7.421875000000014.\n",
      "The biggest distance between f1 intervals was with threshold 7 and the distance was 7.350206760383642.\n"
     ]
    },
    {
     "data": {
      "application/vnd.jupyter.widget-view+json": {
       "model_id": "a9e65ca119114713bc7d3fcbbb851205",
       "version_major": 2,
       "version_minor": 0
      },
      "text/plain": [
       "  0%|          | 0/1 [00:00<?, ?it/s]"
      ]
     },
     "metadata": {},
     "output_type": "display_data"
    },
    {
     "data": {
      "application/vnd.jupyter.widget-view+json": {
       "model_id": "083fef0a668f40dc8b9e78c829290eb7",
       "version_major": 2,
       "version_minor": 0
      },
      "text/plain": [
       "  0%|          | 0/1 [00:00<?, ?it/s]"
      ]
     },
     "metadata": {},
     "output_type": "display_data"
    },
    {
     "data": {
      "application/vnd.jupyter.widget-view+json": {
       "model_id": "8e915fc486654bd5966eca08ae823a8b",
       "version_major": 2,
       "version_minor": 0
      },
      "text/plain": [
       "  0%|          | 0/100 [00:00<?, ?it/s]"
      ]
     },
     "metadata": {},
     "output_type": "display_data"
    },
    {
     "data": {
      "application/vnd.jupyter.widget-view+json": {
       "model_id": "3203e3ff08a84475bdeb9835f1541d7e",
       "version_major": 2,
       "version_minor": 0
      },
      "text/plain": [
       "  0%|          | 0/100 [00:00<?, ?it/s]"
      ]
     },
     "metadata": {},
     "output_type": "display_data"
    },
    {
     "name": "stdout",
     "output_type": "stream",
     "text": [
      "Average exact match with params: samples 800 iters 100 ---- are independent: True the distance is: 0.4281250000000085\n",
      "Average f1 with params: samples 800 iters 100 ---- are independent: True the distance is: 0.30246999621209625\n",
      "The biggest distance between exact match intervals was with threshold 4 and the distance was 0.4281250000000085.\n",
      "The biggest distance between f1 intervals was with threshold 4 and the distance was 0.30246999621209625.\n"
     ]
    },
    {
     "data": {
      "application/vnd.jupyter.widget-view+json": {
       "model_id": "c210dd705b544d9ba1d80055df52485d",
       "version_major": 2,
       "version_minor": 0
      },
      "text/plain": [
       "  0%|          | 0/1 [00:00<?, ?it/s]"
      ]
     },
     "metadata": {},
     "output_type": "display_data"
    },
    {
     "data": {
      "application/vnd.jupyter.widget-view+json": {
       "model_id": "0f5367424e3749fd8b4f8531a568fa50",
       "version_major": 2,
       "version_minor": 0
      },
      "text/plain": [
       "  0%|          | 0/1 [00:00<?, ?it/s]"
      ]
     },
     "metadata": {},
     "output_type": "display_data"
    },
    {
     "data": {
      "application/vnd.jupyter.widget-view+json": {
       "model_id": "99879927a57d42729d8bebb8732bdfd2",
       "version_major": 2,
       "version_minor": 0
      },
      "text/plain": [
       "  0%|          | 0/100 [00:00<?, ?it/s]"
      ]
     },
     "metadata": {},
     "output_type": "display_data"
    },
    {
     "data": {
      "application/vnd.jupyter.widget-view+json": {
       "model_id": "2bb0507fa819439e950e63d2e2edcf83",
       "version_major": 2,
       "version_minor": 0
      },
      "text/plain": [
       "  0%|          | 0/100 [00:00<?, ?it/s]"
      ]
     },
     "metadata": {},
     "output_type": "display_data"
    },
    {
     "name": "stdout",
     "output_type": "stream",
     "text": [
      "Average exact match with params: samples 800 iters 100 ---- are independent: True the distance is: 8.928125000000009\n",
      "Average f1 with params: samples 800 iters 100 ---- are independent: True the distance is: 1.0315104518298028\n",
      "The biggest distance between exact match intervals was with threshold 3 and the distance was 8.928125000000009.\n",
      "The biggest distance between f1 intervals was with threshold 3 and the distance was 1.0315104518298028.\n"
     ]
    },
    {
     "data": {
      "application/vnd.jupyter.widget-view+json": {
       "model_id": "c2af668f7939438a9947c1b3d7b816c3",
       "version_major": 2,
       "version_minor": 0
      },
      "text/plain": [
       "  0%|          | 0/1 [00:00<?, ?it/s]"
      ]
     },
     "metadata": {},
     "output_type": "display_data"
    },
    {
     "data": {
      "application/vnd.jupyter.widget-view+json": {
       "model_id": "21a920e8286f4229961ae63c410cf7d9",
       "version_major": 2,
       "version_minor": 0
      },
      "text/plain": [
       "  0%|          | 0/100 [00:00<?, ?it/s]"
      ]
     },
     "metadata": {},
     "output_type": "display_data"
    },
    {
     "data": {
      "application/vnd.jupyter.widget-view+json": {
       "model_id": "bcb6587bd9034c978ab8ac942d327ecc",
       "version_major": 2,
       "version_minor": 0
      },
      "text/plain": [
       "  0%|          | 0/100 [00:00<?, ?it/s]"
      ]
     },
     "metadata": {},
     "output_type": "display_data"
    },
    {
     "name": "stdout",
     "output_type": "stream",
     "text": [
      "Average exact match with params: samples 800 iters 100 ---- are independent: True the distance is: 3.184375000000003\n",
      "Average f1 with params: samples 800 iters 100 ---- are independent: True the distance is: 2.6241681629491325\n"
     ]
    },
    {
     "data": {
      "application/vnd.jupyter.widget-view+json": {
       "model_id": "8b1f7a4205d44ef1a7835a0903ac0f1b",
       "version_major": 2,
       "version_minor": 0
      },
      "text/plain": [
       "  0%|          | 0/1 [00:00<?, ?it/s]"
      ]
     },
     "metadata": {},
     "output_type": "display_data"
    },
    {
     "data": {
      "application/vnd.jupyter.widget-view+json": {
       "model_id": "e764440d5c464bb4a1f053d8970a4b28",
       "version_major": 2,
       "version_minor": 0
      },
      "text/plain": [
       "  0%|          | 0/1 [00:00<?, ?it/s]"
      ]
     },
     "metadata": {},
     "output_type": "display_data"
    },
    {
     "data": {
      "application/vnd.jupyter.widget-view+json": {
       "model_id": "ca17ed48212f4ba6849e4b5b9c9a43b5",
       "version_major": 2,
       "version_minor": 0
      },
      "text/plain": [
       "  0%|          | 0/100 [00:00<?, ?it/s]"
      ]
     },
     "metadata": {},
     "output_type": "display_data"
    },
    {
     "data": {
      "application/vnd.jupyter.widget-view+json": {
       "model_id": "85d5850fdf994ea9b8fe8c9e7b7b5fd0",
       "version_major": 2,
       "version_minor": 0
      },
      "text/plain": [
       "  0%|          | 0/100 [00:00<?, ?it/s]"
      ]
     },
     "metadata": {},
     "output_type": "display_data"
    },
    {
     "name": "stdout",
     "output_type": "stream",
     "text": [
      "Average exact match with params: samples 800 iters 100 ---- are independent: True the distance is: 3.1781249999999943\n",
      "Average f1 with params: samples 800 iters 100 ---- are independent: True the distance is: 1.9395536442083596\n",
      "The biggest distance between exact match intervals was with threshold 0 and the distance was 3.1781249999999943.\n",
      "The biggest distance between f1 intervals was with threshold 0 and the distance was 1.9395536442083596.\n"
     ]
    },
    {
     "data": {
      "application/vnd.jupyter.widget-view+json": {
       "model_id": "e18c30417a8646c58d0795e1ed3690d6",
       "version_major": 2,
       "version_minor": 0
      },
      "text/plain": [
       "  0%|          | 0/1 [00:00<?, ?it/s]"
      ]
     },
     "metadata": {},
     "output_type": "display_data"
    },
    {
     "data": {
      "application/vnd.jupyter.widget-view+json": {
       "model_id": "3bdd5214c29e43699bc1a237cf1c9dc0",
       "version_major": 2,
       "version_minor": 0
      },
      "text/plain": [
       "  0%|          | 0/1 [00:00<?, ?it/s]"
      ]
     },
     "metadata": {},
     "output_type": "display_data"
    },
    {
     "data": {
      "application/vnd.jupyter.widget-view+json": {
       "model_id": "b236d5d18f184a5c8c4c4791c4222bdc",
       "version_major": 2,
       "version_minor": 0
      },
      "text/plain": [
       "  0%|          | 0/100 [00:00<?, ?it/s]"
      ]
     },
     "metadata": {},
     "output_type": "display_data"
    },
    {
     "data": {
      "application/vnd.jupyter.widget-view+json": {
       "model_id": "590c661f90af448a9ae9eae0c008f1cc",
       "version_major": 2,
       "version_minor": 0
      },
      "text/plain": [
       "  0%|          | 0/100 [00:00<?, ?it/s]"
      ]
     },
     "metadata": {},
     "output_type": "display_data"
    },
    {
     "name": "stdout",
     "output_type": "stream",
     "text": [
      "Average exact match with params: samples 800 iters 100 ---- are independent: True the distance is: 0.4281250000000085\n",
      "Average f1 with params: samples 800 iters 100 ---- are independent: False the distance is: 0\n",
      "The biggest distance between exact match intervals was with threshold 1 and the distance was 0.4281250000000085.\n",
      "The biggest distance between f1 intervals was with threshold 0 and the distance was 0.\n"
     ]
    },
    {
     "data": {
      "application/vnd.jupyter.widget-view+json": {
       "model_id": "acb9aeed504d432c86c10759169eb6ae",
       "version_major": 2,
       "version_minor": 0
      },
      "text/plain": [
       "  0%|          | 0/1 [00:00<?, ?it/s]"
      ]
     },
     "metadata": {},
     "output_type": "display_data"
    },
    {
     "data": {
      "application/vnd.jupyter.widget-view+json": {
       "model_id": "be0a52e138f54d0fb1426aa216a888ab",
       "version_major": 2,
       "version_minor": 0
      },
      "text/plain": [
       "  0%|          | 0/1 [00:00<?, ?it/s]"
      ]
     },
     "metadata": {},
     "output_type": "display_data"
    },
    {
     "data": {
      "application/vnd.jupyter.widget-view+json": {
       "model_id": "a3eba59e3f734b459380e358dc4e980d",
       "version_major": 2,
       "version_minor": 0
      },
      "text/plain": [
       "  0%|          | 0/100 [00:00<?, ?it/s]"
      ]
     },
     "metadata": {},
     "output_type": "display_data"
    },
    {
     "data": {
      "application/vnd.jupyter.widget-view+json": {
       "model_id": "0aca0c03c0e74df78b7c74576503bedc",
       "version_major": 2,
       "version_minor": 0
      },
      "text/plain": [
       "  0%|          | 0/100 [00:00<?, ?it/s]"
      ]
     },
     "metadata": {},
     "output_type": "display_data"
    },
    {
     "name": "stdout",
     "output_type": "stream",
     "text": [
      "Average exact match with params: samples 800 iters 100 ---- are independent: True the distance is: 4.737500000000011\n",
      "Average f1 with params: samples 800 iters 100 ---- are independent: False the distance is: 0\n",
      "The biggest distance between exact match intervals was with threshold 3 and the distance was 4.737500000000011.\n",
      "The biggest distance between f1 intervals was with threshold 0 and the distance was 0.\n"
     ]
    },
    {
     "data": {
      "application/vnd.jupyter.widget-view+json": {
       "model_id": "926e716aaee040b6905b642e7bdcf1d7",
       "version_major": 2,
       "version_minor": 0
      },
      "text/plain": [
       "  0%|          | 0/1 [00:00<?, ?it/s]"
      ]
     },
     "metadata": {},
     "output_type": "display_data"
    },
    {
     "data": {
      "application/vnd.jupyter.widget-view+json": {
       "model_id": "499dd002746e4a979ddd9386d45944e0",
       "version_major": 2,
       "version_minor": 0
      },
      "text/plain": [
       "  0%|          | 0/1 [00:00<?, ?it/s]"
      ]
     },
     "metadata": {},
     "output_type": "display_data"
    },
    {
     "data": {
      "application/vnd.jupyter.widget-view+json": {
       "model_id": "225b1ec79ee64ea499a0696f400faa44",
       "version_major": 2,
       "version_minor": 0
      },
      "text/plain": [
       "  0%|          | 0/100 [00:00<?, ?it/s]"
      ]
     },
     "metadata": {},
     "output_type": "display_data"
    },
    {
     "data": {
      "application/vnd.jupyter.widget-view+json": {
       "model_id": "924fb444e6c64dceae8a679de6de1065",
       "version_major": 2,
       "version_minor": 0
      },
      "text/plain": [
       "  0%|          | 0/100 [00:00<?, ?it/s]"
      ]
     },
     "metadata": {},
     "output_type": "display_data"
    },
    {
     "name": "stdout",
     "output_type": "stream",
     "text": [
      "Average exact match with params: samples 800 iters 100 ---- are independent: True the distance is: 1.6187500000000057\n",
      "Average f1 with params: samples 800 iters 100 ---- are independent: False the distance is: 0\n",
      "The biggest distance between exact match intervals was with threshold 3 and the distance was 1.6187500000000057.\n",
      "The biggest distance between f1 intervals was with threshold 0 and the distance was 0.\n"
     ]
    },
    {
     "data": {
      "application/vnd.jupyter.widget-view+json": {
       "model_id": "72e28561338f4ba29d8ecd9da2915e1e",
       "version_major": 2,
       "version_minor": 0
      },
      "text/plain": [
       "  0%|          | 0/1 [00:00<?, ?it/s]"
      ]
     },
     "metadata": {},
     "output_type": "display_data"
    },
    {
     "data": {
      "application/vnd.jupyter.widget-view+json": {
       "model_id": "6ec77fdd8f0e48939f76087f59a67358",
       "version_major": 2,
       "version_minor": 0
      },
      "text/plain": [
       "  0%|          | 0/1 [00:00<?, ?it/s]"
      ]
     },
     "metadata": {},
     "output_type": "display_data"
    },
    {
     "data": {
      "application/vnd.jupyter.widget-view+json": {
       "model_id": "8756a80402a14516834338f037f2c06a",
       "version_major": 2,
       "version_minor": 0
      },
      "text/plain": [
       "  0%|          | 0/100 [00:00<?, ?it/s]"
      ]
     },
     "metadata": {},
     "output_type": "display_data"
    },
    {
     "data": {
      "application/vnd.jupyter.widget-view+json": {
       "model_id": "9639d8d707b042af89e9f02360ee8bc1",
       "version_major": 2,
       "version_minor": 0
      },
      "text/plain": [
       "  0%|          | 0/100 [00:00<?, ?it/s]"
      ]
     },
     "metadata": {},
     "output_type": "display_data"
    },
    {
     "name": "stdout",
     "output_type": "stream",
     "text": [
      "Average exact match with params: samples 800 iters 100 ---- are independent: True the distance is: 5.993750000000006\n",
      "Average f1 with params: samples 800 iters 100 ---- are independent: False the distance is: 0\n",
      "The biggest distance between exact match intervals was with threshold 3 and the distance was 5.993750000000006.\n",
      "The biggest distance between f1 intervals was with threshold 0 and the distance was 0.\n"
     ]
    },
    {
     "data": {
      "application/vnd.jupyter.widget-view+json": {
       "model_id": "33e80d40afd144f0b1847ee5e8f9a92b",
       "version_major": 2,
       "version_minor": 0
      },
      "text/plain": [
       "  0%|          | 0/1 [00:00<?, ?it/s]"
      ]
     },
     "metadata": {},
     "output_type": "display_data"
    },
    {
     "data": {
      "application/vnd.jupyter.widget-view+json": {
       "model_id": "9d72c3fda50b47cfb959150a809802a8",
       "version_major": 2,
       "version_minor": 0
      },
      "text/plain": [
       "  0%|          | 0/100 [00:00<?, ?it/s]"
      ]
     },
     "metadata": {},
     "output_type": "display_data"
    },
    {
     "data": {
      "application/vnd.jupyter.widget-view+json": {
       "model_id": "dc0da4d8ca4645c2bb2210dab7b2532b",
       "version_major": 2,
       "version_minor": 0
      },
      "text/plain": [
       "  0%|          | 0/100 [00:00<?, ?it/s]"
      ]
     },
     "metadata": {},
     "output_type": "display_data"
    },
    {
     "name": "stdout",
     "output_type": "stream",
     "text": [
      "Average exact match with params: samples 800 iters 100 ---- are independent: True the distance is: 1.9281250000000085\n",
      "Average f1 with params: samples 800 iters 100 ---- are independent: True the distance is: 1.2689331098478505\n"
     ]
    },
    {
     "data": {
      "application/vnd.jupyter.widget-view+json": {
       "model_id": "cc635efe8b3441d0b4a6762bc94c1798",
       "version_major": 2,
       "version_minor": 0
      },
      "text/plain": [
       "  0%|          | 0/1 [00:00<?, ?it/s]"
      ]
     },
     "metadata": {},
     "output_type": "display_data"
    },
    {
     "data": {
      "application/vnd.jupyter.widget-view+json": {
       "model_id": "1a2777871b9c4190a386ce5f648a00cd",
       "version_major": 2,
       "version_minor": 0
      },
      "text/plain": [
       "  0%|          | 0/100 [00:00<?, ?it/s]"
      ]
     },
     "metadata": {},
     "output_type": "display_data"
    },
    {
     "data": {
      "application/vnd.jupyter.widget-view+json": {
       "model_id": "07ab185d7a034a07a318a5c1d45eaf4a",
       "version_major": 2,
       "version_minor": 0
      },
      "text/plain": [
       "  0%|          | 0/100 [00:00<?, ?it/s]"
      ]
     },
     "metadata": {},
     "output_type": "display_data"
    },
    {
     "name": "stdout",
     "output_type": "stream",
     "text": [
      "Average exact match with params: samples 800 iters 100 ---- are independent: True the distance is: 1.9281250000000085\n",
      "Average f1 with params: samples 800 iters 100 ---- are independent: True the distance is: 1.5314711556286227\n"
     ]
    },
    {
     "data": {
      "application/vnd.jupyter.widget-view+json": {
       "model_id": "77319af4baeb454aabe47692f8a70fdd",
       "version_major": 2,
       "version_minor": 0
      },
      "text/plain": [
       "  0%|          | 0/1 [00:00<?, ?it/s]"
      ]
     },
     "metadata": {},
     "output_type": "display_data"
    },
    {
     "data": {
      "application/vnd.jupyter.widget-view+json": {
       "model_id": "c39cefad177a4ac8bccee5dd5a201f4d",
       "version_major": 2,
       "version_minor": 0
      },
      "text/plain": [
       "  0%|          | 0/100 [00:00<?, ?it/s]"
      ]
     },
     "metadata": {},
     "output_type": "display_data"
    },
    {
     "data": {
      "application/vnd.jupyter.widget-view+json": {
       "model_id": "19c27b016c8d4f50a1bc7f5fcde1846a",
       "version_major": 2,
       "version_minor": 0
      },
      "text/plain": [
       "  0%|          | 0/100 [00:00<?, ?it/s]"
      ]
     },
     "metadata": {},
     "output_type": "display_data"
    },
    {
     "name": "stdout",
     "output_type": "stream",
     "text": [
      "Average exact match with params: samples 800 iters 100 ---- are independent: True the distance is: 3.25\n",
      "Average f1 with params: samples 800 iters 100 ---- are independent: True the distance is: 2.6652459179587993\n"
     ]
    },
    {
     "data": {
      "application/vnd.jupyter.widget-view+json": {
       "model_id": "09e1a845ac5a4e83851e31ecd2ec69dd",
       "version_major": 2,
       "version_minor": 0
      },
      "text/plain": [
       "  0%|          | 0/1 [00:00<?, ?it/s]"
      ]
     },
     "metadata": {},
     "output_type": "display_data"
    },
    {
     "data": {
      "application/vnd.jupyter.widget-view+json": {
       "model_id": "4280e0b78a534d18be15808319989cf9",
       "version_major": 2,
       "version_minor": 0
      },
      "text/plain": [
       "  0%|          | 0/1 [00:00<?, ?it/s]"
      ]
     },
     "metadata": {},
     "output_type": "display_data"
    },
    {
     "data": {
      "application/vnd.jupyter.widget-view+json": {
       "model_id": "b79776a43ea946e08cd0dd3976efa433",
       "version_major": 2,
       "version_minor": 0
      },
      "text/plain": [
       "  0%|          | 0/100 [00:00<?, ?it/s]"
      ]
     },
     "metadata": {},
     "output_type": "display_data"
    },
    {
     "data": {
      "application/vnd.jupyter.widget-view+json": {
       "model_id": "2b7794a154d047f5803202cc6e7e1287",
       "version_major": 2,
       "version_minor": 0
      },
      "text/plain": [
       "  0%|          | 0/100 [00:00<?, ?it/s]"
      ]
     },
     "metadata": {},
     "output_type": "display_data"
    },
    {
     "name": "stdout",
     "output_type": "stream",
     "text": [
      "Average exact match with params: samples 800 iters 100 ---- are independent: True the distance is: 6.934375000000003\n",
      "Average f1 with params: samples 800 iters 100 ---- are independent: True the distance is: 6.090373308107488\n",
      "The biggest distance between exact match intervals was with threshold 7 and the distance was 6.934375000000003.\n",
      "The biggest distance between f1 intervals was with threshold 7 and the distance was 6.090373308107488.\n"
     ]
    },
    {
     "data": {
      "application/vnd.jupyter.widget-view+json": {
       "model_id": "f8ce6595cff54112ab816a05d81bc718",
       "version_major": 2,
       "version_minor": 0
      },
      "text/plain": [
       "  0%|          | 0/1 [00:00<?, ?it/s]"
      ]
     },
     "metadata": {},
     "output_type": "display_data"
    },
    {
     "data": {
      "application/vnd.jupyter.widget-view+json": {
       "model_id": "e4a9c84ee6d24d8f9e1f353caf4981bd",
       "version_major": 2,
       "version_minor": 0
      },
      "text/plain": [
       "  0%|          | 0/1 [00:00<?, ?it/s]"
      ]
     },
     "metadata": {},
     "output_type": "display_data"
    },
    {
     "data": {
      "application/vnd.jupyter.widget-view+json": {
       "model_id": "84f46bb6fe434b38ab24f4d375ae729d",
       "version_major": 2,
       "version_minor": 0
      },
      "text/plain": [
       "  0%|          | 0/100 [00:00<?, ?it/s]"
      ]
     },
     "metadata": {},
     "output_type": "display_data"
    },
    {
     "data": {
      "application/vnd.jupyter.widget-view+json": {
       "model_id": "666a98a9a8df47529400e103b2f87160",
       "version_major": 2,
       "version_minor": 0
      },
      "text/plain": [
       "  0%|          | 0/100 [00:00<?, ?it/s]"
      ]
     },
     "metadata": {},
     "output_type": "display_data"
    },
    {
     "name": "stdout",
     "output_type": "stream",
     "text": [
      "Average exact match with params: samples 800 iters 100 ---- are independent: True the distance is: 7.8031250000000085\n",
      "Average f1 with params: samples 800 iters 100 ---- are independent: True the distance is: 6.862375731960469\n",
      "The biggest distance between exact match intervals was with threshold 7 and the distance was 7.8031250000000085.\n",
      "The biggest distance between f1 intervals was with threshold 7 and the distance was 6.862375731960469.\n"
     ]
    },
    {
     "data": {
      "application/vnd.jupyter.widget-view+json": {
       "model_id": "399ea2c874e543bebda181db9828ad17",
       "version_major": 2,
       "version_minor": 0
      },
      "text/plain": [
       "  0%|          | 0/1 [00:00<?, ?it/s]"
      ]
     },
     "metadata": {},
     "output_type": "display_data"
    },
    {
     "data": {
      "application/vnd.jupyter.widget-view+json": {
       "model_id": "1f80d85dcf40462b9df4b210d552fb4d",
       "version_major": 2,
       "version_minor": 0
      },
      "text/plain": [
       "  0%|          | 0/1 [00:00<?, ?it/s]"
      ]
     },
     "metadata": {},
     "output_type": "display_data"
    },
    {
     "data": {
      "application/vnd.jupyter.widget-view+json": {
       "model_id": "df4d13c2f8da4871854b4d02e1f50c63",
       "version_major": 2,
       "version_minor": 0
      },
      "text/plain": [
       "  0%|          | 0/100 [00:00<?, ?it/s]"
      ]
     },
     "metadata": {},
     "output_type": "display_data"
    },
    {
     "data": {
      "application/vnd.jupyter.widget-view+json": {
       "model_id": "7513f7251d5f465b8fcbc867eff06c71",
       "version_major": 2,
       "version_minor": 0
      },
      "text/plain": [
       "  0%|          | 0/100 [00:00<?, ?it/s]"
      ]
     },
     "metadata": {},
     "output_type": "display_data"
    },
    {
     "name": "stdout",
     "output_type": "stream",
     "text": [
      "Average exact match with params: samples 800 iters 100 ---- are independent: True the distance is: 7.868750000000006\n",
      "Average f1 with params: samples 800 iters 100 ---- are independent: True the distance is: 6.129875593625712\n",
      "The biggest distance between exact match intervals was with threshold 7 and the distance was 7.868750000000006.\n",
      "The biggest distance between f1 intervals was with threshold 7 and the distance was 6.129875593625712.\n"
     ]
    },
    {
     "data": {
      "application/vnd.jupyter.widget-view+json": {
       "model_id": "1ab73ca827e24bf1b99fef3e56498be6",
       "version_major": 2,
       "version_minor": 0
      },
      "text/plain": [
       "  0%|          | 0/1 [00:00<?, ?it/s]"
      ]
     },
     "metadata": {},
     "output_type": "display_data"
    },
    {
     "data": {
      "application/vnd.jupyter.widget-view+json": {
       "model_id": "86194825064c4d77a88f2f1cb24ae23a",
       "version_major": 2,
       "version_minor": 0
      },
      "text/plain": [
       "  0%|          | 0/1 [00:00<?, ?it/s]"
      ]
     },
     "metadata": {},
     "output_type": "display_data"
    },
    {
     "data": {
      "application/vnd.jupyter.widget-view+json": {
       "model_id": "580ab9e63e09458898d9bed29db26a51",
       "version_major": 2,
       "version_minor": 0
      },
      "text/plain": [
       "  0%|          | 0/100 [00:00<?, ?it/s]"
      ]
     },
     "metadata": {},
     "output_type": "display_data"
    },
    {
     "data": {
      "application/vnd.jupyter.widget-view+json": {
       "model_id": "2a2351e2dfa84392a62dc0cd6d3713a8",
       "version_major": 2,
       "version_minor": 0
      },
      "text/plain": [
       "  0%|          | 0/100 [00:00<?, ?it/s]"
      ]
     },
     "metadata": {},
     "output_type": "display_data"
    },
    {
     "name": "stdout",
     "output_type": "stream",
     "text": [
      "Average exact match with params: samples 800 iters 100 ---- are independent: True the distance is: 0.5593750000000028\n",
      "Average f1 with params: samples 800 iters 100 ---- are independent: False the distance is: 0\n",
      "The biggest distance between exact match intervals was with threshold 0 and the distance was 0.5593750000000028.\n",
      "The biggest distance between f1 intervals was with threshold 0 and the distance was 0.\n"
     ]
    },
    {
     "data": {
      "application/vnd.jupyter.widget-view+json": {
       "model_id": "a8635d5879464f1ebe8ebdbcc0bc96de",
       "version_major": 2,
       "version_minor": 0
      },
      "text/plain": [
       "  0%|          | 0/1 [00:00<?, ?it/s]"
      ]
     },
     "metadata": {},
     "output_type": "display_data"
    },
    {
     "data": {
      "application/vnd.jupyter.widget-view+json": {
       "model_id": "69bc88cf6a0246cfbd390fff121495d2",
       "version_major": 2,
       "version_minor": 0
      },
      "text/plain": [
       "  0%|          | 0/1 [00:00<?, ?it/s]"
      ]
     },
     "metadata": {},
     "output_type": "display_data"
    },
    {
     "data": {
      "application/vnd.jupyter.widget-view+json": {
       "model_id": "939fe9092e894e2785a403c8c47b3168",
       "version_major": 2,
       "version_minor": 0
      },
      "text/plain": [
       "  0%|          | 0/100 [00:00<?, ?it/s]"
      ]
     },
     "metadata": {},
     "output_type": "display_data"
    },
    {
     "data": {
      "application/vnd.jupyter.widget-view+json": {
       "model_id": "59f83aa03b70451f9c3509c16613ed3e",
       "version_major": 2,
       "version_minor": 0
      },
      "text/plain": [
       "  0%|          | 0/100 [00:00<?, ?it/s]"
      ]
     },
     "metadata": {},
     "output_type": "display_data"
    },
    {
     "name": "stdout",
     "output_type": "stream",
     "text": [
      "Average exact match with params: samples 800 iters 100 ---- are independent: True the distance is: 1.5593750000000028\n",
      "Average f1 with params: samples 800 iters 100 ---- are independent: True the distance is: 0.4658582615579121\n",
      "The biggest distance between exact match intervals was with threshold 0 and the distance was 1.5593750000000028.\n",
      "The biggest distance between f1 intervals was with threshold 0 and the distance was 0.4658582615579121.\n"
     ]
    },
    {
     "data": {
      "application/vnd.jupyter.widget-view+json": {
       "model_id": "c3da56851a4148c0ad29b76d39eba485",
       "version_major": 2,
       "version_minor": 0
      },
      "text/plain": [
       "  0%|          | 0/1 [00:00<?, ?it/s]"
      ]
     },
     "metadata": {},
     "output_type": "display_data"
    },
    {
     "data": {
      "application/vnd.jupyter.widget-view+json": {
       "model_id": "d31b7d1859414158bdb76680d7b9ff0d",
       "version_major": 2,
       "version_minor": 0
      },
      "text/plain": [
       "  0%|          | 0/1 [00:00<?, ?it/s]"
      ]
     },
     "metadata": {},
     "output_type": "display_data"
    },
    {
     "data": {
      "application/vnd.jupyter.widget-view+json": {
       "model_id": "6499bf5f28064476a3bb58d4495c8eb3",
       "version_major": 2,
       "version_minor": 0
      },
      "text/plain": [
       "  0%|          | 0/100 [00:00<?, ?it/s]"
      ]
     },
     "metadata": {},
     "output_type": "display_data"
    },
    {
     "data": {
      "application/vnd.jupyter.widget-view+json": {
       "model_id": "7dc839d2d3c143bf8ba82b2c076303fb",
       "version_major": 2,
       "version_minor": 0
      },
      "text/plain": [
       "  0%|          | 0/100 [00:00<?, ?it/s]"
      ]
     },
     "metadata": {},
     "output_type": "display_data"
    },
    {
     "name": "stdout",
     "output_type": "stream",
     "text": [
      "Average exact match with params: samples 800 iters 100 ---- are independent: True the distance is: 2.4875000000000114\n",
      "Average f1 with params: samples 800 iters 100 ---- are independent: True the distance is: 1.424034000895574\n",
      "The biggest distance between exact match intervals was with threshold 0 and the distance was 2.4875000000000114.\n",
      "The biggest distance between f1 intervals was with threshold 0 and the distance was 1.424034000895574.\n"
     ]
    },
    {
     "data": {
      "application/vnd.jupyter.widget-view+json": {
       "model_id": "c0380b063fd4453e9095c84fee5e3824",
       "version_major": 2,
       "version_minor": 0
      },
      "text/plain": [
       "  0%|          | 0/1 [00:00<?, ?it/s]"
      ]
     },
     "metadata": {},
     "output_type": "display_data"
    },
    {
     "data": {
      "application/vnd.jupyter.widget-view+json": {
       "model_id": "f865cd0bbca643d592a65930da5197b7",
       "version_major": 2,
       "version_minor": 0
      },
      "text/plain": [
       "  0%|          | 0/1 [00:00<?, ?it/s]"
      ]
     },
     "metadata": {},
     "output_type": "display_data"
    },
    {
     "data": {
      "application/vnd.jupyter.widget-view+json": {
       "model_id": "a283b8592e73405c993df32710fe305c",
       "version_major": 2,
       "version_minor": 0
      },
      "text/plain": [
       "  0%|          | 0/100 [00:00<?, ?it/s]"
      ]
     },
     "metadata": {},
     "output_type": "display_data"
    },
    {
     "data": {
      "application/vnd.jupyter.widget-view+json": {
       "model_id": "3488af99e2f94a23ae6dc8d5ab6bdad1",
       "version_major": 2,
       "version_minor": 0
      },
      "text/plain": [
       "  0%|          | 0/100 [00:00<?, ?it/s]"
      ]
     },
     "metadata": {},
     "output_type": "display_data"
    },
    {
     "name": "stdout",
     "output_type": "stream",
     "text": [
      "Average exact match with params: samples 800 iters 100 ---- are independent: False the distance is: 0\n",
      "Average f1 with params: samples 800 iters 100 ---- are independent: False the distance is: 0\n",
      "The biggest distance between exact match intervals was with threshold 0 and the distance was 0.\n",
      "The biggest distance between f1 intervals was with threshold 0 and the distance was 0.\n"
     ]
    },
    {
     "data": {
      "application/vnd.jupyter.widget-view+json": {
       "model_id": "708968db9dd247a2a104584b48533021",
       "version_major": 2,
       "version_minor": 0
      },
      "text/plain": [
       "  0%|          | 0/1 [00:00<?, ?it/s]"
      ]
     },
     "metadata": {},
     "output_type": "display_data"
    },
    {
     "data": {
      "application/vnd.jupyter.widget-view+json": {
       "model_id": "72a305f0fffc4ec586c8be217fe0ba2e",
       "version_major": 2,
       "version_minor": 0
      },
      "text/plain": [
       "  0%|          | 0/1 [00:00<?, ?it/s]"
      ]
     },
     "metadata": {},
     "output_type": "display_data"
    },
    {
     "data": {
      "application/vnd.jupyter.widget-view+json": {
       "model_id": "691d4cc237054dfcb0c2f7ac12a975af",
       "version_major": 2,
       "version_minor": 0
      },
      "text/plain": [
       "  0%|          | 0/100 [00:00<?, ?it/s]"
      ]
     },
     "metadata": {},
     "output_type": "display_data"
    },
    {
     "data": {
      "application/vnd.jupyter.widget-view+json": {
       "model_id": "50d56ca8bc084701a3ed4ab596f6341f",
       "version_major": 2,
       "version_minor": 0
      },
      "text/plain": [
       "  0%|          | 0/100 [00:00<?, ?it/s]"
      ]
     },
     "metadata": {},
     "output_type": "display_data"
    },
    {
     "name": "stdout",
     "output_type": "stream",
     "text": [
      "Average exact match with params: samples 800 iters 100 ---- are independent: True the distance is: 0.05937500000000284\n",
      "Average f1 with params: samples 800 iters 100 ---- are independent: False the distance is: 0\n",
      "The biggest distance between exact match intervals was with threshold 4 and the distance was 0.05937500000000284.\n",
      "The biggest distance between f1 intervals was with threshold 0 and the distance was 0.\n"
     ]
    },
    {
     "data": {
      "application/vnd.jupyter.widget-view+json": {
       "model_id": "690edc8a13a1465f8b307f9f7c20b30b",
       "version_major": 2,
       "version_minor": 0
      },
      "text/plain": [
       "  0%|          | 0/1 [00:00<?, ?it/s]"
      ]
     },
     "metadata": {},
     "output_type": "display_data"
    },
    {
     "data": {
      "application/vnd.jupyter.widget-view+json": {
       "model_id": "4bb6c5bb309d412bbd54d62bf6c31de6",
       "version_major": 2,
       "version_minor": 0
      },
      "text/plain": [
       "  0%|          | 0/1 [00:00<?, ?it/s]"
      ]
     },
     "metadata": {},
     "output_type": "display_data"
    },
    {
     "data": {
      "application/vnd.jupyter.widget-view+json": {
       "model_id": "e400fd3f9d0f441e9a2b631549890b22",
       "version_major": 2,
       "version_minor": 0
      },
      "text/plain": [
       "  0%|          | 0/100 [00:00<?, ?it/s]"
      ]
     },
     "metadata": {},
     "output_type": "display_data"
    },
    {
     "data": {
      "application/vnd.jupyter.widget-view+json": {
       "model_id": "a6547628b96b4d38a7a3a06005cf2d2d",
       "version_major": 2,
       "version_minor": 0
      },
      "text/plain": [
       "  0%|          | 0/100 [00:00<?, ?it/s]"
      ]
     },
     "metadata": {},
     "output_type": "display_data"
    },
    {
     "name": "stdout",
     "output_type": "stream",
     "text": [
      "Average exact match with params: samples 800 iters 100 ---- are independent: True the distance is: 1.2437500000000057\n",
      "Average f1 with params: samples 800 iters 100 ---- are independent: False the distance is: 0\n",
      "The biggest distance between exact match intervals was with threshold 4 and the distance was 1.2437500000000057.\n",
      "The biggest distance between f1 intervals was with threshold 0 and the distance was 0.\n"
     ]
    },
    {
     "data": {
      "application/vnd.jupyter.widget-view+json": {
       "model_id": "f11cca9cdd3540a4b129c6e680e04549",
       "version_major": 2,
       "version_minor": 0
      },
      "text/plain": [
       "  0%|          | 0/1 [00:00<?, ?it/s]"
      ]
     },
     "metadata": {},
     "output_type": "display_data"
    },
    {
     "data": {
      "application/vnd.jupyter.widget-view+json": {
       "model_id": "22de8bef7cf84efcb9f06ed1b780c48b",
       "version_major": 2,
       "version_minor": 0
      },
      "text/plain": [
       "  0%|          | 0/1 [00:00<?, ?it/s]"
      ]
     },
     "metadata": {},
     "output_type": "display_data"
    },
    {
     "data": {
      "application/vnd.jupyter.widget-view+json": {
       "model_id": "3f18aeeb8a244444be7e736c3f1c3935",
       "version_major": 2,
       "version_minor": 0
      },
      "text/plain": [
       "  0%|          | 0/100 [00:00<?, ?it/s]"
      ]
     },
     "metadata": {},
     "output_type": "display_data"
    },
    {
     "data": {
      "application/vnd.jupyter.widget-view+json": {
       "model_id": "3f8e8480cd5c48c6a864195f8faee3f2",
       "version_major": 2,
       "version_minor": 0
      },
      "text/plain": [
       "  0%|          | 0/100 [00:00<?, ?it/s]"
      ]
     },
     "metadata": {},
     "output_type": "display_data"
    },
    {
     "name": "stdout",
     "output_type": "stream",
     "text": [
      "Average exact match with params: samples 800 iters 100 ---- are independent: False the distance is: 0\n",
      "Average f1 with params: samples 800 iters 100 ---- are independent: False the distance is: 0\n",
      "The biggest distance between exact match intervals was with threshold 0 and the distance was 0.\n",
      "The biggest distance between f1 intervals was with threshold 0 and the distance was 0.\n"
     ]
    },
    {
     "data": {
      "application/vnd.jupyter.widget-view+json": {
       "model_id": "4703f654fcdc40a0a381a80d5f6f58fd",
       "version_major": 2,
       "version_minor": 0
      },
      "text/plain": [
       "  0%|          | 0/1 [00:00<?, ?it/s]"
      ]
     },
     "metadata": {},
     "output_type": "display_data"
    },
    {
     "data": {
      "application/vnd.jupyter.widget-view+json": {
       "model_id": "96d2eb8dc41444719d462d378c5797e7",
       "version_major": 2,
       "version_minor": 0
      },
      "text/plain": [
       "  0%|          | 0/1 [00:00<?, ?it/s]"
      ]
     },
     "metadata": {},
     "output_type": "display_data"
    },
    {
     "data": {
      "application/vnd.jupyter.widget-view+json": {
       "model_id": "32fc6943380e4d87b0ceefc2be2701d0",
       "version_major": 2,
       "version_minor": 0
      },
      "text/plain": [
       "  0%|          | 0/100 [00:00<?, ?it/s]"
      ]
     },
     "metadata": {},
     "output_type": "display_data"
    },
    {
     "data": {
      "application/vnd.jupyter.widget-view+json": {
       "model_id": "6746d017496b468db1f91060243a6ac5",
       "version_major": 2,
       "version_minor": 0
      },
      "text/plain": [
       "  0%|          | 0/100 [00:00<?, ?it/s]"
      ]
     },
     "metadata": {},
     "output_type": "display_data"
    },
    {
     "name": "stdout",
     "output_type": "stream",
     "text": [
      "Average exact match with params: samples 800 iters 100 ---- are independent: False the distance is: 0\n",
      "Average f1 with params: samples 800 iters 100 ---- are independent: False the distance is: 0\n",
      "The biggest distance between exact match intervals was with threshold 0 and the distance was 0.\n",
      "The biggest distance between f1 intervals was with threshold 0 and the distance was 0.\n"
     ]
    },
    {
     "data": {
      "application/vnd.jupyter.widget-view+json": {
       "model_id": "0ad19fbb6a924178a01a1730a34236f3",
       "version_major": 2,
       "version_minor": 0
      },
      "text/plain": [
       "  0%|          | 0/1 [00:00<?, ?it/s]"
      ]
     },
     "metadata": {},
     "output_type": "display_data"
    },
    {
     "data": {
      "application/vnd.jupyter.widget-view+json": {
       "model_id": "d4147efd8e2848d79651109035ac0f59",
       "version_major": 2,
       "version_minor": 0
      },
      "text/plain": [
       "  0%|          | 0/1 [00:00<?, ?it/s]"
      ]
     },
     "metadata": {},
     "output_type": "display_data"
    },
    {
     "data": {
      "application/vnd.jupyter.widget-view+json": {
       "model_id": "a4e16d71f2714f2f832ee97afb294ef1",
       "version_major": 2,
       "version_minor": 0
      },
      "text/plain": [
       "  0%|          | 0/100 [00:00<?, ?it/s]"
      ]
     },
     "metadata": {},
     "output_type": "display_data"
    },
    {
     "data": {
      "application/vnd.jupyter.widget-view+json": {
       "model_id": "43b7e1b8e65b41a694330ecdeb5e3c73",
       "version_major": 2,
       "version_minor": 0
      },
      "text/plain": [
       "  0%|          | 0/100 [00:00<?, ?it/s]"
      ]
     },
     "metadata": {},
     "output_type": "display_data"
    },
    {
     "name": "stdout",
     "output_type": "stream",
     "text": [
      "Average exact match with params: samples 800 iters 100 ---- are independent: False the distance is: 0\n",
      "Average f1 with params: samples 800 iters 100 ---- are independent: False the distance is: 0\n",
      "The biggest distance between exact match intervals was with threshold 0 and the distance was 0.\n",
      "The biggest distance between f1 intervals was with threshold 0 and the distance was 0.\n"
     ]
    }
   ],
   "source": [
    "# files = []\n",
    "# files.append('squad_base_v3.json')\n",
    "# files.append('squad_base_v4.json')\n",
    "# files.append('squad_base_v5.json')\n",
    "# files.append('squad_supersampled_answer_length_3.json')\n",
    "# files.append('squad_supersampled_answer_length_3_v2.json')\n",
    "# files.append('squad_supersampled_answer_length_3_v3.json')\n",
    "# files.append('squad_supersampled_cosine_similarity_01.json')\n",
    "# files.append('squad_supersampled_cosine_similarity_01_v2.json')\n",
    "# files.append('squad_supersampled_cosine_similarity_01_v3.json')\n",
    "# files.append('squad_supersampled_distances_7.json')\n",
    "# files.append('squad_supersampled_distances_7_v2.json')\n",
    "# files.append('squad_supersampled_distances_7_v3.json')\n",
    "# files.append('squad_supersampled_similar_entities_0.json')\n",
    "# files.append('squad_supersampled_similar_entities_0_v2.json')\n",
    "# files.append('squad_supersampled_similar_entities_0_v3.json')\n",
    "# files.append('squad_supersampled_similar_words_4.json')\n",
    "# files.append('squad_supersampled_similar_words_4_v2.json')\n",
    "# files.append('squad_supersampled_similar_words_4_v3.json')\n",
    "# files.append('squad_supersampled_ans_sub_pos_1.json')\n",
    "# files.append('squad_supersampled_ans_sub_pos_1_v2.json')\n",
    "# files.append('squad_supersampled_ans_sub_pos_1_v3.json')\n",
    "folder = './from_debiased_models/for_comparison/enhanced_'\n",
    "\n",
    "\n",
    "dataset = 'squad_base'\n",
    "data = pd.read_json(folder + 'squad_base_v3.json')\n",
    "\n",
    "find_longest_distance(data[data.distances >= 0], 'distances', 7, 8)\n",
    "find_longest_distance(data, 'similar_words', 4, 5)\n",
    "find_longest_distance(data, 'answer_lenght', 3, 4)\n",
    "compute_metrics_average_split(data, 'cosine_similarity', 0.10)\n",
    "find_longest_distance(data, 'max_sim_ents', 0, 1)\n",
    "find_longest_distance(data[data.answer_subject_positions >= 0], 'answer_subject_positions', 1, 2)\n",
    "\n",
    "dataset = 'squad_base'\n",
    "data = pd.read_json(folder + 'squad_base_v4.json')\n",
    "\n",
    "find_longest_distance(data[data.distances >= 0], 'distances', 7, 8)\n",
    "find_longest_distance(data, 'similar_words', 4, 5)\n",
    "find_longest_distance(data, 'answer_lenght', 3, 4)\n",
    "compute_metrics_average_split(data, 'cosine_similarity', 0.10)\n",
    "find_longest_distance(data, 'max_sim_ents', 0, 1)\n",
    "find_longest_distance(data[data.answer_subject_positions >= 0], 'answer_subject_positions', 1, 2)\n",
    "\n",
    "dataset = 'squad_base'\n",
    "data = pd.read_json(folder + 'squad_base_v5.json')\n",
    "\n",
    "find_longest_distance(data[data.distances >= 0], 'distances', 7, 8)\n",
    "find_longest_distance(data, 'similar_words', 4, 5)\n",
    "find_longest_distance(data, 'answer_lenght', 3, 4)\n",
    "compute_metrics_average_split(data, 'cosine_similarity', 0.10)\n",
    "find_longest_distance(data, 'max_sim_ents', 0, 1)\n",
    "find_longest_distance(data[data.answer_subject_positions >= 0], 'answer_subject_positions', 1, 2)\n",
    "\n",
    "dataset = 'squad_supersampled'\n",
    "data = pd.read_json(folder + 'squad_supersampled_answer_length_3.json')\n",
    "\n",
    "find_longest_distance(data, 'answer_lenght', 3, 4)\n",
    "\n",
    "dataset = 'squad_supersampled'\n",
    "data = pd.read_json(folder + 'squad_supersampled_answer_length_3_v2.json')\n",
    "\n",
    "find_longest_distance(data, 'answer_lenght', 3, 4)\n",
    "\n",
    "dataset = 'squad_supersampled'\n",
    "data = pd.read_json(folder + 'squad_supersampled_answer_length_3_v3.json')\n",
    "\n",
    "find_longest_distance(data, 'answer_lenght', 3, 4)\n",
    "\n",
    "dataset = 'squad_supersampled'\n",
    "data = pd.read_json(folder + 'squad_supersampled_cosine_similarity_01.json')\n",
    "\n",
    "compute_metrics_average_split(data, 'cosine_similarity', 0.10)\n",
    "\n",
    "dataset = 'squad_supersampled'\n",
    "data = pd.read_json(folder + 'squad_supersampled_cosine_similarity_01_v2.json')\n",
    "\n",
    "compute_metrics_average_split(data, 'cosine_similarity', 0.10)\n",
    "\n",
    "dataset = 'squad_supersampled'\n",
    "data = pd.read_json(folder + 'squad_supersampled_cosine_similarity_01_v3.json')\n",
    "\n",
    "compute_metrics_average_split(data, 'cosine_similarity', 0.10)\n",
    "\n",
    "dataset = 'squad_supersampled'\n",
    "data = pd.read_json(folder + 'squad_supersampled_distances_7.json')\n",
    "\n",
    "find_longest_distance(data[data.distances >= 0], 'distances', 7, 8)\n",
    "\n",
    "dataset = 'squad_supersampled'\n",
    "data = pd.read_json(folder + 'squad_supersampled_distances_7_v2.json')\n",
    "\n",
    "find_longest_distance(data[data.distances >= 0], 'distances', 7, 8)\n",
    "\n",
    "dataset = 'squad_supersampled'\n",
    "data = pd.read_json(folder + 'squad_supersampled_distances_7_v3.json')\n",
    "\n",
    "find_longest_distance(data[data.distances >= 0], 'distances', 7, 8)\n",
    "\n",
    "dataset = 'squad_supersampled'\n",
    "data = pd.read_json(folder + 'squad_supersampled_similar_entities_0.json')\n",
    "\n",
    "find_longest_distance(data, 'max_sim_ents', 0, 1)\n",
    "\n",
    "dataset = 'squad_supersampled'\n",
    "data = pd.read_json(folder + 'squad_supersampled_similar_entities_0_v2.json')\n",
    "\n",
    "find_longest_distance(data, 'max_sim_ents', 0, 1)\n",
    "\n",
    "dataset = 'squad_supersampled'\n",
    "data = pd.read_json(folder + 'squad_supersampled_similar_entities_0_v3.json')\n",
    "\n",
    "find_longest_distance(data, 'max_sim_ents', 0, 1)\n",
    "\n",
    "dataset = 'squad_supersampled'\n",
    "data = pd.read_json(folder + 'squad_supersampled_similar_words_4.json')\n",
    "\n",
    "find_longest_distance(data, 'similar_words', 4, 5)\n",
    "\n",
    "dataset = 'squad_supersampled'\n",
    "data = pd.read_json(folder + 'squad_supersampled_similar_words_4_v2.json')\n",
    "\n",
    "find_longest_distance(data, 'similar_words', 4, 5)\n",
    "\n",
    "dataset = 'squad_supersampled'\n",
    "data = pd.read_json(folder + 'squad_supersampled_similar_words_4_v3.json')\n",
    "\n",
    "find_longest_distance(data, 'similar_words', 4, 5)\n",
    "\n",
    "dataset = 'squad_supersampled'\n",
    "data = pd.read_json(folder + 'squad_supersampled_ans_sub_pos_1.json')\n",
    "\n",
    "find_longest_distance(data[data.answer_subject_positions >= 0], 'answer_subject_positions', 1, 2)\n",
    "\n",
    "dataset = 'squad_supersampled'\n",
    "data = pd.read_json(folder + 'squad_supersampled_ans_sub_pos_1_v2.json')\n",
    "\n",
    "find_longest_distance(data[data.answer_subject_positions >= 0], 'answer_subject_positions', 1, 2)\n",
    "\n",
    "dataset = 'squad_supersampled'\n",
    "data = pd.read_json(folder + 'squad_supersampled_ans_sub_pos_1_v3.json')\n",
    "\n",
    "find_longest_distance(data[data.answer_subject_positions >= 0], 'answer_subject_positions', 1, 2)"
   ]
  },
  {
   "cell_type": "code",
   "execution_count": 20,
   "metadata": {},
   "outputs": [
    {
     "data": {
      "application/vnd.jupyter.widget-view+json": {
       "model_id": "e3806fd5256d484cad7261dff0c1b82b",
       "version_major": 2,
       "version_minor": 0
      },
      "text/plain": [
       "  0%|          | 0/10 [00:00<?, ?it/s]"
      ]
     },
     "metadata": {},
     "output_type": "display_data"
    },
    {
     "data": {
      "application/vnd.jupyter.widget-view+json": {
       "model_id": "dd905d090dcb4317ab11b278acdb2f1a",
       "version_major": 2,
       "version_minor": 0
      },
      "text/plain": [
       "  0%|          | 0/1 [00:00<?, ?it/s]"
      ]
     },
     "metadata": {},
     "output_type": "display_data"
    },
    {
     "data": {
      "application/vnd.jupyter.widget-view+json": {
       "model_id": "acf0f2181ca0451eaa78575a16400d75",
       "version_major": 2,
       "version_minor": 0
      },
      "text/plain": [
       "  0%|          | 0/100 [00:00<?, ?it/s]"
      ]
     },
     "metadata": {},
     "output_type": "display_data"
    },
    {
     "data": {
      "application/vnd.jupyter.widget-view+json": {
       "model_id": "c8763ff4f4504f258ed8b3f11589660a",
       "version_major": 2,
       "version_minor": 0
      },
      "text/plain": [
       "  0%|          | 0/100 [00:00<?, ?it/s]"
      ]
     },
     "metadata": {},
     "output_type": "display_data"
    },
    {
     "name": "stdout",
     "output_type": "stream",
     "text": [
      "Average exact match with params: samples 800 iters 100 ---- are independent: True the distance is: 1.8687500000000057\n",
      "Average f1 with params: samples 800 iters 100 ---- are independent: True the distance is: 0.9505122429934119\n"
     ]
    },
    {
     "data": {
      "application/vnd.jupyter.widget-view+json": {
       "model_id": "5bfd977bf4494d50843680c58f39a17b",
       "version_major": 2,
       "version_minor": 0
      },
      "text/plain": [
       "  0%|          | 0/1 [00:00<?, ?it/s]"
      ]
     },
     "metadata": {},
     "output_type": "display_data"
    },
    {
     "data": {
      "application/vnd.jupyter.widget-view+json": {
       "model_id": "58aa08b383134b57ab808d63f06c3e50",
       "version_major": 2,
       "version_minor": 0
      },
      "text/plain": [
       "  0%|          | 0/100 [00:00<?, ?it/s]"
      ]
     },
     "metadata": {},
     "output_type": "display_data"
    },
    {
     "data": {
      "application/vnd.jupyter.widget-view+json": {
       "model_id": "afc06b3c58ba4b24826644018e5afc6b",
       "version_major": 2,
       "version_minor": 0
      },
      "text/plain": [
       "  0%|          | 0/100 [00:00<?, ?it/s]"
      ]
     },
     "metadata": {},
     "output_type": "display_data"
    },
    {
     "name": "stdout",
     "output_type": "stream",
     "text": [
      "Average exact match with params: samples 800 iters 100 ---- are independent: True the distance is: 1.1656250000000057\n",
      "Average f1 with params: samples 800 iters 100 ---- are independent: True the distance is: 0.8178501531346143\n"
     ]
    },
    {
     "data": {
      "application/vnd.jupyter.widget-view+json": {
       "model_id": "c7df17cdc5724c2cb4b2a11e0b924f93",
       "version_major": 2,
       "version_minor": 0
      },
      "text/plain": [
       "  0%|          | 0/1 [00:00<?, ?it/s]"
      ]
     },
     "metadata": {},
     "output_type": "display_data"
    },
    {
     "data": {
      "application/vnd.jupyter.widget-view+json": {
       "model_id": "e6e4a5e4defb4d4eba8720d263861c36",
       "version_major": 2,
       "version_minor": 0
      },
      "text/plain": [
       "  0%|          | 0/100 [00:00<?, ?it/s]"
      ]
     },
     "metadata": {},
     "output_type": "display_data"
    },
    {
     "data": {
      "application/vnd.jupyter.widget-view+json": {
       "model_id": "e9b067f436b44c93a59ba631410265fc",
       "version_major": 2,
       "version_minor": 0
      },
      "text/plain": [
       "  0%|          | 0/100 [00:00<?, ?it/s]"
      ]
     },
     "metadata": {},
     "output_type": "display_data"
    },
    {
     "name": "stdout",
     "output_type": "stream",
     "text": [
      "Average exact match with params: samples 800 iters 100 ---- are independent: True the distance is: 0.3687500000000057\n",
      "Average f1 with params: samples 800 iters 100 ---- are independent: True the distance is: 0.10496012153858203\n"
     ]
    },
    {
     "data": {
      "application/vnd.jupyter.widget-view+json": {
       "model_id": "a3fd644010aa49749c2e9aa03d50ce9c",
       "version_major": 2,
       "version_minor": 0
      },
      "text/plain": [
       "  0%|          | 0/1 [00:00<?, ?it/s]"
      ]
     },
     "metadata": {},
     "output_type": "display_data"
    },
    {
     "data": {
      "application/vnd.jupyter.widget-view+json": {
       "model_id": "1516a952f8ad46d9b219a6b2ae5fe93e",
       "version_major": 2,
       "version_minor": 0
      },
      "text/plain": [
       "  0%|          | 0/100 [00:00<?, ?it/s]"
      ]
     },
     "metadata": {},
     "output_type": "display_data"
    },
    {
     "data": {
      "application/vnd.jupyter.widget-view+json": {
       "model_id": "e74b583cce7f427cbb28d969368d6706",
       "version_major": 2,
       "version_minor": 0
      },
      "text/plain": [
       "  0%|          | 0/100 [00:00<?, ?it/s]"
      ]
     },
     "metadata": {},
     "output_type": "display_data"
    },
    {
     "name": "stdout",
     "output_type": "stream",
     "text": [
      "Average exact match with params: samples 800 iters 100 ---- are independent: True the distance is: 0.10000000000000853\n",
      "Average f1 with params: samples 800 iters 100 ---- are independent: True the distance is: 0.2611629741413708\n"
     ]
    },
    {
     "data": {
      "application/vnd.jupyter.widget-view+json": {
       "model_id": "75e04ac2d7954329bc1268f8e692b137",
       "version_major": 2,
       "version_minor": 0
      },
      "text/plain": [
       "  0%|          | 0/1 [00:00<?, ?it/s]"
      ]
     },
     "metadata": {},
     "output_type": "display_data"
    },
    {
     "data": {
      "application/vnd.jupyter.widget-view+json": {
       "model_id": "0895eddc45bd445c9a6e9e8acd2fcd11",
       "version_major": 2,
       "version_minor": 0
      },
      "text/plain": [
       "  0%|          | 0/100 [00:00<?, ?it/s]"
      ]
     },
     "metadata": {},
     "output_type": "display_data"
    },
    {
     "data": {
      "application/vnd.jupyter.widget-view+json": {
       "model_id": "1d5c3c72edc14303ba3b0ad137a17a9e",
       "version_major": 2,
       "version_minor": 0
      },
      "text/plain": [
       "  0%|          | 0/100 [00:00<?, ?it/s]"
      ]
     },
     "metadata": {},
     "output_type": "display_data"
    },
    {
     "name": "stdout",
     "output_type": "stream",
     "text": [
      "Average exact match with params: samples 800 iters 100 ---- are independent: False the distance is: 0\n",
      "Average f1 with params: samples 800 iters 100 ---- are independent: True the distance is: 0.7268440530033331\n"
     ]
    },
    {
     "data": {
      "application/vnd.jupyter.widget-view+json": {
       "model_id": "1679fee645104c48a77fa9769b772176",
       "version_major": 2,
       "version_minor": 0
      },
      "text/plain": [
       "  0%|          | 0/1 [00:00<?, ?it/s]"
      ]
     },
     "metadata": {},
     "output_type": "display_data"
    },
    {
     "data": {
      "application/vnd.jupyter.widget-view+json": {
       "model_id": "f2b6d2b8366b464d82e010994dfb3eee",
       "version_major": 2,
       "version_minor": 0
      },
      "text/plain": [
       "  0%|          | 0/100 [00:00<?, ?it/s]"
      ]
     },
     "metadata": {},
     "output_type": "display_data"
    },
    {
     "data": {
      "application/vnd.jupyter.widget-view+json": {
       "model_id": "5eae3e407731464e95945d6f5acbc8ad",
       "version_major": 2,
       "version_minor": 0
      },
      "text/plain": [
       "  0%|          | 0/100 [00:00<?, ?it/s]"
      ]
     },
     "metadata": {},
     "output_type": "display_data"
    },
    {
     "name": "stdout",
     "output_type": "stream",
     "text": [
      "Average exact match with params: samples 800 iters 100 ---- are independent: False the distance is: 0\n",
      "Average f1 with params: samples 800 iters 100 ---- are independent: True the distance is: 0.21868867552106508\n"
     ]
    },
    {
     "data": {
      "application/vnd.jupyter.widget-view+json": {
       "model_id": "e5888fca92ac41b295541cff3d6c4252",
       "version_major": 2,
       "version_minor": 0
      },
      "text/plain": [
       "  0%|          | 0/1 [00:00<?, ?it/s]"
      ]
     },
     "metadata": {},
     "output_type": "display_data"
    },
    {
     "data": {
      "application/vnd.jupyter.widget-view+json": {
       "model_id": "7ff1b93562be4795978b0f4aff5b4b83",
       "version_major": 2,
       "version_minor": 0
      },
      "text/plain": [
       "  0%|          | 0/100 [00:00<?, ?it/s]"
      ]
     },
     "metadata": {},
     "output_type": "display_data"
    },
    {
     "data": {
      "application/vnd.jupyter.widget-view+json": {
       "model_id": "2497842b872f42a4b23d781661e52b0c",
       "version_major": 2,
       "version_minor": 0
      },
      "text/plain": [
       "  0%|          | 0/100 [00:00<?, ?it/s]"
      ]
     },
     "metadata": {},
     "output_type": "display_data"
    },
    {
     "name": "stdout",
     "output_type": "stream",
     "text": [
      "Average exact match with params: samples 800 iters 100 ---- are independent: True the distance is: 0.17812500000000853\n",
      "Average f1 with params: samples 800 iters 100 ---- are independent: True the distance is: 1.0386750531088325\n"
     ]
    },
    {
     "data": {
      "application/vnd.jupyter.widget-view+json": {
       "model_id": "7b15155a01f54b4a862c9faa77ae3ff7",
       "version_major": 2,
       "version_minor": 0
      },
      "text/plain": [
       "  0%|          | 0/1 [00:00<?, ?it/s]"
      ]
     },
     "metadata": {},
     "output_type": "display_data"
    },
    {
     "data": {
      "application/vnd.jupyter.widget-view+json": {
       "model_id": "e7d0a013736c48aaacea0fdebacf4d98",
       "version_major": 2,
       "version_minor": 0
      },
      "text/plain": [
       "  0%|          | 0/100 [00:00<?, ?it/s]"
      ]
     },
     "metadata": {},
     "output_type": "display_data"
    },
    {
     "data": {
      "application/vnd.jupyter.widget-view+json": {
       "model_id": "7799110f6d904c0aaf8bd66c73ac0c5e",
       "version_major": 2,
       "version_minor": 0
      },
      "text/plain": [
       "  0%|          | 0/100 [00:00<?, ?it/s]"
      ]
     },
     "metadata": {},
     "output_type": "display_data"
    },
    {
     "name": "stdout",
     "output_type": "stream",
     "text": [
      "Average exact match with params: samples 800 iters 100 ---- are independent: True the distance is: 2.059375000000003\n",
      "Average f1 with params: samples 800 iters 100 ---- are independent: True the distance is: 1.8250623534753458\n",
      "The biggest distance between exact match intervals was with threshold 9 and the distance was 2.059375000000003.\n",
      "The biggest distance between f1 intervals was with threshold 9 and the distance was 1.8250623534753458.\n"
     ]
    },
    {
     "data": {
      "application/vnd.jupyter.widget-view+json": {
       "model_id": "7ee5448e3fa649a59cbc74f9bd756d9d",
       "version_major": 2,
       "version_minor": 0
      },
      "text/plain": [
       "  0%|          | 0/10 [00:00<?, ?it/s]"
      ]
     },
     "metadata": {},
     "output_type": "display_data"
    },
    {
     "data": {
      "application/vnd.jupyter.widget-view+json": {
       "model_id": "038ff9a0d60c47b1bfcb2c5b338b240e",
       "version_major": 2,
       "version_minor": 0
      },
      "text/plain": [
       "  0%|          | 0/1 [00:00<?, ?it/s]"
      ]
     },
     "metadata": {},
     "output_type": "display_data"
    },
    {
     "data": {
      "application/vnd.jupyter.widget-view+json": {
       "model_id": "bb1a0ed67b1c49e5ba88f44ba944c01b",
       "version_major": 2,
       "version_minor": 0
      },
      "text/plain": [
       "  0%|          | 0/100 [00:00<?, ?it/s]"
      ]
     },
     "metadata": {},
     "output_type": "display_data"
    },
    {
     "data": {
      "application/vnd.jupyter.widget-view+json": {
       "model_id": "6f05f778d6c84ec1a10cb5f659327e7c",
       "version_major": 2,
       "version_minor": 0
      },
      "text/plain": [
       "  0%|          | 0/100 [00:00<?, ?it/s]"
      ]
     },
     "metadata": {},
     "output_type": "display_data"
    },
    {
     "name": "stdout",
     "output_type": "stream",
     "text": [
      "Average exact match with params: samples 800 iters 100 ---- are independent: True the distance is: 1.8625000000000114\n",
      "Average f1 with params: samples 800 iters 100 ---- are independent: True the distance is: 0.8004401921078994\n"
     ]
    },
    {
     "data": {
      "application/vnd.jupyter.widget-view+json": {
       "model_id": "642e7aa412f84c4bbf072239e4c0a802",
       "version_major": 2,
       "version_minor": 0
      },
      "text/plain": [
       "  0%|          | 0/1 [00:00<?, ?it/s]"
      ]
     },
     "metadata": {},
     "output_type": "display_data"
    },
    {
     "data": {
      "application/vnd.jupyter.widget-view+json": {
       "model_id": "233244cf60ae412c8e1edc6d149b6d64",
       "version_major": 2,
       "version_minor": 0
      },
      "text/plain": [
       "  0%|          | 0/100 [00:00<?, ?it/s]"
      ]
     },
     "metadata": {},
     "output_type": "display_data"
    },
    {
     "data": {
      "application/vnd.jupyter.widget-view+json": {
       "model_id": "1bc0ef889baa45868a5679b719908186",
       "version_major": 2,
       "version_minor": 0
      },
      "text/plain": [
       "  0%|          | 0/100 [00:00<?, ?it/s]"
      ]
     },
     "metadata": {},
     "output_type": "display_data"
    },
    {
     "name": "stdout",
     "output_type": "stream",
     "text": [
      "Average exact match with params: samples 800 iters 100 ---- are independent: True the distance is: 0.48750000000001137\n",
      "Average f1 with params: samples 800 iters 100 ---- are independent: True the distance is: 0.18487457327323398\n"
     ]
    },
    {
     "data": {
      "application/vnd.jupyter.widget-view+json": {
       "model_id": "1371893573794feb917c07b3fb187520",
       "version_major": 2,
       "version_minor": 0
      },
      "text/plain": [
       "  0%|          | 0/1 [00:00<?, ?it/s]"
      ]
     },
     "metadata": {},
     "output_type": "display_data"
    },
    {
     "data": {
      "application/vnd.jupyter.widget-view+json": {
       "model_id": "595abf33d70d47b487eefece9ed18468",
       "version_major": 2,
       "version_minor": 0
      },
      "text/plain": [
       "  0%|          | 0/100 [00:00<?, ?it/s]"
      ]
     },
     "metadata": {},
     "output_type": "display_data"
    },
    {
     "data": {
      "application/vnd.jupyter.widget-view+json": {
       "model_id": "4bfe50c7dfe345cea3219acbd9e69b32",
       "version_major": 2,
       "version_minor": 0
      },
      "text/plain": [
       "  0%|          | 0/100 [00:00<?, ?it/s]"
      ]
     },
     "metadata": {},
     "output_type": "display_data"
    },
    {
     "name": "stdout",
     "output_type": "stream",
     "text": [
      "Average exact match with params: samples 800 iters 100 ---- are independent: False the distance is: 0\n",
      "Average f1 with params: samples 800 iters 100 ---- are independent: False the distance is: 0\n"
     ]
    },
    {
     "data": {
      "application/vnd.jupyter.widget-view+json": {
       "model_id": "237b44fb4814448cb8fe4bf5f5d8f6dc",
       "version_major": 2,
       "version_minor": 0
      },
      "text/plain": [
       "  0%|          | 0/1 [00:00<?, ?it/s]"
      ]
     },
     "metadata": {},
     "output_type": "display_data"
    },
    {
     "data": {
      "application/vnd.jupyter.widget-view+json": {
       "model_id": "52f61b1211b248948be72831f43b3685",
       "version_major": 2,
       "version_minor": 0
      },
      "text/plain": [
       "  0%|          | 0/100 [00:00<?, ?it/s]"
      ]
     },
     "metadata": {},
     "output_type": "display_data"
    },
    {
     "data": {
      "application/vnd.jupyter.widget-view+json": {
       "model_id": "c4475c13fb144dc5a5715354fb9ac0e5",
       "version_major": 2,
       "version_minor": 0
      },
      "text/plain": [
       "  0%|          | 0/100 [00:00<?, ?it/s]"
      ]
     },
     "metadata": {},
     "output_type": "display_data"
    },
    {
     "name": "stdout",
     "output_type": "stream",
     "text": [
      "Average exact match with params: samples 800 iters 100 ---- are independent: False the distance is: 0\n",
      "Average f1 with params: samples 800 iters 100 ---- are independent: False the distance is: 0\n"
     ]
    },
    {
     "data": {
      "application/vnd.jupyter.widget-view+json": {
       "model_id": "8de560dc54ed404d979cf0031207ceac",
       "version_major": 2,
       "version_minor": 0
      },
      "text/plain": [
       "  0%|          | 0/1 [00:00<?, ?it/s]"
      ]
     },
     "metadata": {},
     "output_type": "display_data"
    },
    {
     "data": {
      "application/vnd.jupyter.widget-view+json": {
       "model_id": "d608930c878a4093a177687f2b7e5783",
       "version_major": 2,
       "version_minor": 0
      },
      "text/plain": [
       "  0%|          | 0/100 [00:00<?, ?it/s]"
      ]
     },
     "metadata": {},
     "output_type": "display_data"
    },
    {
     "data": {
      "application/vnd.jupyter.widget-view+json": {
       "model_id": "2fe1f780b465488398f7dcd9e314f271",
       "version_major": 2,
       "version_minor": 0
      },
      "text/plain": [
       "  0%|          | 0/100 [00:00<?, ?it/s]"
      ]
     },
     "metadata": {},
     "output_type": "display_data"
    },
    {
     "name": "stdout",
     "output_type": "stream",
     "text": [
      "Average exact match with params: samples 800 iters 100 ---- are independent: False the distance is: 0\n",
      "Average f1 with params: samples 800 iters 100 ---- are independent: True the distance is: 0.18639563345510624\n"
     ]
    },
    {
     "data": {
      "application/vnd.jupyter.widget-view+json": {
       "model_id": "5eb9eb0f56b84636a4c465ca43a34670",
       "version_major": 2,
       "version_minor": 0
      },
      "text/plain": [
       "  0%|          | 0/1 [00:00<?, ?it/s]"
      ]
     },
     "metadata": {},
     "output_type": "display_data"
    },
    {
     "data": {
      "application/vnd.jupyter.widget-view+json": {
       "model_id": "0d56a79ed8884ff99c2aa6d1c418d597",
       "version_major": 2,
       "version_minor": 0
      },
      "text/plain": [
       "  0%|          | 0/100 [00:00<?, ?it/s]"
      ]
     },
     "metadata": {},
     "output_type": "display_data"
    },
    {
     "data": {
      "application/vnd.jupyter.widget-view+json": {
       "model_id": "de930cb740454ba6ac29ea75b979fa0f",
       "version_major": 2,
       "version_minor": 0
      },
      "text/plain": [
       "  0%|          | 0/100 [00:00<?, ?it/s]"
      ]
     },
     "metadata": {},
     "output_type": "display_data"
    },
    {
     "name": "stdout",
     "output_type": "stream",
     "text": [
      "Average exact match with params: samples 800 iters 100 ---- are independent: False the distance is: 0\n",
      "Average f1 with params: samples 800 iters 100 ---- are independent: False the distance is: 0\n"
     ]
    },
    {
     "data": {
      "application/vnd.jupyter.widget-view+json": {
       "model_id": "bdcebd0f1c5a47aba106e0d9ce9322bc",
       "version_major": 2,
       "version_minor": 0
      },
      "text/plain": [
       "  0%|          | 0/1 [00:00<?, ?it/s]"
      ]
     },
     "metadata": {},
     "output_type": "display_data"
    },
    {
     "data": {
      "application/vnd.jupyter.widget-view+json": {
       "model_id": "ba85c2171dd240129d509a9f7898facd",
       "version_major": 2,
       "version_minor": 0
      },
      "text/plain": [
       "  0%|          | 0/100 [00:00<?, ?it/s]"
      ]
     },
     "metadata": {},
     "output_type": "display_data"
    },
    {
     "data": {
      "application/vnd.jupyter.widget-view+json": {
       "model_id": "6a80d5664a9e42b9aa285101592b5d3d",
       "version_major": 2,
       "version_minor": 0
      },
      "text/plain": [
       "  0%|          | 0/100 [00:00<?, ?it/s]"
      ]
     },
     "metadata": {},
     "output_type": "display_data"
    },
    {
     "name": "stdout",
     "output_type": "stream",
     "text": [
      "Average exact match with params: samples 800 iters 100 ---- are independent: False the distance is: 0\n",
      "Average f1 with params: samples 800 iters 100 ---- are independent: False the distance is: 0\n",
      "The biggest distance between exact match intervals was with threshold 3 and the distance was 1.8625000000000114.\n",
      "The biggest distance between f1 intervals was with threshold 3 and the distance was 0.8004401921078994.\n"
     ]
    },
    {
     "data": {
      "application/vnd.jupyter.widget-view+json": {
       "model_id": "472d4e248ff745bcb9f1ed6daebc1aae",
       "version_major": 2,
       "version_minor": 0
      },
      "text/plain": [
       "  0%|          | 0/10 [00:00<?, ?it/s]"
      ]
     },
     "metadata": {},
     "output_type": "display_data"
    },
    {
     "data": {
      "application/vnd.jupyter.widget-view+json": {
       "model_id": "28e1664af41b4934a48026d1a4bc71e3",
       "version_major": 2,
       "version_minor": 0
      },
      "text/plain": [
       "  0%|          | 0/1 [00:00<?, ?it/s]"
      ]
     },
     "metadata": {},
     "output_type": "display_data"
    },
    {
     "data": {
      "application/vnd.jupyter.widget-view+json": {
       "model_id": "2288f223a0e4478dba2b93dac4f960a3",
       "version_major": 2,
       "version_minor": 0
      },
      "text/plain": [
       "  0%|          | 0/100 [00:00<?, ?it/s]"
      ]
     },
     "metadata": {},
     "output_type": "display_data"
    },
    {
     "data": {
      "application/vnd.jupyter.widget-view+json": {
       "model_id": "2808de6ee1724f93884efabd67a56a87",
       "version_major": 2,
       "version_minor": 0
      },
      "text/plain": [
       "  0%|          | 0/100 [00:00<?, ?it/s]"
      ]
     },
     "metadata": {},
     "output_type": "display_data"
    },
    {
     "name": "stdout",
     "output_type": "stream",
     "text": [
      "Average exact match with params: samples 800 iters 100 ---- are independent: True the distance is: 0.3031250000000085\n",
      "Average f1 with params: samples 800 iters 100 ---- are independent: False the distance is: 0\n"
     ]
    },
    {
     "data": {
      "application/vnd.jupyter.widget-view+json": {
       "model_id": "2a1f7589defd4835aed9329c0bee7549",
       "version_major": 2,
       "version_minor": 0
      },
      "text/plain": [
       "  0%|          | 0/1 [00:00<?, ?it/s]"
      ]
     },
     "metadata": {},
     "output_type": "display_data"
    },
    {
     "data": {
      "application/vnd.jupyter.widget-view+json": {
       "model_id": "315281c4c7004b50afc1d27a094b3235",
       "version_major": 2,
       "version_minor": 0
      },
      "text/plain": [
       "  0%|          | 0/100 [00:00<?, ?it/s]"
      ]
     },
     "metadata": {},
     "output_type": "display_data"
    },
    {
     "data": {
      "application/vnd.jupyter.widget-view+json": {
       "model_id": "3960f08dd6d840bfad7bc4e6288273fe",
       "version_major": 2,
       "version_minor": 0
      },
      "text/plain": [
       "  0%|          | 0/100 [00:00<?, ?it/s]"
      ]
     },
     "metadata": {},
     "output_type": "display_data"
    },
    {
     "name": "stdout",
     "output_type": "stream",
     "text": [
      "Average exact match with params: samples 800 iters 100 ---- are independent: True the distance is: 0.296875\n",
      "Average f1 with params: samples 800 iters 100 ---- are independent: True the distance is: 0.15078775557472568\n"
     ]
    },
    {
     "data": {
      "application/vnd.jupyter.widget-view+json": {
       "model_id": "c3bdae2a674a45168d75424c9351ab87",
       "version_major": 2,
       "version_minor": 0
      },
      "text/plain": [
       "  0%|          | 0/1 [00:00<?, ?it/s]"
      ]
     },
     "metadata": {},
     "output_type": "display_data"
    },
    {
     "data": {
      "application/vnd.jupyter.widget-view+json": {
       "model_id": "1a67c699c6f2458a95bf4361942ec957",
       "version_major": 2,
       "version_minor": 0
      },
      "text/plain": [
       "  0%|          | 0/100 [00:00<?, ?it/s]"
      ]
     },
     "metadata": {},
     "output_type": "display_data"
    },
    {
     "data": {
      "application/vnd.jupyter.widget-view+json": {
       "model_id": "e4b4ea42c520436a83893db2f588846c",
       "version_major": 2,
       "version_minor": 0
      },
      "text/plain": [
       "  0%|          | 0/100 [00:00<?, ?it/s]"
      ]
     },
     "metadata": {},
     "output_type": "display_data"
    },
    {
     "name": "stdout",
     "output_type": "stream",
     "text": [
      "Average exact match with params: samples 800 iters 100 ---- are independent: False the distance is: 0\n",
      "Average f1 with params: samples 800 iters 100 ---- are independent: False the distance is: 0\n"
     ]
    },
    {
     "data": {
      "application/vnd.jupyter.widget-view+json": {
       "model_id": "1858edeca7e94b01bddae89b84329cfa",
       "version_major": 2,
       "version_minor": 0
      },
      "text/plain": [
       "  0%|          | 0/1 [00:00<?, ?it/s]"
      ]
     },
     "metadata": {},
     "output_type": "display_data"
    },
    {
     "data": {
      "application/vnd.jupyter.widget-view+json": {
       "model_id": "2c3481a449fd420e8d5511b4664df1fb",
       "version_major": 2,
       "version_minor": 0
      },
      "text/plain": [
       "  0%|          | 0/100 [00:00<?, ?it/s]"
      ]
     },
     "metadata": {},
     "output_type": "display_data"
    },
    {
     "data": {
      "application/vnd.jupyter.widget-view+json": {
       "model_id": "b26a96b519f84b76916c40bce71926f1",
       "version_major": 2,
       "version_minor": 0
      },
      "text/plain": [
       "  0%|          | 0/100 [00:00<?, ?it/s]"
      ]
     },
     "metadata": {},
     "output_type": "display_data"
    },
    {
     "name": "stdout",
     "output_type": "stream",
     "text": [
      "Average exact match with params: samples 800 iters 100 ---- are independent: False the distance is: 0\n",
      "Average f1 with params: samples 800 iters 100 ---- are independent: True the distance is: 0.2298122254979802\n"
     ]
    },
    {
     "data": {
      "application/vnd.jupyter.widget-view+json": {
       "model_id": "a710b39280654edbb90a62ba76d01025",
       "version_major": 2,
       "version_minor": 0
      },
      "text/plain": [
       "  0%|          | 0/1 [00:00<?, ?it/s]"
      ]
     },
     "metadata": {},
     "output_type": "display_data"
    },
    {
     "data": {
      "application/vnd.jupyter.widget-view+json": {
       "model_id": "f3caba61cbdd49558a403d8cbd09e4b9",
       "version_major": 2,
       "version_minor": 0
      },
      "text/plain": [
       "  0%|          | 0/100 [00:00<?, ?it/s]"
      ]
     },
     "metadata": {},
     "output_type": "display_data"
    },
    {
     "data": {
      "application/vnd.jupyter.widget-view+json": {
       "model_id": "9c88e0ee88544ae3a7dd189b96c4207d",
       "version_major": 2,
       "version_minor": 0
      },
      "text/plain": [
       "  0%|          | 0/100 [00:00<?, ?it/s]"
      ]
     },
     "metadata": {},
     "output_type": "display_data"
    },
    {
     "name": "stdout",
     "output_type": "stream",
     "text": [
      "Average exact match with params: samples 800 iters 100 ---- are independent: False the distance is: 0\n",
      "Average f1 with params: samples 800 iters 100 ---- are independent: True the distance is: 0.015490752709197864\n"
     ]
    },
    {
     "data": {
      "application/vnd.jupyter.widget-view+json": {
       "model_id": "39c62ef907d74d3d94a2799a8b3b9340",
       "version_major": 2,
       "version_minor": 0
      },
      "text/plain": [
       "  0%|          | 0/1 [00:00<?, ?it/s]"
      ]
     },
     "metadata": {},
     "output_type": "display_data"
    },
    {
     "data": {
      "application/vnd.jupyter.widget-view+json": {
       "model_id": "93139f21c7694c33980ff57426d83fcb",
       "version_major": 2,
       "version_minor": 0
      },
      "text/plain": [
       "  0%|          | 0/100 [00:00<?, ?it/s]"
      ]
     },
     "metadata": {},
     "output_type": "display_data"
    },
    {
     "data": {
      "application/vnd.jupyter.widget-view+json": {
       "model_id": "1ce692c7bb1748a4878df60b3cc59946",
       "version_major": 2,
       "version_minor": 0
      },
      "text/plain": [
       "  0%|          | 0/100 [00:00<?, ?it/s]"
      ]
     },
     "metadata": {},
     "output_type": "display_data"
    },
    {
     "name": "stdout",
     "output_type": "stream",
     "text": [
      "Average exact match with params: samples 800 iters 100 ---- are independent: True the distance is: 0.30937500000000284\n",
      "Average f1 with params: samples 800 iters 100 ---- are independent: True the distance is: 0.5895582148752538\n"
     ]
    },
    {
     "data": {
      "application/vnd.jupyter.widget-view+json": {
       "model_id": "34861e84a6034395affdf560661b59f9",
       "version_major": 2,
       "version_minor": 0
      },
      "text/plain": [
       "  0%|          | 0/1 [00:00<?, ?it/s]"
      ]
     },
     "metadata": {},
     "output_type": "display_data"
    },
    {
     "data": {
      "application/vnd.jupyter.widget-view+json": {
       "model_id": "013fec2c43ba4051a4656997dd1dbf66",
       "version_major": 2,
       "version_minor": 0
      },
      "text/plain": [
       "  0%|          | 0/100 [00:00<?, ?it/s]"
      ]
     },
     "metadata": {},
     "output_type": "display_data"
    },
    {
     "data": {
      "application/vnd.jupyter.widget-view+json": {
       "model_id": "7ba1cce3d39443e49fa680d07aeb90fe",
       "version_major": 2,
       "version_minor": 0
      },
      "text/plain": [
       "  0%|          | 0/100 [00:00<?, ?it/s]"
      ]
     },
     "metadata": {},
     "output_type": "display_data"
    },
    {
     "name": "stdout",
     "output_type": "stream",
     "text": [
      "Average exact match with params: samples 800 iters 100 ---- are independent: True the distance is: 0.6843750000000028\n",
      "Average f1 with params: samples 800 iters 100 ---- are independent: True the distance is: 0.7078659538193222\n",
      "The biggest distance between exact match intervals was with threshold 9 and the distance was 0.6843750000000028.\n",
      "The biggest distance between f1 intervals was with threshold 9 and the distance was 0.7078659538193222.\n"
     ]
    }
   ],
   "source": [
    "dataset = 'squad_base'\n",
    "data = pd.read_json('./enhanced_validation_squad_with_bl_predictions.json')\n",
    "find_longest_distance(data, 'similar_words', 0, 10)\n",
    "find_longest_distance(data, 'similar_words_stem', 0, 10)\n",
    "find_longest_distance(data, 'similar_words_lem', 0, 10)"
   ]
  },
  {
   "cell_type": "code",
   "execution_count": 28,
   "metadata": {},
   "outputs": [
    {
     "data": {
      "application/vnd.jupyter.widget-view+json": {
       "model_id": "e24696ea0ccd4e219b1d31fd53677269",
       "version_major": 2,
       "version_minor": 0
      },
      "text/plain": [
       "  0%|          | 0/1 [00:00<?, ?it/s]"
      ]
     },
     "metadata": {},
     "output_type": "display_data"
    },
    {
     "data": {
      "application/vnd.jupyter.widget-view+json": {
       "model_id": "fc62e8b5f05840e7a70118c17a5e62df",
       "version_major": 2,
       "version_minor": 0
      },
      "text/plain": [
       "  0%|          | 0/1 [00:00<?, ?it/s]"
      ]
     },
     "metadata": {},
     "output_type": "display_data"
    },
    {
     "data": {
      "application/vnd.jupyter.widget-view+json": {
       "model_id": "59293e75367e4fc2a014345eadad1e3c",
       "version_major": 2,
       "version_minor": 0
      },
      "text/plain": [
       "  0%|          | 0/100 [00:00<?, ?it/s]"
      ]
     },
     "metadata": {},
     "output_type": "display_data"
    },
    {
     "data": {
      "application/vnd.jupyter.widget-view+json": {
       "model_id": "c2b90cbc89e34b8ebd5d7b981b02f933",
       "version_major": 2,
       "version_minor": 0
      },
      "text/plain": [
       "  0%|          | 0/100 [00:00<?, ?it/s]"
      ]
     },
     "metadata": {},
     "output_type": "display_data"
    },
    {
     "name": "stdout",
     "output_type": "stream",
     "text": [
      "Average exact match with params: samples 800 iters 100 ---- are independent: True the distance is: 8.803125000000009\n",
      "Average f1 with params: samples 800 iters 100 ---- are independent: True the distance is: 8.320067159352774\n",
      "The biggest distance between exact match intervals was with threshold 7 and the distance was 8.803125000000009.\n",
      "The biggest distance between f1 intervals was with threshold 7 and the distance was 8.320067159352774.\n"
     ]
    },
    {
     "data": {
      "application/vnd.jupyter.widget-view+json": {
       "model_id": "9a10d660e0b24190bd0873452269abbe",
       "version_major": 2,
       "version_minor": 0
      },
      "text/plain": [
       "  0%|          | 0/1 [00:00<?, ?it/s]"
      ]
     },
     "metadata": {},
     "output_type": "display_data"
    },
    {
     "data": {
      "application/vnd.jupyter.widget-view+json": {
       "model_id": "54bb93379e534316b7f158a4dbcfa3ab",
       "version_major": 2,
       "version_minor": 0
      },
      "text/plain": [
       "  0%|          | 0/1 [00:00<?, ?it/s]"
      ]
     },
     "metadata": {},
     "output_type": "display_data"
    },
    {
     "data": {
      "application/vnd.jupyter.widget-view+json": {
       "model_id": "2f8af7bc6748465f8de4714eb55952ec",
       "version_major": 2,
       "version_minor": 0
      },
      "text/plain": [
       "  0%|          | 0/100 [00:00<?, ?it/s]"
      ]
     },
     "metadata": {},
     "output_type": "display_data"
    },
    {
     "data": {
      "application/vnd.jupyter.widget-view+json": {
       "model_id": "f9f8bed10b1d4b4f9bc7f3e438d2d1fb",
       "version_major": 2,
       "version_minor": 0
      },
      "text/plain": [
       "  0%|          | 0/100 [00:00<?, ?it/s]"
      ]
     },
     "metadata": {},
     "output_type": "display_data"
    },
    {
     "name": "stdout",
     "output_type": "stream",
     "text": [
      "Average exact match with params: samples 800 iters 100 ---- are independent: True the distance is: 0.171875\n",
      "Average f1 with params: samples 800 iters 100 ---- are independent: False the distance is: 0\n",
      "The biggest distance between exact match intervals was with threshold 4 and the distance was 0.171875.\n",
      "The biggest distance between f1 intervals was with threshold 0 and the distance was 0.\n"
     ]
    },
    {
     "data": {
      "application/vnd.jupyter.widget-view+json": {
       "model_id": "51e29886cfcb4d6b906f1a630e2aada1",
       "version_major": 2,
       "version_minor": 0
      },
      "text/plain": [
       "  0%|          | 0/1 [00:00<?, ?it/s]"
      ]
     },
     "metadata": {},
     "output_type": "display_data"
    },
    {
     "data": {
      "application/vnd.jupyter.widget-view+json": {
       "model_id": "30b8b0df9903457fae5e644d825bf2de",
       "version_major": 2,
       "version_minor": 0
      },
      "text/plain": [
       "  0%|          | 0/1 [00:00<?, ?it/s]"
      ]
     },
     "metadata": {},
     "output_type": "display_data"
    },
    {
     "data": {
      "application/vnd.jupyter.widget-view+json": {
       "model_id": "8106e147c29e42dc964fb4805375ef1f",
       "version_major": 2,
       "version_minor": 0
      },
      "text/plain": [
       "  0%|          | 0/100 [00:00<?, ?it/s]"
      ]
     },
     "metadata": {},
     "output_type": "display_data"
    },
    {
     "data": {
      "application/vnd.jupyter.widget-view+json": {
       "model_id": "00c6ca536abc48b3ac2fab667e6ccea7",
       "version_major": 2,
       "version_minor": 0
      },
      "text/plain": [
       "  0%|          | 0/100 [00:00<?, ?it/s]"
      ]
     },
     "metadata": {},
     "output_type": "display_data"
    },
    {
     "name": "stdout",
     "output_type": "stream",
     "text": [
      "Average exact match with params: samples 800 iters 100 ---- are independent: True the distance is: 8.684375000000003\n",
      "Average f1 with params: samples 800 iters 100 ---- are independent: True the distance is: 1.4462761160935287\n",
      "The biggest distance between exact match intervals was with threshold 3 and the distance was 8.684375000000003.\n",
      "The biggest distance between f1 intervals was with threshold 3 and the distance was 1.4462761160935287.\n"
     ]
    },
    {
     "data": {
      "application/vnd.jupyter.widget-view+json": {
       "model_id": "23b316f128274351aaf3867c628170d2",
       "version_major": 2,
       "version_minor": 0
      },
      "text/plain": [
       "  0%|          | 0/1 [00:00<?, ?it/s]"
      ]
     },
     "metadata": {},
     "output_type": "display_data"
    },
    {
     "data": {
      "application/vnd.jupyter.widget-view+json": {
       "model_id": "528d307767a54394ba58ce19397de7cf",
       "version_major": 2,
       "version_minor": 0
      },
      "text/plain": [
       "  0%|          | 0/100 [00:00<?, ?it/s]"
      ]
     },
     "metadata": {},
     "output_type": "display_data"
    },
    {
     "data": {
      "application/vnd.jupyter.widget-view+json": {
       "model_id": "dc7d59e7dd924fdaab4b35103b0aa2a5",
       "version_major": 2,
       "version_minor": 0
      },
      "text/plain": [
       "  0%|          | 0/100 [00:00<?, ?it/s]"
      ]
     },
     "metadata": {},
     "output_type": "display_data"
    },
    {
     "name": "stdout",
     "output_type": "stream",
     "text": [
      "Average exact match with params: samples 800 iters 100 ---- are independent: True the distance is: 2.559375000000003\n",
      "Average f1 with params: samples 800 iters 100 ---- are independent: True the distance is: 2.1884230907556343\n"
     ]
    },
    {
     "data": {
      "application/vnd.jupyter.widget-view+json": {
       "model_id": "2573a44086f74b179b8bb5839b3d486a",
       "version_major": 2,
       "version_minor": 0
      },
      "text/plain": [
       "  0%|          | 0/1 [00:00<?, ?it/s]"
      ]
     },
     "metadata": {},
     "output_type": "display_data"
    },
    {
     "data": {
      "application/vnd.jupyter.widget-view+json": {
       "model_id": "f2e67d52b95a4cc49d6bb21be0356fc5",
       "version_major": 2,
       "version_minor": 0
      },
      "text/plain": [
       "  0%|          | 0/1 [00:00<?, ?it/s]"
      ]
     },
     "metadata": {},
     "output_type": "display_data"
    },
    {
     "data": {
      "application/vnd.jupyter.widget-view+json": {
       "model_id": "bc6ebdd17aaf4df8bf867e860ff291a9",
       "version_major": 2,
       "version_minor": 0
      },
      "text/plain": [
       "  0%|          | 0/100 [00:00<?, ?it/s]"
      ]
     },
     "metadata": {},
     "output_type": "display_data"
    },
    {
     "data": {
      "application/vnd.jupyter.widget-view+json": {
       "model_id": "1a87b5d409cf44a4b7d114ea3e36fa1d",
       "version_major": 2,
       "version_minor": 0
      },
      "text/plain": [
       "  0%|          | 0/100 [00:00<?, ?it/s]"
      ]
     },
     "metadata": {},
     "output_type": "display_data"
    },
    {
     "name": "stdout",
     "output_type": "stream",
     "text": [
      "Average exact match with params: samples 800 iters 100 ---- are independent: False the distance is: 0\n",
      "Average f1 with params: samples 800 iters 100 ---- are independent: False the distance is: 0\n",
      "The biggest distance between exact match intervals was with threshold 0 and the distance was 0.\n",
      "The biggest distance between f1 intervals was with threshold 0 and the distance was 0.\n"
     ]
    },
    {
     "data": {
      "application/vnd.jupyter.widget-view+json": {
       "model_id": "5e4084ddea0a4ff68e789febf36f4982",
       "version_major": 2,
       "version_minor": 0
      },
      "text/plain": [
       "  0%|          | 0/1 [00:00<?, ?it/s]"
      ]
     },
     "metadata": {},
     "output_type": "display_data"
    },
    {
     "data": {
      "application/vnd.jupyter.widget-view+json": {
       "model_id": "bd9ef82ff02c4e0eb5157b28f7e192f5",
       "version_major": 2,
       "version_minor": 0
      },
      "text/plain": [
       "  0%|          | 0/1 [00:00<?, ?it/s]"
      ]
     },
     "metadata": {},
     "output_type": "display_data"
    },
    {
     "data": {
      "application/vnd.jupyter.widget-view+json": {
       "model_id": "d2bb9099f1154020983b67d3b93ed599",
       "version_major": 2,
       "version_minor": 0
      },
      "text/plain": [
       "  0%|          | 0/100 [00:00<?, ?it/s]"
      ]
     },
     "metadata": {},
     "output_type": "display_data"
    },
    {
     "data": {
      "application/vnd.jupyter.widget-view+json": {
       "model_id": "cbec981868a341bf8ea64a3d7f3f8a9f",
       "version_major": 2,
       "version_minor": 0
      },
      "text/plain": [
       "  0%|          | 0/100 [00:00<?, ?it/s]"
      ]
     },
     "metadata": {},
     "output_type": "display_data"
    },
    {
     "name": "stdout",
     "output_type": "stream",
     "text": [
      "Average exact match with params: samples 800 iters 100 ---- are independent: True the distance is: 2.2375000000000114\n",
      "Average f1 with params: samples 800 iters 100 ---- are independent: True the distance is: 1.3933506893193055\n",
      "The biggest distance between exact match intervals was with threshold 0 and the distance was 2.2375000000000114.\n",
      "The biggest distance between f1 intervals was with threshold 0 and the distance was 1.3933506893193055.\n"
     ]
    },
    {
     "data": {
      "application/vnd.jupyter.widget-view+json": {
       "model_id": "831be913a39c482dab9dc4d37f768067",
       "version_major": 2,
       "version_minor": 0
      },
      "text/plain": [
       "  0%|          | 0/1 [00:00<?, ?it/s]"
      ]
     },
     "metadata": {},
     "output_type": "display_data"
    },
    {
     "data": {
      "application/vnd.jupyter.widget-view+json": {
       "model_id": "9f104612657140e8954343f767cf4a78",
       "version_major": 2,
       "version_minor": 0
      },
      "text/plain": [
       "  0%|          | 0/1 [00:00<?, ?it/s]"
      ]
     },
     "metadata": {},
     "output_type": "display_data"
    },
    {
     "data": {
      "application/vnd.jupyter.widget-view+json": {
       "model_id": "fbe7caa7977744a09d79aaaef9b71f8a",
       "version_major": 2,
       "version_minor": 0
      },
      "text/plain": [
       "  0%|          | 0/100 [00:00<?, ?it/s]"
      ]
     },
     "metadata": {},
     "output_type": "display_data"
    },
    {
     "data": {
      "application/vnd.jupyter.widget-view+json": {
       "model_id": "c4045db103a54729961cc16a4e2fa70c",
       "version_major": 2,
       "version_minor": 0
      },
      "text/plain": [
       "  0%|          | 0/100 [00:00<?, ?it/s]"
      ]
     },
     "metadata": {},
     "output_type": "display_data"
    },
    {
     "name": "stdout",
     "output_type": "stream",
     "text": [
      "Average exact match with params: samples 800 iters 100 ---- are independent: True the distance is: 0.8031250000000085\n",
      "Average f1 with params: samples 800 iters 100 ---- are independent: True the distance is: 0.39578747090899924\n",
      "The biggest distance between exact match intervals was with threshold 1 and the distance was 0.8031250000000085.\n",
      "The biggest distance between f1 intervals was with threshold 1 and the distance was 0.39578747090899924.\n"
     ]
    }
   ],
   "source": [
    "find_longest_distance(data[data.distances >= 0], 'distances', 7, 8)\n",
    "find_longest_distance(data, 'similar_words', 4, 5)\n",
    "find_longest_distance(data, 'answer_lenght', 3, 4)\n",
    "compute_metrics_average_split(data, 'cosine_similarity', 0.10)\n",
    "find_longest_distance(data, 'kth_sentence', 0, 1)\n",
    "find_longest_distance(data, 'max_sim_ents', 0, 1)\n",
    "find_longest_distance(data[data.answer_subject_positions >= 0], 'answer_subject_positions', 1, 2)"
   ]
  },
  {
   "cell_type": "code",
   "execution_count": null,
   "metadata": {},
   "outputs": [],
   "source": [
    "dataset = 'squad_distances_v2'\n",
    "data_supersampled_model = pd.read_json('./from_debiased_models/enhanced_squad_supersampled_distances_7_v2.json')\n",
    "for i in range(3): #one more run\n",
    "    find_longest_distance(data_supersampled_model[data_supersampled_model.distances >= 0], 'distances', 2, 9)\n",
    "    find_longest_distance(data_supersampled_model, 'similar_words', 3, 9)\n",
    "    find_longest_distance(data_supersampled_model, 'answer_lenght', 1, 6)\n",
    "    compute_metrics_average_split(data_supersampled_model, 'cosine_similarity', 0.10)\n",
    "    compute_metrics_average_split(data_supersampled_model, 'cosine_similarity', 0.20)\n",
    "    compute_metrics_average_split(data_supersampled_model, 'cosine_similarity', 0.30)\n",
    "    compute_metrics_average_split(data_supersampled_model, 'cosine_similarity', 0.40)\n",
    "    compute_metrics_average_split(data_supersampled_model, 'cosine_similarity', 0.50)\n",
    "    compute_metrics_average_split(data_supersampled_model, 'cosine_similarity', 0.60)\n",
    "    find_longest_distance(data_supersampled_model, 'max_sim_ents', 0, 5)\n",
    "    find_longest_distance(data_supersampled_model[data_supersampled_model.answer_subject_positions >= 0], 'answer_subject_positions', 0, 2)"
   ]
  },
  {
   "cell_type": "code",
   "execution_count": null,
   "metadata": {},
   "outputs": [],
   "source": [
    "# enhanced_squad_base_v2\n",
    "\n",
    "dataset = 'squad_base_v2'\n",
    "data_supersampled_model = pd.read_json('./from_debiased_models/enhanced_squad_base_v2.json')\n",
    "for i in range(3): #one more run\n",
    "    find_longest_distance(data_supersampled_model[data_supersampled_model.distances >= 0], 'distances', 2, 9)\n",
    "    find_longest_distance(data_supersampled_model, 'similar_words', 3, 9)\n",
    "    find_longest_distance(data_supersampled_model, 'answer_lenght', 1, 6)\n",
    "    compute_metrics_average_split(data_supersampled_model, 'cosine_similarity', 0.10)\n",
    "    compute_metrics_average_split(data_supersampled_model, 'cosine_similarity', 0.20)\n",
    "    compute_metrics_average_split(data_supersampled_model, 'cosine_similarity', 0.30)\n",
    "    compute_metrics_average_split(data_supersampled_model, 'cosine_similarity', 0.40)\n",
    "    compute_metrics_average_split(data_supersampled_model, 'cosine_similarity', 0.50)\n",
    "    compute_metrics_average_split(data_supersampled_model, 'cosine_similarity', 0.60)\n",
    "    find_longest_distance(data_supersampled_model, 'max_sim_ents', 0, 5)\n",
    "    find_longest_distance(data_supersampled_model[data_supersampled_model.answer_subject_positions >= 0], 'answer_subject_positions', 0, 2)"
   ]
  },
  {
   "cell_type": "code",
   "execution_count": null,
   "metadata": {},
   "outputs": [],
   "source": [
    "find_longest_distance(data[data.distances >= 0], 'distances', 7, 8)\n",
    "find_longest_distance(data, 'similar_words', 4, 5)\n",
    "find_longest_distance(data, 'answer_lenght', 3, 4)"
   ]
  },
  {
   "cell_type": "code",
   "execution_count": null,
   "metadata": {},
   "outputs": [],
   "source": [
    "sample_size = 450\n",
    "find_longest_distance(data, 'kth_sentence', 0, 5)"
   ]
  },
  {
   "cell_type": "code",
   "execution_count": null,
   "metadata": {},
   "outputs": [],
   "source": [
    "compute_metrics_average_split(data, 'cosine_similarity', 0.10)\n",
    "compute_metrics_average_split(data, 'cosine_similarity', 0.20)\n",
    "compute_metrics_average_split(data, 'cosine_similarity', 0.30)\n",
    "compute_metrics_average_split(data, 'cosine_similarity', 0.40)\n",
    "compute_metrics_average_split(data, 'cosine_similarity', 0.50)\n",
    "compute_metrics_average_split(data, 'cosine_similarity', 0.60)"
   ]
  },
  {
   "cell_type": "code",
   "execution_count": null,
   "metadata": {},
   "outputs": [],
   "source": [
    "sample_size = 450\n",
    "compute_metrics_average_split(data, 'cosine_similarity', 0.10)"
   ]
  },
  {
   "cell_type": "code",
   "execution_count": null,
   "metadata": {},
   "outputs": [],
   "source": [
    "sample_size = 800"
   ]
  },
  {
   "cell_type": "code",
   "execution_count": null,
   "metadata": {},
   "outputs": [],
   "source": [
    "find_longest_distance(data[data.answer_subject_positions >= 0], 'answer_subject_positions', 0, 2)"
   ]
  },
  {
   "cell_type": "code",
   "execution_count": null,
   "metadata": {},
   "outputs": [],
   "source": [
    "find_longest_distance(data, 'max_sim_ents', 0, 5)"
   ]
  },
  {
   "cell_type": "code",
   "execution_count": null,
   "metadata": {},
   "outputs": [],
   "source": [
    "find_longest_distance(data, 'question_length', 5, 16)"
   ]
  },
  {
   "cell_type": "code",
   "execution_count": null,
   "metadata": {},
   "outputs": [],
   "source": [
    "dataset = 'squad_super_all_th_2'\n",
    "data_supersampled_model = pd.read_json('./from_debiased_models/enhanced_squad_supersampled_all_th_2.json')\n",
    "for i in range(3): #one more run\n",
    "    find_longest_distance(data_supersampled_model[data_supersampled_model.distances >= 0], 'distances', 2, 9)\n",
    "    find_longest_distance(data_supersampled_model, 'similar_words', 3, 9)\n",
    "    find_longest_distance(data_supersampled_model, 'answer_lenght', 1, 6)\n",
    "    compute_metrics_average_split(data_supersampled_model, 'cosine_similarity', 0.10)\n",
    "    compute_metrics_average_split(data_supersampled_model, 'cosine_similarity', 0.20)\n",
    "    compute_metrics_average_split(data_supersampled_model, 'cosine_similarity', 0.30)\n",
    "    compute_metrics_average_split(data_supersampled_model, 'cosine_similarity', 0.40)\n",
    "    compute_metrics_average_split(data_supersampled_model, 'cosine_similarity', 0.50)\n",
    "    compute_metrics_average_split(data_supersampled_model, 'cosine_similarity', 0.60)\n",
    "    find_longest_distance(data_supersampled_model, 'max_sim_ents', 0, 5)\n",
    "    find_longest_distance(data_supersampled_model[data_supersampled_model.answer_subject_positions >= 0], 'answer_subject_positions', 0, 2)"
   ]
  },
  {
   "cell_type": "code",
   "execution_count": null,
   "metadata": {},
   "outputs": [],
   "source": [
    "dataset = 'squad_super_all_v1'\n",
    "data_supersampled_model = pd.read_json('./from_debiased_models/enhanced_squad_supersampled_all_v1.json')\n",
    "for i in range(3):\n",
    "    find_longest_distance(data_supersampled_model[data_supersampled_model.distances >= 0], 'distances', 2, 9)\n",
    "    find_longest_distance(data_supersampled_model, 'similar_words', 3, 9)\n",
    "    find_longest_distance(data_supersampled_model, 'answer_lenght', 1, 6)\n",
    "    compute_metrics_average_split(data_supersampled_model, 'cosine_similarity', 0.10)\n",
    "    compute_metrics_average_split(data_supersampled_model, 'cosine_similarity', 0.20)\n",
    "    compute_metrics_average_split(data_supersampled_model, 'cosine_similarity', 0.30)\n",
    "    compute_metrics_average_split(data_supersampled_model, 'cosine_similarity', 0.40)\n",
    "    compute_metrics_average_split(data_supersampled_model, 'cosine_similarity', 0.50)\n",
    "    compute_metrics_average_split(data_supersampled_model, 'cosine_similarity', 0.60)\n",
    "    find_longest_distance(data_supersampled_model, 'max_sim_ents', 0, 5)\n",
    "    find_longest_distance(data_supersampled_model[data_supersampled_model.answer_subject_positions >= 0], 'answer_subject_positions', 0, 2)"
   ]
  },
  {
   "cell_type": "code",
   "execution_count": null,
   "metadata": {},
   "outputs": [],
   "source": [
    "dataset = 'squad_super_all_v2'\n",
    "data_supersampled_model = pd.read_json('./from_debiased_models/enhanced_squad_supersampled_all_v2.json')\n",
    "for i in range(3):\n",
    "    find_longest_distance(data_supersampled_model[data_supersampled_model.distances >= 0], 'distances', 2, 9)\n",
    "    find_longest_distance(data_supersampled_model, 'similar_words', 3, 9)\n",
    "    find_longest_distance(data_supersampled_model, 'answer_lenght', 1, 6)\n",
    "    compute_metrics_average_split(data_supersampled_model, 'cosine_similarity', 0.10)\n",
    "    compute_metrics_average_split(data_supersampled_model, 'cosine_similarity', 0.20)\n",
    "    compute_metrics_average_split(data_supersampled_model, 'cosine_similarity', 0.30)\n",
    "    compute_metrics_average_split(data_supersampled_model, 'cosine_similarity', 0.40)\n",
    "    compute_metrics_average_split(data_supersampled_model, 'cosine_similarity', 0.50)\n",
    "    compute_metrics_average_split(data_supersampled_model, 'cosine_similarity', 0.60)\n",
    "    find_longest_distance(data_supersampled_model, 'max_sim_ents', 0, 5)\n",
    "    find_longest_distance(data_supersampled_model[data_supersampled_model.answer_subject_positions >= 0], 'answer_subject_positions', 0, 2)"
   ]
  },
  {
   "cell_type": "code",
   "execution_count": null,
   "metadata": {},
   "outputs": [],
   "source": [
    "dataset = 'squad_super_all_dd_ns'\n",
    "data_supersampled_model = pd.read_json('./from_debiased_models/enhanced_squad_supersampled_all_dd_ns.json')\n",
    "for i in range(3):\n",
    "    find_longest_distance(data_supersampled_model[data_supersampled_model.distances >= 0], 'distances', 2, 9)\n",
    "    find_longest_distance(data_supersampled_model, 'similar_words', 3, 9)\n",
    "    find_longest_distance(data_supersampled_model, 'answer_lenght', 1, 6)\n",
    "    compute_metrics_average_split(data_supersampled_model, 'cosine_similarity', 0.10)\n",
    "    compute_metrics_average_split(data_supersampled_model, 'cosine_similarity', 0.20)\n",
    "    compute_metrics_average_split(data_supersampled_model, 'cosine_similarity', 0.30)\n",
    "    compute_metrics_average_split(data_supersampled_model, 'cosine_similarity', 0.40)\n",
    "    compute_metrics_average_split(data_supersampled_model, 'cosine_similarity', 0.50)\n",
    "    compute_metrics_average_split(data_supersampled_model, 'cosine_similarity', 0.60)\n",
    "    find_longest_distance(data_supersampled_model, 'max_sim_ents', 0, 5)\n",
    "    find_longest_distance(data_supersampled_model[data_supersampled_model.answer_subject_positions >= 0], 'answer_subject_positions', 0, 2)"
   ]
  },
  {
   "cell_type": "code",
   "execution_count": null,
   "metadata": {},
   "outputs": [],
   "source": [
    "dataset = 'squad_base'\n",
    "data = data = pd.read_json('valid_pred_labeled_with_added_from_func.json')\n",
    "for i in range(3):\n",
    "    find_longest_distance(data[data.distances >= 0], 'distances', 2, 9)\n",
    "    find_longest_distance(data, 'similar_words', 3, 9)\n",
    "    find_longest_distance(data, 'answer_lenght', 1, 6)\n",
    "    compute_metrics_average_split(data, 'cosine_similarity', 0.10)\n",
    "    compute_metrics_average_split(data, 'cosine_similarity', 0.20)\n",
    "    compute_metrics_average_split(data, 'cosine_similarity', 0.30)\n",
    "    compute_metrics_average_split(data, 'cosine_similarity', 0.40)\n",
    "    compute_metrics_average_split(data, 'cosine_similarity', 0.50)\n",
    "    compute_metrics_average_split(data, 'cosine_similarity', 0.60)\n",
    "    find_longest_distance(data, 'max_sim_ents', 0, 5)\n",
    "    find_longest_distance(data[data.answer_subject_positions >= 0], 'answer_subject_positions', 0, 2)"
   ]
  },
  {
   "cell_type": "code",
   "execution_count": null,
   "metadata": {},
   "outputs": [],
   "source": [
    "dataset = 'squad_super_cosine_similarity_01'\n",
    "data_supersampled_model = pd.read_json('./from_debiased_models/enhanced_squad_supersampled_cosine_similarity_01.json')\n",
    "for i in range(3):\n",
    "    compute_metrics_average_split(data_supersampled_model, 'cosine_similarity', 0.10)\n",
    "    compute_metrics_average_split(data_supersampled_model, 'cosine_similarity', 0.20)\n",
    "    compute_metrics_average_split(data_supersampled_model, 'cosine_similarity', 0.30)\n",
    "    compute_metrics_average_split(data_supersampled_model, 'cosine_similarity', 0.40)\n",
    "    compute_metrics_average_split(data_supersampled_model, 'cosine_similarity', 0.50)\n",
    "    compute_metrics_average_split(data_supersampled_model, 'cosine_similarity', 0.60)"
   ]
  },
  {
   "cell_type": "code",
   "execution_count": null,
   "metadata": {},
   "outputs": [],
   "source": [
    "dataset = 'squad_super_max_sim_ents_0'\n",
    "data_supersampled_model = pd.read_json('./from_debiased_models/enhanced_squad_supersampled_similar_entities_0.json')\n",
    "for i in range(3):\n",
    "    find_longest_distance(data_supersampled_model, 'max_sim_ents', 0, 5)"
   ]
  },
  {
   "cell_type": "code",
   "execution_count": null,
   "metadata": {},
   "outputs": [],
   "source": [
    "dataset = 'squad_super_ans_sub_pos_1'\n",
    "data_supersampled_model = pd.read_json('./from_debiased_models/enhanced_squad_supersampled_ans_sub_pos_1.json')\n",
    "for i in range(3):\n",
    "    find_longest_distance(data_supersampled_model[data_supersampled_model.answer_subject_positions >= 0], 'answer_subject_positions', 0, 2)"
   ]
  },
  {
   "cell_type": "code",
   "execution_count": null,
   "metadata": {},
   "outputs": [],
   "source": [
    "dataset = 'squad_base'\n",
    "data = pd.read_json('valid_pred_labeled_with_added_from_func.json')\n",
    "for i in range(4):\n",
    "    find_longest_distance(data[data.distances >= 0], 'distances', 2, 9)"
   ]
  },
  {
   "cell_type": "code",
   "execution_count": null,
   "metadata": {},
   "outputs": [],
   "source": [
    "dataset = 'squad_super_distances_7'\n",
    "data_supersampled_model = pd.read_json('./from_debiased_models/enhanced_squad_supersampled_distances_7.json')\n",
    "for i in range(4):\n",
    "    find_longest_distance(data_supersampled_model[data_supersampled_model.distances >= 0], 'distances', 2, 9)"
   ]
  },
  {
   "cell_type": "code",
   "execution_count": null,
   "metadata": {},
   "outputs": [],
   "source": [
    "dataset = 'squad_base'\n",
    "data = pd.read_json('valid_pred_labeled_with_added_from_func.json')\n",
    "for i in range(5):\n",
    "    find_longest_distance(data, 'similar_words', 3, 9)"
   ]
  },
  {
   "cell_type": "code",
   "execution_count": null,
   "metadata": {},
   "outputs": [],
   "source": [
    "dataset = 'squad_super_similar_words_4'\n",
    "data_supersampled_model = pd.read_json('./from_debiased_models/enhanced_squad_supersampled_similar_words_4.json')\n",
    "for i in range(5):\n",
    "    find_longest_distance(data_supersampled_model, 'similar_words', 3, 9)"
   ]
  },
  {
   "cell_type": "code",
   "execution_count": null,
   "metadata": {},
   "outputs": [],
   "source": [
    "dataset = 'squad_base'\n",
    "data = pd.read_json('valid_pred_labeled_with_added_from_func.json')\n",
    "for i in range(5):\n",
    "    find_longest_distance(data, 'answer_lenght', 1, 6)"
   ]
  },
  {
   "cell_type": "code",
   "execution_count": null,
   "metadata": {},
   "outputs": [],
   "source": [
    "dataset = 'squad_super_answer_length_3'\n",
    "data_supersampled_model = pd.read_json('./from_debiased_models/enhanced_squad_supersampled_answer_length_3.json')\n",
    "for i in range(5):\n",
    "    find_longest_distance(data_supersampled_model, 'answer_lenght', 1, 6)"
   ]
  },
  {
   "cell_type": "code",
   "execution_count": null,
   "metadata": {},
   "outputs": [],
   "source": [
    "# find_longest_distance(data[data.distances_new >= 0], 'distances_new', 2, 7)\n",
    "find_longest_distance(data[data.distances_new >= 0], 'distances_new', 7, 9)"
   ]
  },
  {
   "cell_type": "code",
   "execution_count": null,
   "metadata": {},
   "outputs": [],
   "source": [
    "find_longest_distance(data[data.distances >= 0], 'distances', 2, 7)"
   ]
  },
  {
   "cell_type": "code",
   "execution_count": null,
   "metadata": {},
   "outputs": [],
   "source": [
    "find_longest_distance(data, 'kth_sentence_new', 0, 5)"
   ]
  },
  {
   "cell_type": "code",
   "execution_count": null,
   "metadata": {},
   "outputs": [],
   "source": [
    "# data = data[data.answer_subject_positions >= 0]\n",
    "find_longest_distance(data[data.answer_subject_positions >= 0], 'answer_subject_positions', 0, 2)"
   ]
  },
  {
   "cell_type": "code",
   "execution_count": null,
   "metadata": {},
   "outputs": [],
   "source": [
    "data = data[data.answer_subject_positions >= 0]\n",
    "find_longest_distance(data, 'answer_subject_positions', 0, 2)"
   ]
  },
  {
   "cell_type": "code",
   "execution_count": null,
   "metadata": {},
   "outputs": [],
   "source": [
    "data = data[data.answer_subject_positions >= 0]\n",
    "find_longest_distance(data, 'answer_subject_positions', 0, 2)"
   ]
  },
  {
   "cell_type": "code",
   "execution_count": null,
   "metadata": {},
   "outputs": [],
   "source": [
    "# data = data[data.subject_in_context_count >= 0]\n",
    "find_longest_distance(data[data.subject_in_context_count >= 0], 'subject_in_context_count', 0, 3)"
   ]
  },
  {
   "cell_type": "code",
   "execution_count": null,
   "metadata": {},
   "outputs": [],
   "source": [
    "find_longest_distance(data, 'max_sim_ents', 0, 5)"
   ]
  },
  {
   "cell_type": "code",
   "execution_count": null,
   "metadata": {},
   "outputs": [],
   "source": [
    "find_longest_distance(data, 'max_sim_ents', 0, 5)"
   ]
  },
  {
   "cell_type": "code",
   "execution_count": null,
   "metadata": {},
   "outputs": [],
   "source": [
    "find_longest_distance(data, 'subject_in_context_count', 0, 2)"
   ]
  },
  {
   "cell_type": "code",
   "execution_count": null,
   "metadata": {},
   "outputs": [],
   "source": [
    "find_longest_distance(data, 'answer_subject_positions', 0, 2)"
   ]
  },
  {
   "cell_type": "code",
   "execution_count": null,
   "metadata": {},
   "outputs": [],
   "source": [
    "find_longest_distance(data, 'answer_subject_positions', 0, 5)"
   ]
  },
  {
   "cell_type": "code",
   "execution_count": null,
   "metadata": {},
   "outputs": [],
   "source": [
    "find_longest_distance(data, 'distances_new', 2, 7)"
   ]
  },
  {
   "cell_type": "code",
   "execution_count": null,
   "metadata": {},
   "outputs": [],
   "source": [
    "find_longest_distance(data, 'distances', 2, 7)"
   ]
  },
  {
   "cell_type": "code",
   "execution_count": null,
   "metadata": {},
   "outputs": [],
   "source": [
    "data.loc[data['distances'] == -1, 'distances'] = 1000\n",
    "data['distances'].value_counts()"
   ]
  },
  {
   "cell_type": "code",
   "execution_count": null,
   "metadata": {},
   "outputs": [],
   "source": [
    "find_longest_distance(data, 'distances', 2, 7)"
   ]
  },
  {
   "cell_type": "code",
   "execution_count": null,
   "metadata": {},
   "outputs": [],
   "source": [
    "find_longest_distance(data, 'answer_lenght', 1, 5)"
   ]
  },
  {
   "cell_type": "code",
   "execution_count": null,
   "metadata": {},
   "outputs": [],
   "source": [
    "for size in range(200, 1100, 100):\n",
    "    sample_size = size\n",
    "    for iters in range(100, 600, 100):\n",
    "        num_samples = iters\n",
    "        find_longest_distance(data, 'distances', 2, 7)"
   ]
  },
  {
   "cell_type": "code",
   "execution_count": null,
   "metadata": {},
   "outputs": [],
   "source": [
    "for size in range(900, 1100, 100):\n",
    "    sample_size = size\n",
    "    for iters in range(100, 600, 100):\n",
    "        num_samples = iters\n",
    "        find_longest_distance(data, 'distances', 2, 7)"
   ]
  },
  {
   "cell_type": "code",
   "execution_count": null,
   "metadata": {},
   "outputs": [],
   "source": [
    "for size in range(200, 1100, 100):\n",
    "    sample_size = size\n",
    "    for iters in range(100, 600, 100):\n",
    "        num_samples = iters\n",
    "        find_longest_distance(data, 'similar_words', 3, 10)"
   ]
  },
  {
   "cell_type": "code",
   "execution_count": null,
   "metadata": {},
   "outputs": [],
   "source": [
    "for size in range(200, 1100, 200):\n",
    "    sample_size = size\n",
    "    for iters in range(100, 600, 200):\n",
    "        num_samples = iters\n",
    "        find_longest_distance(data, 'kth_sentence', 0, 5)"
   ]
  },
  {
   "cell_type": "code",
   "execution_count": null,
   "metadata": {},
   "outputs": [],
   "source": [
    "for size in range(200, 1100, 200):\n",
    "    sample_size = size\n",
    "    for iters in range(100, 600, 200):\n",
    "        num_samples = iters\n",
    "        compute_metrics_average_split(data, 'cosine_similarity', 0.10)\n",
    "        compute_metrics_average_split(data, 'cosine_similarity', 0.20)\n",
    "        compute_metrics_average_split(data, 'cosine_similarity', 0.30)\n",
    "        compute_metrics_average_split(data, 'cosine_similarity', 0.40)\n",
    "        compute_metrics_average_split(data, 'cosine_similarity', 0.50)\n",
    "        compute_metrics_average_split(data, 'cosine_similarity', 0.60)"
   ]
  },
  {
   "cell_type": "code",
   "execution_count": null,
   "metadata": {},
   "outputs": [],
   "source": []
  },
  {
   "cell_type": "code",
   "execution_count": null,
   "metadata": {},
   "outputs": [],
   "source": [
    "find_longest_distance(data, 'distances', 2, 7)"
   ]
  },
  {
   "cell_type": "code",
   "execution_count": null,
   "metadata": {},
   "outputs": [],
   "source": [
    "find_longest_distance(data, 'similar_words', 3, 10)"
   ]
  },
  {
   "cell_type": "code",
   "execution_count": null,
   "metadata": {},
   "outputs": [],
   "source": [
    "find_longest_distance(data, 'similar_words', 2, 6)"
   ]
  },
  {
   "cell_type": "code",
   "execution_count": null,
   "metadata": {},
   "outputs": [],
   "source": [
    "find_longest_distance(data, 'kth_sentence', 0, 5) #zvacsit interval, skusit pre vacsie k\n",
    "# find_longest_distance(data, 'kth_sentence', 5, 8) #zvacsit interval, skusit pre vacsie k\n",
    "# find_longest_distance(data, 'kth_sentence', 1, 5) #zvacsit interval, skusit pre vacsie k"
   ]
  },
  {
   "cell_type": "code",
   "execution_count": null,
   "metadata": {},
   "outputs": [],
   "source": [
    "num_samples = 200\n",
    "sample_size = 1000\n",
    "\n",
    "find_longest_distance(data, 'kth_sentence', 4, 6)"
   ]
  },
  {
   "cell_type": "code",
   "execution_count": null,
   "metadata": {},
   "outputs": [],
   "source": [
    "compute_metrics_average_split(data, 'cosine_similarity', 0.10)"
   ]
  },
  {
   "cell_type": "code",
   "execution_count": null,
   "metadata": {},
   "outputs": [],
   "source": [
    "compute_metrics_average_split(data, 'cosine_similarity', 0.15)"
   ]
  },
  {
   "cell_type": "code",
   "execution_count": null,
   "metadata": {},
   "outputs": [],
   "source": [
    "compute_metrics_average_split(data, 'cosine_similarity', 0.20)"
   ]
  },
  {
   "cell_type": "code",
   "execution_count": null,
   "metadata": {},
   "outputs": [],
   "source": [
    "compute_metrics_average_split(data, 'cosine_similarity', 0.25)"
   ]
  },
  {
   "cell_type": "code",
   "execution_count": null,
   "metadata": {},
   "outputs": [],
   "source": [
    "compute_metrics_average_split(data, 'cosine_similarity', 0.30)"
   ]
  },
  {
   "cell_type": "code",
   "execution_count": null,
   "metadata": {},
   "outputs": [],
   "source": [
    "compute_metrics_average_split(data, 'cosine_similarity', 0.35)"
   ]
  },
  {
   "cell_type": "code",
   "execution_count": null,
   "metadata": {},
   "outputs": [],
   "source": [
    "compute_metrics_average_split(data, 'cosine_similarity', 0.40)"
   ]
  },
  {
   "cell_type": "code",
   "execution_count": null,
   "metadata": {},
   "outputs": [],
   "source": [
    "compute_metrics_average_split(data, 'cosine_similarity', 0.45)"
   ]
  },
  {
   "cell_type": "code",
   "execution_count": null,
   "metadata": {},
   "outputs": [],
   "source": [
    "compute_metrics_average_split(data, 'cosine_similarity', 0.50)"
   ]
  },
  {
   "cell_type": "code",
   "execution_count": null,
   "metadata": {},
   "outputs": [],
   "source": [
    "compute_metrics_average_split(data, 'cosine_similarity', 0.55)"
   ]
  },
  {
   "cell_type": "code",
   "execution_count": null,
   "metadata": {},
   "outputs": [],
   "source": []
  },
  {
   "cell_type": "code",
   "execution_count": null,
   "metadata": {},
   "outputs": [],
   "source": [
    "compute_metrics_average_split(data, 'distances', 5)"
   ]
  },
  {
   "cell_type": "code",
   "execution_count": null,
   "metadata": {},
   "outputs": [],
   "source": [
    "compute_metrics_average_split(data, 'distances', 6)"
   ]
  },
  {
   "cell_type": "code",
   "execution_count": null,
   "metadata": {},
   "outputs": [],
   "source": [
    "index_em = 0\n",
    "index_f1 = 0\n",
    "max_em_distance = 0\n",
    "max_f1_distance = 0\n",
    "\n",
    "distance_em = 0\n",
    "distance_f1 = 0\n",
    "\n",
    "for i in range(3, 6, 1):\n",
    "    distance_em, distance_f1 = compute_metrics_average_split(data, 'similar_words', i)\n",
    "    if distance_em > max_em_distance:\n",
    "        max_em_distance = distance_em\n",
    "        index_em = i\n",
    "    if distance_f1 > max_f1_distance:\n",
    "        max_f1_distance = distance_f1\n",
    "        index_f1 = i\n",
    "\n",
    "print(f\"The biggest distance between exact match intervals was with threshold {index_em} and the distance was {max_em_distance}.\")\n",
    "print(f\"The biggest distance between f1 intervals was with threshold {index_f1} and the distance was {max_f1_distance}.\")"
   ]
  },
  {
   "cell_type": "code",
   "execution_count": null,
   "metadata": {},
   "outputs": [],
   "source": [
    "compute_metrics_average_split(data, 'similar_words', 2)"
   ]
  },
  {
   "cell_type": "code",
   "execution_count": null,
   "metadata": {},
   "outputs": [],
   "source": [
    "compute_metrics_average_split(data, 'distances', 3)"
   ]
  },
  {
   "cell_type": "code",
   "execution_count": null,
   "metadata": {},
   "outputs": [],
   "source": [
    "compute_metrics_average_split(data, 'similar_words', 4)"
   ]
  },
  {
   "cell_type": "code",
   "execution_count": null,
   "metadata": {},
   "outputs": [],
   "source": [
    "compute_metrics_average_split(data, 'kth_sentence', 3)"
   ]
  },
  {
   "cell_type": "code",
   "execution_count": null,
   "metadata": {},
   "outputs": [],
   "source": [
    "compute_metrics_average_split(data, 'kth_sentence', 2)"
   ]
  },
  {
   "cell_type": "code",
   "execution_count": null,
   "metadata": {},
   "outputs": [],
   "source": [
    "compute_metrics_average_split(data, 'kth_sentence', 1)"
   ]
  },
  {
   "cell_type": "code",
   "execution_count": null,
   "metadata": {},
   "outputs": [],
   "source": [
    "compute_metrics_average_split(data, 'cosine_similarity', 0.35)"
   ]
  },
  {
   "cell_type": "code",
   "execution_count": null,
   "metadata": {},
   "outputs": [],
   "source": [
    "compute_metrics_average_split(data, 'cosine_similarity', 0.25)"
   ]
  },
  {
   "cell_type": "code",
   "execution_count": null,
   "metadata": {},
   "outputs": [],
   "source": [
    "compute_metrics_average_split(data, 'cosine_similarity', 0.45)"
   ]
  },
  {
   "cell_type": "markdown",
   "metadata": {},
   "source": [
    "### Older segments of code, now used in functions above"
   ]
  },
  {
   "cell_type": "code",
   "execution_count": null,
   "metadata": {},
   "outputs": [],
   "source": [
    "data_distances = data[data.distances >= 0]\n",
    "data_higher, data_lower = [x for _, x in data.groupby(data_distances['distances'] <= 3)]"
   ]
  },
  {
   "cell_type": "code",
   "execution_count": null,
   "metadata": {},
   "outputs": [],
   "source": [
    "exact_list_lower = []\n",
    "f1_list_lower = []\n",
    "\n",
    "for i in tqdm(range(num_samples)):\n",
    "    df = data_lower.sample(n=sample_size)\n",
    "    sample = Dataset.from_pandas(df)\n",
    "    metrics1 = compute_metrics_for_sample(sample)\n",
    "    exact_list_lower.append(metrics1['exact_match'])\n",
    "    f1_list_lower.append(metrics1['f1'])"
   ]
  },
  {
   "cell_type": "code",
   "execution_count": null,
   "metadata": {},
   "outputs": [],
   "source": [
    "d_lower = {'exact_match': exact_list_lower, 'f1': f1_list_lower}\n",
    "d_lower\n",
    "lower_than_4 = pd.DataFrame(d_lower)\n",
    "lower_than_4"
   ]
  },
  {
   "cell_type": "code",
   "execution_count": null,
   "metadata": {},
   "outputs": [],
   "source": [
    "exact_list_higher = []\n",
    "f1_list_higher = []\n",
    "\n",
    "for i in tqdm(range(num_samples)):\n",
    "    df = data_higher.sample(n=sample_size)\n",
    "    sample = Dataset.from_pandas(df)\n",
    "    metrics1 = compute_metrics_for_sample(sample)\n",
    "    exact_list_higher.append(metrics1['exact_match'])\n",
    "    f1_list_higher.append(metrics1['f1'])"
   ]
  },
  {
   "cell_type": "code",
   "execution_count": null,
   "metadata": {},
   "outputs": [],
   "source": [
    "d_higher = {'exact_match': exact_list_higher, 'f1': f1_list_higher}\n",
    "d_higher\n",
    "higher_than_4 = pd.DataFrame(d_higher)\n",
    "higher_than_4"
   ]
  },
  {
   "cell_type": "markdown",
   "metadata": {},
   "source": [
    "### Quantiles"
   ]
  },
  {
   "cell_type": "code",
   "execution_count": null,
   "metadata": {},
   "outputs": [],
   "source": [
    "lower_than_4.quantile([0.025, 0.975])"
   ]
  },
  {
   "cell_type": "code",
   "execution_count": null,
   "metadata": {},
   "outputs": [],
   "source": [
    "higher_than_4.quantile([0.025, 0.975])"
   ]
  },
  {
   "cell_type": "code",
   "execution_count": null,
   "metadata": {},
   "outputs": [],
   "source": [
    "lower_than_4.describe()"
   ]
  },
  {
   "cell_type": "code",
   "execution_count": null,
   "metadata": {},
   "outputs": [],
   "source": [
    "higher_than_4.describe()"
   ]
  },
  {
   "cell_type": "markdown",
   "metadata": {},
   "source": [
    "### Spliting of the data\n",
    "\n",
    "#### Based on count of the similar words between question and context - lower or equal to 4 and higher than 4"
   ]
  },
  {
   "cell_type": "code",
   "execution_count": null,
   "metadata": {},
   "outputs": [],
   "source": [
    "data_similar_words_higher, data_similar_words_lower = [x for _, x in data.groupby(data['similar_words'] <= 4)]\n",
    "print('Higher count data len: ', len(data_similar_words_higher))\n",
    "print('Lower count data len: ', len(data_similar_words_lower))"
   ]
  },
  {
   "cell_type": "markdown",
   "metadata": {},
   "source": [
    "### Computation of metrics for samples"
   ]
  },
  {
   "cell_type": "code",
   "execution_count": null,
   "metadata": {},
   "outputs": [],
   "source": [
    "exact_list_similar_words_lower = []\n",
    "f1_list_similar_words_lower = []\n",
    "\n",
    "for i in tqdm(range(num_samples)):\n",
    "    df = data_similar_words_lower.sample(n=sample_size)\n",
    "    sample = Dataset.from_pandas(df)\n",
    "    metrics1 = compute_metrics_for_sample(sample)\n",
    "    exact_list_similar_words_lower.append(metrics1['exact_match'])\n",
    "    f1_list_similar_words_lower.append(metrics1['f1'])"
   ]
  },
  {
   "cell_type": "code",
   "execution_count": null,
   "metadata": {},
   "outputs": [],
   "source": [
    "d_similar_words_lower = {'exact_match': exact_list_similar_words_lower, 'f1': f1_list_similar_words_lower}\n",
    "d_similar_words_lower\n",
    "lower_similar_words_than_4 = pd.DataFrame(d_similar_words_lower)\n",
    "lower_similar_words_than_4"
   ]
  },
  {
   "cell_type": "code",
   "execution_count": null,
   "metadata": {},
   "outputs": [],
   "source": [
    "exact_list_similar_words_higher = []\n",
    "f1_list_similar_words_higher = []\n",
    "\n",
    "for i in tqdm(range(num_samples)):\n",
    "    df = data_similar_words_higher.sample(n=sample_size)\n",
    "    sample = Dataset.from_pandas(df)\n",
    "    metrics1 = compute_metrics_for_sample(sample)\n",
    "    exact_list_similar_words_higher.append(metrics1['exact_match'])\n",
    "    f1_list_similar_words_higher.append(metrics1['f1'])"
   ]
  },
  {
   "cell_type": "code",
   "execution_count": null,
   "metadata": {},
   "outputs": [],
   "source": [
    "d_similar_words_higher = {'exact_match': exact_list_similar_words_higher, 'f1': f1_list_similar_words_higher}\n",
    "d_similar_words_higher\n",
    "higher_similar_words_than_4 = pd.DataFrame(d_similar_words_higher)\n",
    "higher_similar_words_than_4"
   ]
  },
  {
   "cell_type": "markdown",
   "metadata": {},
   "source": [
    "### Quantiles"
   ]
  },
  {
   "cell_type": "code",
   "execution_count": null,
   "metadata": {},
   "outputs": [],
   "source": [
    "lower_similar_words_than_4.quantile([0.025, 0.975])"
   ]
  },
  {
   "cell_type": "code",
   "execution_count": null,
   "metadata": {},
   "outputs": [],
   "source": [
    "higher_similar_words_than_4.quantile([0.025, 0.975])"
   ]
  },
  {
   "cell_type": "code",
   "execution_count": null,
   "metadata": {},
   "outputs": [],
   "source": [
    "lower_similar_words_than_4.describe()"
   ]
  },
  {
   "cell_type": "code",
   "execution_count": null,
   "metadata": {},
   "outputs": [],
   "source": [
    "higher_similar_words_than_4.describe()"
   ]
  }
 ],
 "metadata": {
  "interpreter": {
   "hash": "569a757a01cdb4b60427842d21e51437554d03ae861a77cdc906599df27e9140"
  },
  "kernelspec": {
   "display_name": "Python 3.7.9 ('env-QA')",
   "language": "python",
   "name": "python3"
  },
  "language_info": {
   "codemirror_mode": {
    "name": "ipython",
    "version": 3
   },
   "file_extension": ".py",
   "mimetype": "text/x-python",
   "name": "python",
   "nbconvert_exporter": "python",
   "pygments_lexer": "ipython3",
   "version": "3.7.13"
  },
  "orig_nbformat": 4
 },
 "nbformat": 4,
 "nbformat_minor": 2
}
