{
 "cells": [
  {
   "cell_type": "code",
   "execution_count": 13,
   "metadata": {},
   "outputs": [],
   "source": [
    "from datasets import Dataset\n",
    "from datasets import load_dataset, load_metric\n",
    "import nltk\n",
    "from nltk import tokenize\n",
    "from statistics import mean\n",
    "from tqdm import tqdm\n",
    "import pandas as pd"
   ]
  },
  {
   "cell_type": "code",
   "execution_count": 9,
   "metadata": {},
   "outputs": [],
   "source": [
    "def compute_params(data):\n",
    "    context_len = []\n",
    "    question_len = []\n",
    "    for i in tqdm(range(len(data))):\n",
    "        context_len.append(len(nltk.word_tokenize(data['context'][i])))\n",
    "        question_len.append(len(nltk.word_tokenize(data['question'][i])))\n",
    "\n",
    "    return len(data) ,mean(context_len), mean(question_len)"
   ]
  },
  {
   "cell_type": "code",
   "execution_count": 3,
   "metadata": {},
   "outputs": [
    {
     "name": "stderr",
     "output_type": "stream",
     "text": [
      "Reusing dataset squad (/home/luki/.cache/huggingface/datasets/squad/plain_text/1.0.0/d6ec3ceb99ca480ce37cdd35555d6cb2511d223b9150cce08a837ef62ffea453)\n",
      "100%|██████████| 2/2 [00:00<00:00, 13.50it/s]\n"
     ]
    }
   ],
   "source": [
    "datasets = load_dataset(\"squad\")"
   ]
  },
  {
   "cell_type": "code",
   "execution_count": 10,
   "metadata": {},
   "outputs": [
    {
     "name": "stderr",
     "output_type": "stream",
     "text": [
      "100%|██████████| 10570/10570 [04:01<00:00, 43.79it/s]\n"
     ]
    },
    {
     "data": {
      "text/plain": [
       "(10570, 141.98514664143804, 11.44314096499527)"
      ]
     },
     "execution_count": 10,
     "metadata": {},
     "output_type": "execute_result"
    }
   ],
   "source": [
    "compute_params(datasets['validation'])"
   ]
  },
  {
   "cell_type": "code",
   "execution_count": 11,
   "metadata": {},
   "outputs": [
    {
     "name": "stderr",
     "output_type": "stream",
     "text": [
      "Downloading builder script: 9.06kB [00:00, 6.87MB/s]                   \n",
      "Downloading metadata: 19.3kB [00:00, 13.3MB/s]                   \n",
      "Reusing dataset adversarial_qa (/home/luki/.cache/huggingface/datasets/adversarial_qa/adversarialQA/1.0.0/92356be07b087c5c6a543138757828b8d61ca34de8a87807d40bbc0e6c68f04b)\n",
      "100%|██████████| 3/3 [00:00<00:00, 132.26it/s]\n"
     ]
    }
   ],
   "source": [
    "datasets = load_dataset(\"adversarial_qa\", \"adversarialQA\")"
   ]
  },
  {
   "cell_type": "code",
   "execution_count": 12,
   "metadata": {},
   "outputs": [
    {
     "name": "stderr",
     "output_type": "stream",
     "text": [
      "100%|██████████| 3000/3000 [00:24<00:00, 124.43it/s]\n"
     ]
    },
    {
     "data": {
      "text/plain": [
       "(3000, 131.789, 11.162666666666667)"
      ]
     },
     "execution_count": 12,
     "metadata": {},
     "output_type": "execute_result"
    }
   ],
   "source": [
    "compute_params(datasets['validation'])"
   ]
  },
  {
   "cell_type": "code",
   "execution_count": 14,
   "metadata": {},
   "outputs": [],
   "source": [
    "data = pd.read_json('./datasets/nq_dev_formatted.json')"
   ]
  },
  {
   "cell_type": "code",
   "execution_count": 15,
   "metadata": {},
   "outputs": [
    {
     "name": "stderr",
     "output_type": "stream",
     "text": [
      "100%|██████████| 2356/2356 [00:01<00:00, 1310.26it/s]\n"
     ]
    },
    {
     "data": {
      "text/plain": [
       "(2356, 112.28353140916808, 9.221561969439728)"
      ]
     },
     "execution_count": 15,
     "metadata": {},
     "output_type": "execute_result"
    }
   ],
   "source": [
    "compute_params(data)"
   ]
  },
  {
   "cell_type": "code",
   "execution_count": 16,
   "metadata": {},
   "outputs": [],
   "source": [
    "data = pd.read_json('./datasets/triviaqa_dev_formatted.json')"
   ]
  },
  {
   "cell_type": "code",
   "execution_count": 17,
   "metadata": {},
   "outputs": [
    {
     "name": "stderr",
     "output_type": "stream",
     "text": [
      "100%|██████████| 9835/9835 [00:40<00:00, 240.18it/s]\n"
     ]
    },
    {
     "data": {
      "text/plain": [
       "(9835, 732.772445348246, 17.253482460599898)"
      ]
     },
     "execution_count": 17,
     "metadata": {},
     "output_type": "execute_result"
    }
   ],
   "source": [
    "compute_params(data)"
   ]
  },
  {
   "cell_type": "code",
   "execution_count": 20,
   "metadata": {},
   "outputs": [],
   "source": [
    "data = pd.read_json('./datasets/squad_train.json')"
   ]
  },
  {
   "cell_type": "code",
   "execution_count": 21,
   "metadata": {},
   "outputs": [
    {
     "name": "stderr",
     "output_type": "stream",
     "text": [
      "100%|██████████| 87599/87599 [01:19<00:00, 1103.62it/s]\n"
     ]
    },
    {
     "data": {
      "text/plain": [
       "(87599, 137.87632278907293, 11.286761264397995)"
      ]
     },
     "execution_count": 21,
     "metadata": {},
     "output_type": "execute_result"
    }
   ],
   "source": [
    "compute_params(data)"
   ]
  }
 ],
 "metadata": {
  "interpreter": {
   "hash": "569a757a01cdb4b60427842d21e51437554d03ae861a77cdc906599df27e9140"
  },
  "kernelspec": {
   "display_name": "Python 3.7.9 ('env-QA')",
   "language": "python",
   "name": "python3"
  },
  "language_info": {
   "codemirror_mode": {
    "name": "ipython",
    "version": 3
   },
   "file_extension": ".py",
   "mimetype": "text/x-python",
   "name": "python",
   "nbconvert_exporter": "python",
   "pygments_lexer": "ipython3",
   "version": "3.7.13"
  },
  "orig_nbformat": 4
 },
 "nbformat": 4,
 "nbformat_minor": 2
}
